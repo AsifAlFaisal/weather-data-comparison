{
  "nbformat": 4,
  "nbformat_minor": 0,
  "metadata": {
    "colab": {
      "name": "Historical vs Observed Temperature Data.ipynb",
      "provenance": [],
      "collapsed_sections": [],
      "include_colab_link": true
    },
    "kernelspec": {
      "name": "python3",
      "display_name": "Python 3"
    },
    "accelerator": "GPU"
  },
  "cells": [
    {
      "cell_type": "markdown",
      "metadata": {
        "id": "view-in-github",
        "colab_type": "text"
      },
      "source": [
        "<a href=\"https://colab.research.google.com/github/AsifAlFaisal/weather-data-comparison/blob/master/Historical_vs_Observed_Temperature_Data.ipynb\" target=\"_parent\"><img src=\"https://colab.research.google.com/assets/colab-badge.svg\" alt=\"Open In Colab\"/></a>"
      ]
    },
    {
      "cell_type": "markdown",
      "metadata": {
        "id": "SfEboAOGhtSz",
        "colab_type": "text"
      },
      "source": [
        "**Author:** ©*Asif Al Faisal*\n",
        "\n",
        "**Email:** asif.faisal.eee@gmail.com\n",
        "\n",
        "**Organization:** CIMMYT"
      ]
    },
    {
      "cell_type": "code",
      "metadata": {
        "id": "ok8ziS31WhUu",
        "colab_type": "code",
        "colab": {}
      },
      "source": [
        "import pandas as pd\n",
        "import calendar\n",
        "import plotly.offline as pyo\n",
        "import plotly.graph_objs as go"
      ],
      "execution_count": 0,
      "outputs": []
    },
    {
      "cell_type": "code",
      "metadata": {
        "id": "GLHe9hs8WiGi",
        "colab_type": "code",
        "outputId": "c711c5ab-4ce4-4d81-ab0f-519f64f2de8a",
        "colab": {
          "base_uri": "https://localhost:8080/",
          "height": 122
        }
      },
      "source": [
        "from google.colab import drive\n",
        "drive.mount('/content/drive')"
      ],
      "execution_count": 0,
      "outputs": [
        {
          "output_type": "stream",
          "text": [
            "Go to this URL in a browser: https://accounts.google.com/o/oauth2/auth?client_id=947318989803-6bn6qk8qdgf4n4g3pfee6491hc0brc4i.apps.googleusercontent.com&redirect_uri=urn%3aietf%3awg%3aoauth%3a2.0%3aoob&response_type=code&scope=email%20https%3a%2f%2fwww.googleapis.com%2fauth%2fdocs.test%20https%3a%2f%2fwww.googleapis.com%2fauth%2fdrive%20https%3a%2f%2fwww.googleapis.com%2fauth%2fdrive.photos.readonly%20https%3a%2f%2fwww.googleapis.com%2fauth%2fpeopleapi.readonly\n",
            "\n",
            "Enter your authorization code:\n",
            "··········\n",
            "Mounted at /content/drive\n"
          ],
          "name": "stdout"
        }
      ]
    },
    {
      "cell_type": "code",
      "metadata": {
        "id": "pKQtRp_AWnYr",
        "colab_type": "code",
        "colab": {}
      },
      "source": [
        "tmax_df = pd.read_csv('/content/drive/My Drive/Colab Notebooks/CIMMYT/191219/Tmax_BMD_final.csv')\n",
        "tmin_df = pd.read_csv('/content/drive/My Drive/Colab Notebooks/CIMMYT/191219/Tmin_BMD_final.csv')\n",
        "#obs_df = pd.read_csv('/content/drive/My Drive/Colab Notebooks/CIMMYT/191202/jas18.csv')\n",
        "din_df = pd.read_csv('/content/drive/My Drive/Colab Notebooks/CIMMYT/191219/din19.csv')\n",
        "raj_df = pd.read_csv('/content/drive/My Drive/Colab Notebooks/CIMMYT/191219/raj19.csv')\n",
        "bho_df = pd.read_csv('/content/drive/My Drive/Colab Notebooks/CIMMYT/191219/bhola19.csv')"
      ],
      "execution_count": 0,
      "outputs": []
    },
    {
      "cell_type": "code",
      "metadata": {
        "id": "8O23NycseTW3",
        "colab_type": "code",
        "colab": {}
      },
      "source": [
        "obs_df.columns = ['Year', 'Month', 'Day', 'ObsMax', 'ObsMin']"
      ],
      "execution_count": 0,
      "outputs": []
    },
    {
      "cell_type": "code",
      "metadata": {
        "id": "QVoeHMvAXJuA",
        "colab_type": "code",
        "colab": {}
      },
      "source": [
        "tmin_jas = tmin_df[['Year','Month','Day','Jashore']]\n",
        "tmax_jas = tmax_df[['Jashore']]\n",
        "tmin_jas.columns = ['Year','Month','Day','Min']\n",
        "tmax_jas.columns = ['Max']"
      ],
      "execution_count": 0,
      "outputs": []
    },
    {
      "cell_type": "code",
      "metadata": {
        "id": "ooIz_stuXVSP",
        "colab_type": "code",
        "colab": {}
      },
      "source": [
        "history_jas = pd.concat([tmin_jas,tmax_jas], axis=1, sort=False)"
      ],
      "execution_count": 0,
      "outputs": []
    },
    {
      "cell_type": "code",
      "metadata": {
        "id": "b351u_TxXa4c",
        "colab_type": "code",
        "outputId": "8524d779-0a94-42c9-8211-5a38c2d68151",
        "colab": {
          "base_uri": "https://localhost:8080/",
          "height": 204
        }
      },
      "source": [
        "history_jas.head()"
      ],
      "execution_count": 0,
      "outputs": [
        {
          "output_type": "execute_result",
          "data": {
            "text/html": [
              "<div>\n",
              "<style scoped>\n",
              "    .dataframe tbody tr th:only-of-type {\n",
              "        vertical-align: middle;\n",
              "    }\n",
              "\n",
              "    .dataframe tbody tr th {\n",
              "        vertical-align: top;\n",
              "    }\n",
              "\n",
              "    .dataframe thead th {\n",
              "        text-align: right;\n",
              "    }\n",
              "</style>\n",
              "<table border=\"1\" class=\"dataframe\">\n",
              "  <thead>\n",
              "    <tr style=\"text-align: right;\">\n",
              "      <th></th>\n",
              "      <th>Year</th>\n",
              "      <th>Month</th>\n",
              "      <th>Day</th>\n",
              "      <th>Min</th>\n",
              "      <th>Max</th>\n",
              "    </tr>\n",
              "  </thead>\n",
              "  <tbody>\n",
              "    <tr>\n",
              "      <th>0</th>\n",
              "      <td>1984</td>\n",
              "      <td>1</td>\n",
              "      <td>1</td>\n",
              "      <td>7.3</td>\n",
              "      <td>23.6</td>\n",
              "    </tr>\n",
              "    <tr>\n",
              "      <th>1</th>\n",
              "      <td>1984</td>\n",
              "      <td>1</td>\n",
              "      <td>2</td>\n",
              "      <td>9.5</td>\n",
              "      <td>28.0</td>\n",
              "    </tr>\n",
              "    <tr>\n",
              "      <th>2</th>\n",
              "      <td>1984</td>\n",
              "      <td>1</td>\n",
              "      <td>3</td>\n",
              "      <td>15.0</td>\n",
              "      <td>24.0</td>\n",
              "    </tr>\n",
              "    <tr>\n",
              "      <th>3</th>\n",
              "      <td>1984</td>\n",
              "      <td>1</td>\n",
              "      <td>4</td>\n",
              "      <td>12.2</td>\n",
              "      <td>25.0</td>\n",
              "    </tr>\n",
              "    <tr>\n",
              "      <th>4</th>\n",
              "      <td>1984</td>\n",
              "      <td>1</td>\n",
              "      <td>5</td>\n",
              "      <td>11.0</td>\n",
              "      <td>24.6</td>\n",
              "    </tr>\n",
              "  </tbody>\n",
              "</table>\n",
              "</div>"
            ],
            "text/plain": [
              "   Year  Month  Day   Min   Max\n",
              "0  1984      1    1   7.3  23.6\n",
              "1  1984      1    2   9.5  28.0\n",
              "2  1984      1    3  15.0  24.0\n",
              "3  1984      1    4  12.2  25.0\n",
              "4  1984      1    5  11.0  24.6"
            ]
          },
          "metadata": {
            "tags": []
          },
          "execution_count": 7
        }
      ]
    },
    {
      "cell_type": "code",
      "metadata": {
        "id": "seyiBu-iXc4R",
        "colab_type": "code",
        "colab": {}
      },
      "source": [
        "history_jas = history_jas[history_jas['Min']!=-9999.0]"
      ],
      "execution_count": 0,
      "outputs": []
    },
    {
      "cell_type": "code",
      "metadata": {
        "id": "9oLwojCuXit2",
        "colab_type": "code",
        "colab": {}
      },
      "source": [
        "history_jas['Year'] = history_jas['Year'].astype('int64')\n",
        "history_jas['Month'] = history_jas['Month'].astype('int64')"
      ],
      "execution_count": 0,
      "outputs": []
    },
    {
      "cell_type": "code",
      "metadata": {
        "id": "W2ugOUaSXso7",
        "colab_type": "code",
        "colab": {}
      },
      "source": [
        "nov = history_jas[history_jas['Month']==11].groupby(['Day']).mean()\n",
        "nov['minSE'] = history_jas[history_jas['Month']==11].groupby(['Day']).std()['Min']\n",
        "nov['maxSE'] = history_jas[history_jas['Month']==11].groupby(['Day']).std()['Max']\n",
        "nov = nov.reset_index()\n",
        "nov = nov[['Day','Month','Min','Max','minSE','maxSE']]\n",
        "nov['Month'] = nov['Month'].astype('int64')\n",
        "\n",
        "\n",
        "dec = history_jas[history_jas['Month']==12].groupby(['Day']).mean()\n",
        "dec['minSE'] = history_jas[history_jas['Month']==12].groupby(['Day']).std()['Min']\n",
        "dec['maxSE'] = history_jas[history_jas['Month']==12].groupby(['Day']).std()['Max']\n",
        "dec = dec.reset_index()\n",
        "dec = dec[['Day','Month','Min','Max','minSE','maxSE']]\n",
        "dec['Month'] = dec['Month'].astype('int64')\n",
        "\n",
        "\n",
        "jan = history_jas[history_jas['Month']==1].groupby(['Day']).mean()\n",
        "jan['minSE'] = history_jas[history_jas['Month']==1].groupby(['Day']).std()['Min']\n",
        "jan['maxSE'] = history_jas[history_jas['Month']==1].groupby(['Day']).std()['Max']\n",
        "jan = jan.reset_index()\n",
        "jan = jan[['Day','Month','Min','Max','minSE','maxSE']]\n",
        "jan['Month'] = jan['Month'].astype('int64')\n",
        "\n",
        "feb = history_jas[history_jas['Month']==2].groupby(['Day']).mean()\n",
        "feb['minSE'] = history_jas[history_jas['Month']==2].groupby(['Day']).std()['Min']\n",
        "feb['maxSE'] = history_jas[history_jas['Month']==2].groupby(['Day']).std()['Max']\n",
        "feb = feb.reset_index()\n",
        "feb = feb[['Day','Month','Min','Max','minSE','maxSE']]\n",
        "feb['Month'] = feb['Month'].astype('int64')"
      ],
      "execution_count": 0,
      "outputs": []
    },
    {
      "cell_type": "code",
      "metadata": {
        "id": "3dCaGfUuX3jl",
        "colab_type": "code",
        "colab": {}
      },
      "source": [
        "tot_hist = nov.append(dec).append(jan).append(feb)"
      ],
      "execution_count": 0,
      "outputs": []
    },
    {
      "cell_type": "code",
      "metadata": {
        "id": "Sr20rLu9X6vB",
        "colab_type": "code",
        "colab": {}
      },
      "source": [
        "tot_hist = tot_hist.reset_index()"
      ],
      "execution_count": 0,
      "outputs": []
    },
    {
      "cell_type": "code",
      "metadata": {
        "id": "KqEaF1u7bmEH",
        "colab_type": "code",
        "colab": {}
      },
      "source": [
        "\n",
        "tot_hist['Month'] = tot_hist['Month'].apply(lambda x: calendar.month_abbr[x])\n",
        "tot_hist[\"comb\"] = tot_hist[\"Month\"] +\"-\"+tot_hist[\"Day\"].map(str) "
      ],
      "execution_count": 0,
      "outputs": []
    },
    {
      "cell_type": "code",
      "metadata": {
        "id": "Kjijza6_cah8",
        "colab_type": "code",
        "colab": {}
      },
      "source": [
        "his_obs = pd.concat([tot_hist,obs_df[['ObsMax','ObsMin']]], axis=1, sort=False)"
      ],
      "execution_count": 0,
      "outputs": []
    },
    {
      "cell_type": "code",
      "metadata": {
        "id": "x89UBdssa3cC",
        "colab_type": "code",
        "outputId": "336a1d32-fde5-489f-b63e-8618725e041a",
        "colab": {
          "base_uri": "https://localhost:8080/",
          "height": 542
        }
      },
      "source": [
        "trace1 = go.Scatter(\n",
        "    x = his_obs.comb,\n",
        "    y = his_obs.Max,\n",
        "    mode = 'lines + markers',\n",
        "    name='Historical Max Temperature (1984-2017)',\n",
        "    error_y=dict(\n",
        "        type='data',\n",
        "        array=tot_hist.maxSE,\n",
        "        visible = True,\n",
        "        thickness = 0.5 \n",
        "    )\n",
        ")\n",
        "trace2 = go.Scatter(\n",
        "    x = his_obs.comb,\n",
        "    y = his_obs.Min,\n",
        "    mode = 'lines + markers',\n",
        "    name='Historical Min Temperature (1984-2017)',\n",
        "    error_y=dict(\n",
        "        type='data',\n",
        "        array=tot_hist.minSE,\n",
        "        visible = True,\n",
        "        thickness = 0.5 \n",
        "    )\n",
        ")\n",
        "\n",
        "trace3 = go.Scatter(\n",
        "    x = his_obs.comb,\n",
        "    y = his_obs.ObsMax,\n",
        "    mode = 'lines + markers',\n",
        "    marker = dict(size=8),\n",
        "    name='Observed Max Temperature - 2018',\n",
        ")\n",
        "trace4 = go.Scatter(\n",
        "    x = his_obs.comb,\n",
        "    y = his_obs.ObsMin,\n",
        "    mode = 'lines + markers',\n",
        "    marker = dict(size=8),\n",
        "    name='Observed Min Temperature - 2018',\n",
        ")\n",
        "\n",
        "\n",
        "data = [trace1, trace2, trace3, trace4]\n",
        "\n",
        "layout = go.Layout(\n",
        "    title = 'Jashore Station Historic vs Observed Temperature',\n",
        "    xaxis = dict(title='Days'),\n",
        "    yaxis = dict(title='Temperature'),\n",
        "    hovermode = 'closest',\n",
        ")\n",
        "\n",
        "fig = go.Figure(data=data, layout = layout)\n",
        "fig.show()"
      ],
      "execution_count": 0,
      "outputs": [
        {
          "output_type": "display_data",
          "data": {
            "text/html": [
              "<html>\n",
              "<head><meta charset=\"utf-8\" /></head>\n",
              "<body>\n",
              "    <div>\n",
              "            <script src=\"https://cdnjs.cloudflare.com/ajax/libs/mathjax/2.7.5/MathJax.js?config=TeX-AMS-MML_SVG\"></script><script type=\"text/javascript\">if (window.MathJax) {MathJax.Hub.Config({SVG: {font: \"STIX-Web\"}});}</script>\n",
              "                <script type=\"text/javascript\">window.PlotlyConfig = {MathJaxConfig: 'local'};</script>\n",
              "        <script src=\"https://cdn.plot.ly/plotly-latest.min.js\"></script>    \n",
              "            <div id=\"e8bbb817-09a8-4cff-aaa5-f3dfa42a0949\" class=\"plotly-graph-div\" style=\"height:525px; width:100%;\"></div>\n",
              "            <script type=\"text/javascript\">\n",
              "                \n",
              "                    window.PLOTLYENV=window.PLOTLYENV || {};\n",
              "                    \n",
              "                if (document.getElementById(\"e8bbb817-09a8-4cff-aaa5-f3dfa42a0949\")) {\n",
              "                    Plotly.newPlot(\n",
              "                        'e8bbb817-09a8-4cff-aaa5-f3dfa42a0949',\n",
              "                        [{\"error_y\": {\"array\": [1.6109059020662697, 1.5063768197216303, 1.6692164097144182, 2.249507769488936, 1.965150931052927, 1.3154403233164074, 1.415602515285778, 1.6738978601891494, 2.272467543091179, 1.5074621281266698, 1.4312030764323078, 2.023330939982785, 1.7004560571032235, 1.2811849740031325, 2.1771889020366406, 2.0147760764278915, 1.432675096546252, 1.4991381956871983, 1.2808057846959158, 1.1114097934853993, 1.3385448506832152, 2.1669367718653056, 1.4858692696973774, 2.027309096977582, 1.412236440793779, 0.9187539030680913, 1.9758434197201293, 1.6094999832489687, 1.6247199127877137, 1.0598700017819929, 1.1853419973256178, 1.4440640067583468, 1.1652117232809243, 1.044039187632312, 1.0387200748707008, 1.24270419870949, 1.231030755157076, 1.6932602058683075, 1.7369323666584755, 1.6563522191239373, 2.054931896204644, 2.1622778805691403, 1.9790615179874045, 1.9107445516167183, 1.5849925633973667, 1.6350358546494639, 1.911110679296336, 2.3521143823666786, 1.9430483061783623, 1.784137373510776, 2.5883325212657113, 2.801094769426479, 2.530632296827589, 1.7314846853744543, 2.291985960579549, 2.704330718418349, 2.093060003500406, 2.477997653503023, 1.7079999457308992, 1.842808927027699, 1.9519997516144902, 2.2245690964508475, 2.7451853818546876, 2.975964320411727, 2.8882406489670855, 1.9416832104747606, 1.9552229062668864, 2.315723592654304, 2.579089435690541, 2.99431427935764, 2.3441663474522514, 2.8940408377848597, 2.3223244241142944, 2.4614333606555974, 2.225776717560622, 2.7442436918548623, 2.479507814422558, 2.2604816264682865, 2.978420605759508, 2.239254395899307, 2.043765791284722, 2.907775855840248, 2.31072829225803, 2.416955849684193, 2.403912808619283, 2.372247443304306, 2.262875617572927, 1.7372940830031598, 2.4655776369400675, 1.933956350535193, 2.4476497512538096, 2.3369484345487277, 2.4511120107262667, 2.2829153110202203, 1.878188910330295, 1.8734684773094987, 1.8570888417444944, 2.5038170503746624, 2.4005644018470593, 2.0892667734456243, 2.4966358827105304, 2.4673699435841945, 2.019188255740711, 2.287564226229848, 2.5525370972423835, 2.776646947479052, 2.781842065303552, 2.756486435447435, 2.56658390495547, 2.1428486545965484, 2.1417170381863597, 2.5186647284345436, 2.6861183386171312, 2.267889860790723, 2.475723484886497, 2.5629629271864056, 2.5895184997613088, 2.482408697450215, 2.469350445381009, 1.8206700887839395, 2.053655277791284], \"thickness\": 0.5, \"type\": \"data\", \"visible\": true}, \"mode\": \"lines+markers\", \"name\": \"Historical Max Temperature (1984-2017)\", \"type\": \"scatter\", \"x\": [\"Nov-1\", \"Nov-2\", \"Nov-3\", \"Nov-4\", \"Nov-5\", \"Nov-6\", \"Nov-7\", \"Nov-8\", \"Nov-9\", \"Nov-10\", \"Nov-11\", \"Nov-12\", \"Nov-13\", \"Nov-14\", \"Nov-15\", \"Nov-16\", \"Nov-17\", \"Nov-18\", \"Nov-19\", \"Nov-20\", \"Nov-21\", \"Nov-22\", \"Nov-23\", \"Nov-24\", \"Nov-25\", \"Nov-26\", \"Nov-27\", \"Nov-28\", \"Nov-29\", \"Nov-30\", \"Dec-1\", \"Dec-2\", \"Dec-3\", \"Dec-4\", \"Dec-5\", \"Dec-6\", \"Dec-7\", \"Dec-8\", \"Dec-9\", \"Dec-10\", \"Dec-11\", \"Dec-12\", \"Dec-13\", \"Dec-14\", \"Dec-15\", \"Dec-16\", \"Dec-17\", \"Dec-18\", \"Dec-19\", \"Dec-20\", \"Dec-21\", \"Dec-22\", \"Dec-23\", \"Dec-24\", \"Dec-25\", \"Dec-26\", \"Dec-27\", \"Dec-28\", \"Dec-29\", \"Dec-30\", \"Dec-31\", \"Jan-1\", \"Jan-2\", \"Jan-3\", \"Jan-4\", \"Jan-5\", \"Jan-6\", \"Jan-7\", \"Jan-8\", \"Jan-9\", \"Jan-10\", \"Jan-11\", \"Jan-12\", \"Jan-13\", \"Jan-14\", \"Jan-15\", \"Jan-16\", \"Jan-17\", \"Jan-18\", \"Jan-19\", \"Jan-20\", \"Jan-21\", \"Jan-22\", \"Jan-23\", \"Jan-24\", \"Jan-25\", \"Jan-26\", \"Jan-27\", \"Jan-28\", \"Jan-29\", \"Jan-30\", \"Jan-31\", \"Feb-1\", \"Feb-2\", \"Feb-3\", \"Feb-4\", \"Feb-5\", \"Feb-6\", \"Feb-7\", \"Feb-8\", \"Feb-9\", \"Feb-10\", \"Feb-11\", \"Feb-12\", \"Feb-13\", \"Feb-14\", \"Feb-15\", \"Feb-16\", \"Feb-17\", \"Feb-18\", \"Feb-19\", \"Feb-20\", \"Feb-21\", \"Feb-22\", \"Feb-23\", \"Feb-24\", \"Feb-25\", \"Feb-26\", \"Feb-27\", \"Feb-28\", \"Feb-29\"], \"y\": [31.279411764705884, 31.314705882352943, 31.491176470588236, 31.21764705882353, 31.499999999999993, 31.785294117647055, 31.602941176470587, 31.45588235294117, 31.020588235294127, 31.37058823529412, 31.01176470588235, 30.635294117647064, 30.823529411764692, 30.70882352941177, 30.55, 30.435294117647057, 30.267647058823535, 30.252941176470593, 30.18823529411765, 30.185294117647064, 29.873529411764704, 29.288235294117648, 29.56470588235295, 29.317647058823532, 29.320588235294114, 29.22058823529413, 29.029411764705877, 28.826470588235292, 28.770588235294127, 28.80294117647059, 28.8264705882353, 28.520588235294124, 28.552941176470586, 28.270588235294117, 28.25, 28.04117647058823, 28.282352941176462, 27.91176470588235, 27.69411764705882, 27.879411764705885, 27.57058823529412, 27.197058823529414, 27.27058823529412, 26.976470588235294, 26.685294117647057, 26.661764705882348, 26.408823529411766, 26.229411764705876, 26.61764705882353, 26.44411764705882, 26.258823529411757, 25.74117647058823, 25.888235294117642, 26.21176470588235, 25.82058823529412, 25.641176470588235, 25.90294117647059, 25.420588235294115, 25.597058823529412, 25.526470588235295, 25.799999999999994, 25.40882352941177, 25.01764705882353, 25.1, 24.555882352941175, 24.93235294117647, 24.62058823529412, 24.950000000000003, 25.32647058823529, 24.788235294117644, 24.705882352941188, 24.77058823529412, 24.68823529411764, 25.02058823529412, 24.95294117647059, 25.294117647058826, 25.614705882352936, 25.285294117647055, 25.114705882352943, 25.37058823529412, 25.56176470588235, 24.761764705882353, 25.258823529411764, 25.511764705882353, 25.538235294117648, 25.717647058823527, 26.0, 26.261764705882356, 26.182352941176475, 26.52647058823529, 26.814705882352946, 26.94411764705882, 26.941176470588232, 27.22647058823529, 27.070588235294114, 27.326470588235292, 27.797058823529415, 27.838235294117652, 28.38235294117646, 28.673529411764708, 28.28823529411764, 28.476470588235294, 28.75, 28.808823529411757, 29.002941176470586, 28.641176470588245, 28.88823529411765, 29.0764705882353, 29.58529411764706, 29.817647058823525, 29.71764705882353, 29.77647058823529, 29.914705882352933, 30.197058823529407, 30.344117647058823, 30.397058823529413, 30.95, 30.764705882352942, 30.655882352941177, 31.297058823529408, 31.33333333333334]}, {\"error_y\": {\"array\": [2.2028178356623815, 2.092165591616758, 2.055107545403136, 1.9700611208702004, 1.9482704062212657, 1.4623620187206692, 1.6441762399516027, 1.7167518972317573, 2.010686689309611, 1.992526142314696, 2.7811579552755563, 1.9184069445743486, 2.2180349736613767, 2.1145873121938643, 2.0852273030837303, 2.0887099960059863, 2.3596523052734977, 2.577526969071776, 2.6226712784070187, 2.3290175263716173, 2.184487931365527, 2.306908557891741, 1.9249464654453812, 2.157887740567442, 1.9951657260763576, 2.0078988405820386, 1.8420131589427804, 2.2073548264310094, 2.238306910437428, 2.100074270819725, 2.1221856691298835, 2.1665583409092126, 2.683548944515715, 2.19449156443616, 1.9530131206815706, 2.135860106777109, 1.8453511469676909, 2.1153289946940235, 2.239232504752171, 2.056657378415888, 2.0449407158141026, 2.1408533624304096, 2.622569327057497, 2.7202351266728813, 2.37077422163777, 2.1379955461685887, 2.6223654124675755, 2.347557231557247, 2.3406734561155673, 2.1184445913525836, 2.265554277739389, 2.367631170992186, 2.3696555403009834, 2.473387769603369, 2.0860563309850435, 2.2069187107998403, 1.8259883656766416, 2.201338516811339, 1.5386552222795489, 1.6869426193766994, 1.7076972643077182, 1.8154835147025883, 2.68864384106557, 2.751607859243699, 3.0048564375588196, 2.3117540469562368, 2.010764259063167, 2.4912413416728403, 2.578266838992451, 3.08743644705713, 2.519466103644844, 2.9612364931945994, 3.103837254770266, 2.7811307155617477, 2.232232282395102, 2.2162923705273534, 2.595443697277934, 2.158009580051392, 2.4185999397273616, 2.470864087816944, 2.4333192928073917, 2.5373642759378683, 2.427459151512918, 2.8371171127724804, 2.727722927785461, 2.6301301622223434, 2.4893874569607357, 2.231928815813618, 2.2512266412723374, 2.4377014976818545, 2.6035489285152495, 2.396887836601407, 2.6969646898549526, 2.7238777145682525, 2.816593624130709, 2.557607226238553, 2.4258118805582183, 2.3919353510719445, 2.243511142381358, 2.330325920301849, 2.450595620421831, 2.186215117935443, 2.1414777412387536, 2.2994089762216503, 2.745672336157413, 2.627619650318129, 2.373727260063661, 2.347291456892542, 2.9035183648171845, 3.0040614219316435, 3.2873291555344886, 3.1443523771450543, 2.7788736994388854, 2.7106707998912825, 2.8344770680946363, 2.837307164012914, 3.139143927718269, 3.7608606839098626, 3.483571067120512, 2.6991333526921135, 3.794001112868108], \"thickness\": 0.5, \"type\": \"data\", \"visible\": true}, \"mode\": \"lines+markers\", \"name\": \"Historical Min Temperature (1984-2017)\", \"type\": \"scatter\", \"x\": [\"Nov-1\", \"Nov-2\", \"Nov-3\", \"Nov-4\", \"Nov-5\", \"Nov-6\", \"Nov-7\", \"Nov-8\", \"Nov-9\", \"Nov-10\", \"Nov-11\", \"Nov-12\", \"Nov-13\", \"Nov-14\", \"Nov-15\", \"Nov-16\", \"Nov-17\", \"Nov-18\", \"Nov-19\", \"Nov-20\", \"Nov-21\", \"Nov-22\", \"Nov-23\", \"Nov-24\", \"Nov-25\", \"Nov-26\", \"Nov-27\", \"Nov-28\", \"Nov-29\", \"Nov-30\", \"Dec-1\", \"Dec-2\", \"Dec-3\", \"Dec-4\", \"Dec-5\", \"Dec-6\", \"Dec-7\", \"Dec-8\", \"Dec-9\", \"Dec-10\", \"Dec-11\", \"Dec-12\", \"Dec-13\", \"Dec-14\", \"Dec-15\", \"Dec-16\", \"Dec-17\", \"Dec-18\", \"Dec-19\", \"Dec-20\", \"Dec-21\", \"Dec-22\", \"Dec-23\", \"Dec-24\", \"Dec-25\", \"Dec-26\", \"Dec-27\", \"Dec-28\", \"Dec-29\", \"Dec-30\", \"Dec-31\", \"Jan-1\", \"Jan-2\", \"Jan-3\", \"Jan-4\", \"Jan-5\", \"Jan-6\", \"Jan-7\", \"Jan-8\", \"Jan-9\", \"Jan-10\", \"Jan-11\", \"Jan-12\", \"Jan-13\", \"Jan-14\", \"Jan-15\", \"Jan-16\", \"Jan-17\", \"Jan-18\", \"Jan-19\", \"Jan-20\", \"Jan-21\", \"Jan-22\", \"Jan-23\", \"Jan-24\", \"Jan-25\", \"Jan-26\", \"Jan-27\", \"Jan-28\", \"Jan-29\", \"Jan-30\", \"Jan-31\", \"Feb-1\", \"Feb-2\", \"Feb-3\", \"Feb-4\", \"Feb-5\", \"Feb-6\", \"Feb-7\", \"Feb-8\", \"Feb-9\", \"Feb-10\", \"Feb-11\", \"Feb-12\", \"Feb-13\", \"Feb-14\", \"Feb-15\", \"Feb-16\", \"Feb-17\", \"Feb-18\", \"Feb-19\", \"Feb-20\", \"Feb-21\", \"Feb-22\", \"Feb-23\", \"Feb-24\", \"Feb-25\", \"Feb-26\", \"Feb-27\", \"Feb-28\", \"Feb-29\"], \"y\": [20.58235294117647, 20.5264705882353, 20.53235294117647, 20.135294117647057, 20.100000000000005, 19.970588235294123, 19.48235294117647, 19.29411764705882, 19.032352941176466, 18.78823529411764, 18.69705882352941, 18.21764705882353, 18.08235294117647, 17.705882352941178, 17.397058823529417, 17.682352941176468, 17.78529411764706, 17.661764705882348, 17.491176470588233, 17.285294117647062, 16.779411764705884, 15.838235294117647, 15.794117647058826, 15.844117647058825, 15.414705882352939, 15.15294117647059, 14.882352941176467, 14.702941176470588, 14.470588235294118, 14.538235294117644, 14.523529411764706, 14.523529411764708, 14.308823529411763, 13.923529411764704, 13.629411764705884, 13.814705882352941, 13.720588235294118, 13.658823529411764, 13.691176470588234, 13.552941176470588, 13.594117647058823, 13.691176470588239, 13.49705882352941, 13.28235294117647, 12.805882352941177, 12.255882352941173, 12.367647058823527, 12.555882352941175, 12.494117647058824, 12.26470588235294, 12.161764705882351, 11.791176470588235, 12.044117647058824, 11.958823529411763, 11.555882352941175, 11.27352941176471, 11.00294117647059, 11.132352941176473, 10.726470588235294, 10.670588235294119, 10.920588235294117, 11.008823529411762, 11.37058823529412, 11.332352941176469, 11.241176470588234, 10.694117647058823, 10.452941176470588, 10.908823529411762, 10.926470588235295, 11.147058823529415, 10.867647058823527, 10.632352941176471, 10.67941176470588, 10.24705882352941, 10.63235294117647, 10.567647058823528, 11.205882352941178, 11.276470588235297, 10.73529411764706, 10.97058823529412, 10.967647058823527, 11.076470588235294, 10.63235294117647, 10.85294117647059, 11.120588235294118, 10.561764705882354, 11.01470588235294, 10.697058823529416, 11.152941176470586, 11.605882352941176, 12.217647058823529, 12.008823529411767, 12.68235294117647, 12.455882352941174, 12.879411764705884, 12.547058823529413, 12.770588235294117, 13.247058823529413, 13.46176470588235, 13.544117647058822, 14.105882352941176, 14.147058823529408, 14.079411764705883, 14.238235294117644, 14.464705882352943, 14.752941176470587, 15.023529411764708, 14.98529411764706, 15.655882352941171, 15.647058823529411, 15.479411764705882, 15.582352941176469, 16.129411764705885, 16.08823529411765, 16.02941176470588, 15.838235294117654, 16.21764705882353, 16.232352941176465, 16.144117647058824, 16.720588235294116, 16.322222222222223]}, {\"marker\": {\"size\": 8}, \"mode\": \"lines+markers\", \"name\": \"Observed Max Temperature - 2018\", \"type\": \"scatter\", \"x\": [\"Nov-1\", \"Nov-2\", \"Nov-3\", \"Nov-4\", \"Nov-5\", \"Nov-6\", \"Nov-7\", \"Nov-8\", \"Nov-9\", \"Nov-10\", \"Nov-11\", \"Nov-12\", \"Nov-13\", \"Nov-14\", \"Nov-15\", \"Nov-16\", \"Nov-17\", \"Nov-18\", \"Nov-19\", \"Nov-20\", \"Nov-21\", \"Nov-22\", \"Nov-23\", \"Nov-24\", \"Nov-25\", \"Nov-26\", \"Nov-27\", \"Nov-28\", \"Nov-29\", \"Nov-30\", \"Dec-1\", \"Dec-2\", \"Dec-3\", \"Dec-4\", \"Dec-5\", \"Dec-6\", \"Dec-7\", \"Dec-8\", \"Dec-9\", \"Dec-10\", \"Dec-11\", \"Dec-12\", \"Dec-13\", \"Dec-14\", \"Dec-15\", \"Dec-16\", \"Dec-17\", \"Dec-18\", \"Dec-19\", \"Dec-20\", \"Dec-21\", \"Dec-22\", \"Dec-23\", \"Dec-24\", \"Dec-25\", \"Dec-26\", \"Dec-27\", \"Dec-28\", \"Dec-29\", \"Dec-30\", \"Dec-31\", \"Jan-1\", \"Jan-2\", \"Jan-3\", \"Jan-4\", \"Jan-5\", \"Jan-6\", \"Jan-7\", \"Jan-8\", \"Jan-9\", \"Jan-10\", \"Jan-11\", \"Jan-12\", \"Jan-13\", \"Jan-14\", \"Jan-15\", \"Jan-16\", \"Jan-17\", \"Jan-18\", \"Jan-19\", \"Jan-20\", \"Jan-21\", \"Jan-22\", \"Jan-23\", \"Jan-24\", \"Jan-25\", \"Jan-26\", \"Jan-27\", \"Jan-28\", \"Jan-29\", \"Jan-30\", \"Jan-31\", \"Feb-1\", \"Feb-2\", \"Feb-3\", \"Feb-4\", \"Feb-5\", \"Feb-6\", \"Feb-7\", \"Feb-8\", \"Feb-9\", \"Feb-10\", \"Feb-11\", \"Feb-12\", \"Feb-13\", \"Feb-14\", \"Feb-15\", \"Feb-16\", \"Feb-17\", \"Feb-18\", \"Feb-19\", \"Feb-20\", \"Feb-21\", \"Feb-22\", \"Feb-23\", \"Feb-24\", \"Feb-25\", \"Feb-26\", \"Feb-27\", \"Feb-28\", \"Feb-29\"], \"y\": [32.6, 33.4, 33.6, 33.8, 34.2, 32.8, 30.2, 31.2, 30.4, 31.4, 30.8, 31.2, 31.0, 30.6, 31.8, 32.8, 30.4, 30.0, 30.8, 30.0, 30.6, 28.8, 28.6, 28.8, 29.8, 29.2, 30.0, 32.4, 29.6, 28.8, 29.0, 28.6, 28.4, 28.2, 27.8, 28.0, 27.4, 27.2, 27.4, 27.6, 28.0, 29.2, 29.2, 28.2, 27.6, 25.2, 19.0, 18.3, 24.8, 23.6, 23.8, 25.8, 26.2, 26.0, 25.5, 25.2, 24.4, 23.8, 23.4, 25.2, 25.4, null, null, null, null, null, null, null, null, null, null, null, null, null, null, null, null, null, null, null, null, null, null, null, null, null, null, null, null, null, null, null, null, null, null, null, null, null, null, null, null, null, null, null, null, null, null, null, null, null, null, null, null, null, null, null, null, null, null, null, null]}, {\"marker\": {\"size\": 8}, \"mode\": \"lines+markers\", \"name\": \"Observed Min Temperature - 2018\", \"type\": \"scatter\", \"x\": [\"Nov-1\", \"Nov-2\", \"Nov-3\", \"Nov-4\", \"Nov-5\", \"Nov-6\", \"Nov-7\", \"Nov-8\", \"Nov-9\", \"Nov-10\", \"Nov-11\", \"Nov-12\", \"Nov-13\", \"Nov-14\", \"Nov-15\", \"Nov-16\", \"Nov-17\", \"Nov-18\", \"Nov-19\", \"Nov-20\", \"Nov-21\", \"Nov-22\", \"Nov-23\", \"Nov-24\", \"Nov-25\", \"Nov-26\", \"Nov-27\", \"Nov-28\", \"Nov-29\", \"Nov-30\", \"Dec-1\", \"Dec-2\", \"Dec-3\", \"Dec-4\", \"Dec-5\", \"Dec-6\", \"Dec-7\", \"Dec-8\", \"Dec-9\", \"Dec-10\", \"Dec-11\", \"Dec-12\", \"Dec-13\", \"Dec-14\", \"Dec-15\", \"Dec-16\", \"Dec-17\", \"Dec-18\", \"Dec-19\", \"Dec-20\", \"Dec-21\", \"Dec-22\", \"Dec-23\", \"Dec-24\", \"Dec-25\", \"Dec-26\", \"Dec-27\", \"Dec-28\", \"Dec-29\", \"Dec-30\", \"Dec-31\", \"Jan-1\", \"Jan-2\", \"Jan-3\", \"Jan-4\", \"Jan-5\", \"Jan-6\", \"Jan-7\", \"Jan-8\", \"Jan-9\", \"Jan-10\", \"Jan-11\", \"Jan-12\", \"Jan-13\", \"Jan-14\", \"Jan-15\", \"Jan-16\", \"Jan-17\", \"Jan-18\", \"Jan-19\", \"Jan-20\", \"Jan-21\", \"Jan-22\", \"Jan-23\", \"Jan-24\", \"Jan-25\", \"Jan-26\", \"Jan-27\", \"Jan-28\", \"Jan-29\", \"Jan-30\", \"Jan-31\", \"Feb-1\", \"Feb-2\", \"Feb-3\", \"Feb-4\", \"Feb-5\", \"Feb-6\", \"Feb-7\", \"Feb-8\", \"Feb-9\", \"Feb-10\", \"Feb-11\", \"Feb-12\", \"Feb-13\", \"Feb-14\", \"Feb-15\", \"Feb-16\", \"Feb-17\", \"Feb-18\", \"Feb-19\", \"Feb-20\", \"Feb-21\", \"Feb-22\", \"Feb-23\", \"Feb-24\", \"Feb-25\", \"Feb-26\", \"Feb-27\", \"Feb-28\", \"Feb-29\"], \"y\": [21.1, 20.8, 20.8, 21.0, 21.2, 22.2, 20.6, 19.8, 16.2, 16.0, 16.0, 16.8, 16.0, 16.2, 16.0, 16.6, 17.2, 16.6, 14.4, 14.2, 14.6, 14.2, 13.8, 14.2, 13.8, 14.0, 14.6, 14.4, 13.8, 15.8, 15.4, 15.0, 14.8, 13.0, 12.8, 13.0, 12.2, 11.8, 11.2, 11.2, 11.6, 12.8, 11.8, 16.8, 12.6, 17.2, 17.8, 17.0, 14.2, 12.8, 9.2, 10.0, 9.6, 10.2, 10.6, 9.0, 7.4, 7.2, 6.6, 8.0, 9.2, null, null, null, null, null, null, null, null, null, null, null, null, null, null, null, null, null, null, null, null, null, null, null, null, null, null, null, null, null, null, null, null, null, null, null, null, null, null, null, null, null, null, null, null, null, null, null, null, null, null, null, null, null, null, null, null, null, null, null, null]}],\n",
              "                        {\"hovermode\": \"closest\", \"template\": {\"data\": {\"bar\": [{\"error_x\": {\"color\": \"#2a3f5f\"}, \"error_y\": {\"color\": \"#2a3f5f\"}, \"marker\": {\"line\": {\"color\": \"#E5ECF6\", \"width\": 0.5}}, \"type\": \"bar\"}], \"barpolar\": [{\"marker\": {\"line\": {\"color\": \"#E5ECF6\", \"width\": 0.5}}, \"type\": \"barpolar\"}], \"carpet\": [{\"aaxis\": {\"endlinecolor\": \"#2a3f5f\", \"gridcolor\": \"white\", \"linecolor\": \"white\", \"minorgridcolor\": \"white\", \"startlinecolor\": \"#2a3f5f\"}, \"baxis\": {\"endlinecolor\": \"#2a3f5f\", \"gridcolor\": \"white\", \"linecolor\": \"white\", \"minorgridcolor\": \"white\", \"startlinecolor\": \"#2a3f5f\"}, \"type\": \"carpet\"}], \"choropleth\": [{\"colorbar\": {\"outlinewidth\": 0, \"ticks\": \"\"}, \"type\": \"choropleth\"}], \"contour\": [{\"colorbar\": {\"outlinewidth\": 0, \"ticks\": \"\"}, \"colorscale\": [[0.0, \"#0d0887\"], [0.1111111111111111, \"#46039f\"], [0.2222222222222222, \"#7201a8\"], [0.3333333333333333, \"#9c179e\"], [0.4444444444444444, \"#bd3786\"], [0.5555555555555556, \"#d8576b\"], [0.6666666666666666, \"#ed7953\"], [0.7777777777777778, \"#fb9f3a\"], [0.8888888888888888, \"#fdca26\"], [1.0, \"#f0f921\"]], \"type\": \"contour\"}], \"contourcarpet\": [{\"colorbar\": {\"outlinewidth\": 0, \"ticks\": \"\"}, \"type\": \"contourcarpet\"}], \"heatmap\": [{\"colorbar\": {\"outlinewidth\": 0, \"ticks\": \"\"}, \"colorscale\": [[0.0, \"#0d0887\"], [0.1111111111111111, \"#46039f\"], [0.2222222222222222, \"#7201a8\"], [0.3333333333333333, \"#9c179e\"], [0.4444444444444444, \"#bd3786\"], [0.5555555555555556, \"#d8576b\"], [0.6666666666666666, \"#ed7953\"], [0.7777777777777778, \"#fb9f3a\"], [0.8888888888888888, \"#fdca26\"], [1.0, \"#f0f921\"]], \"type\": \"heatmap\"}], \"heatmapgl\": [{\"colorbar\": {\"outlinewidth\": 0, \"ticks\": \"\"}, \"colorscale\": [[0.0, \"#0d0887\"], [0.1111111111111111, \"#46039f\"], [0.2222222222222222, \"#7201a8\"], [0.3333333333333333, \"#9c179e\"], [0.4444444444444444, \"#bd3786\"], [0.5555555555555556, \"#d8576b\"], [0.6666666666666666, \"#ed7953\"], [0.7777777777777778, \"#fb9f3a\"], [0.8888888888888888, \"#fdca26\"], [1.0, \"#f0f921\"]], \"type\": \"heatmapgl\"}], \"histogram\": [{\"marker\": {\"colorbar\": {\"outlinewidth\": 0, \"ticks\": \"\"}}, \"type\": \"histogram\"}], \"histogram2d\": [{\"colorbar\": {\"outlinewidth\": 0, \"ticks\": \"\"}, \"colorscale\": [[0.0, \"#0d0887\"], [0.1111111111111111, \"#46039f\"], [0.2222222222222222, \"#7201a8\"], [0.3333333333333333, \"#9c179e\"], [0.4444444444444444, \"#bd3786\"], [0.5555555555555556, \"#d8576b\"], [0.6666666666666666, \"#ed7953\"], [0.7777777777777778, \"#fb9f3a\"], [0.8888888888888888, \"#fdca26\"], [1.0, \"#f0f921\"]], \"type\": \"histogram2d\"}], \"histogram2dcontour\": [{\"colorbar\": {\"outlinewidth\": 0, \"ticks\": \"\"}, \"colorscale\": [[0.0, \"#0d0887\"], [0.1111111111111111, \"#46039f\"], [0.2222222222222222, \"#7201a8\"], [0.3333333333333333, \"#9c179e\"], [0.4444444444444444, \"#bd3786\"], [0.5555555555555556, \"#d8576b\"], [0.6666666666666666, \"#ed7953\"], [0.7777777777777778, \"#fb9f3a\"], [0.8888888888888888, \"#fdca26\"], [1.0, \"#f0f921\"]], \"type\": \"histogram2dcontour\"}], \"mesh3d\": [{\"colorbar\": {\"outlinewidth\": 0, \"ticks\": \"\"}, \"type\": \"mesh3d\"}], \"parcoords\": [{\"line\": {\"colorbar\": {\"outlinewidth\": 0, \"ticks\": \"\"}}, \"type\": \"parcoords\"}], \"scatter\": [{\"marker\": {\"colorbar\": {\"outlinewidth\": 0, \"ticks\": \"\"}}, \"type\": \"scatter\"}], \"scatter3d\": [{\"line\": {\"colorbar\": {\"outlinewidth\": 0, \"ticks\": \"\"}}, \"marker\": {\"colorbar\": {\"outlinewidth\": 0, \"ticks\": \"\"}}, \"type\": \"scatter3d\"}], \"scattercarpet\": [{\"marker\": {\"colorbar\": {\"outlinewidth\": 0, \"ticks\": \"\"}}, \"type\": \"scattercarpet\"}], \"scattergeo\": [{\"marker\": {\"colorbar\": {\"outlinewidth\": 0, \"ticks\": \"\"}}, \"type\": \"scattergeo\"}], \"scattergl\": [{\"marker\": {\"colorbar\": {\"outlinewidth\": 0, \"ticks\": \"\"}}, \"type\": \"scattergl\"}], \"scattermapbox\": [{\"marker\": {\"colorbar\": {\"outlinewidth\": 0, \"ticks\": \"\"}}, \"type\": \"scattermapbox\"}], \"scatterpolar\": [{\"marker\": {\"colorbar\": {\"outlinewidth\": 0, \"ticks\": \"\"}}, \"type\": \"scatterpolar\"}], \"scatterpolargl\": [{\"marker\": {\"colorbar\": {\"outlinewidth\": 0, \"ticks\": \"\"}}, \"type\": \"scatterpolargl\"}], \"scatterternary\": [{\"marker\": {\"colorbar\": {\"outlinewidth\": 0, \"ticks\": \"\"}}, \"type\": \"scatterternary\"}], \"surface\": [{\"colorbar\": {\"outlinewidth\": 0, \"ticks\": \"\"}, \"colorscale\": [[0.0, \"#0d0887\"], [0.1111111111111111, \"#46039f\"], [0.2222222222222222, \"#7201a8\"], [0.3333333333333333, \"#9c179e\"], [0.4444444444444444, \"#bd3786\"], [0.5555555555555556, \"#d8576b\"], [0.6666666666666666, \"#ed7953\"], [0.7777777777777778, \"#fb9f3a\"], [0.8888888888888888, \"#fdca26\"], [1.0, \"#f0f921\"]], \"type\": \"surface\"}], \"table\": [{\"cells\": {\"fill\": {\"color\": \"#EBF0F8\"}, \"line\": {\"color\": \"white\"}}, \"header\": {\"fill\": {\"color\": \"#C8D4E3\"}, \"line\": {\"color\": \"white\"}}, \"type\": \"table\"}]}, \"layout\": {\"annotationdefaults\": {\"arrowcolor\": \"#2a3f5f\", \"arrowhead\": 0, \"arrowwidth\": 1}, \"colorscale\": {\"diverging\": [[0, \"#8e0152\"], [0.1, \"#c51b7d\"], [0.2, \"#de77ae\"], [0.3, \"#f1b6da\"], [0.4, \"#fde0ef\"], [0.5, \"#f7f7f7\"], [0.6, \"#e6f5d0\"], [0.7, \"#b8e186\"], [0.8, \"#7fbc41\"], [0.9, \"#4d9221\"], [1, \"#276419\"]], \"sequential\": [[0.0, \"#0d0887\"], [0.1111111111111111, \"#46039f\"], [0.2222222222222222, \"#7201a8\"], [0.3333333333333333, \"#9c179e\"], [0.4444444444444444, \"#bd3786\"], [0.5555555555555556, \"#d8576b\"], [0.6666666666666666, \"#ed7953\"], [0.7777777777777778, \"#fb9f3a\"], [0.8888888888888888, \"#fdca26\"], [1.0, \"#f0f921\"]], \"sequentialminus\": [[0.0, \"#0d0887\"], [0.1111111111111111, \"#46039f\"], [0.2222222222222222, \"#7201a8\"], [0.3333333333333333, \"#9c179e\"], [0.4444444444444444, \"#bd3786\"], [0.5555555555555556, \"#d8576b\"], [0.6666666666666666, \"#ed7953\"], [0.7777777777777778, \"#fb9f3a\"], [0.8888888888888888, \"#fdca26\"], [1.0, \"#f0f921\"]]}, \"colorway\": [\"#636efa\", \"#EF553B\", \"#00cc96\", \"#ab63fa\", \"#FFA15A\", \"#19d3f3\", \"#FF6692\", \"#B6E880\", \"#FF97FF\", \"#FECB52\"], \"font\": {\"color\": \"#2a3f5f\"}, \"geo\": {\"bgcolor\": \"white\", \"lakecolor\": \"white\", \"landcolor\": \"#E5ECF6\", \"showlakes\": true, \"showland\": true, \"subunitcolor\": \"white\"}, \"hoverlabel\": {\"align\": \"left\"}, \"hovermode\": \"closest\", \"mapbox\": {\"style\": \"light\"}, \"paper_bgcolor\": \"white\", \"plot_bgcolor\": \"#E5ECF6\", \"polar\": {\"angularaxis\": {\"gridcolor\": \"white\", \"linecolor\": \"white\", \"ticks\": \"\"}, \"bgcolor\": \"#E5ECF6\", \"radialaxis\": {\"gridcolor\": \"white\", \"linecolor\": \"white\", \"ticks\": \"\"}}, \"scene\": {\"xaxis\": {\"backgroundcolor\": \"#E5ECF6\", \"gridcolor\": \"white\", \"gridwidth\": 2, \"linecolor\": \"white\", \"showbackground\": true, \"ticks\": \"\", \"zerolinecolor\": \"white\"}, \"yaxis\": {\"backgroundcolor\": \"#E5ECF6\", \"gridcolor\": \"white\", \"gridwidth\": 2, \"linecolor\": \"white\", \"showbackground\": true, \"ticks\": \"\", \"zerolinecolor\": \"white\"}, \"zaxis\": {\"backgroundcolor\": \"#E5ECF6\", \"gridcolor\": \"white\", \"gridwidth\": 2, \"linecolor\": \"white\", \"showbackground\": true, \"ticks\": \"\", \"zerolinecolor\": \"white\"}}, \"shapedefaults\": {\"line\": {\"color\": \"#2a3f5f\"}}, \"ternary\": {\"aaxis\": {\"gridcolor\": \"white\", \"linecolor\": \"white\", \"ticks\": \"\"}, \"baxis\": {\"gridcolor\": \"white\", \"linecolor\": \"white\", \"ticks\": \"\"}, \"bgcolor\": \"#E5ECF6\", \"caxis\": {\"gridcolor\": \"white\", \"linecolor\": \"white\", \"ticks\": \"\"}}, \"title\": {\"x\": 0.05}, \"xaxis\": {\"automargin\": true, \"gridcolor\": \"white\", \"linecolor\": \"white\", \"ticks\": \"\", \"zerolinecolor\": \"white\", \"zerolinewidth\": 2}, \"yaxis\": {\"automargin\": true, \"gridcolor\": \"white\", \"linecolor\": \"white\", \"ticks\": \"\", \"zerolinecolor\": \"white\", \"zerolinewidth\": 2}}}, \"title\": {\"text\": \"Jashore Station Historic vs Observed Temperature\"}, \"xaxis\": {\"title\": {\"text\": \"Days\"}}, \"yaxis\": {\"title\": {\"text\": \"Temperature\"}}},\n",
              "                        {\"responsive\": true}\n",
              "                    ).then(function(){\n",
              "                            \n",
              "var gd = document.getElementById('e8bbb817-09a8-4cff-aaa5-f3dfa42a0949');\n",
              "var x = new MutationObserver(function (mutations, observer) {{\n",
              "        var display = window.getComputedStyle(gd).display;\n",
              "        if (!display || display === 'none') {{\n",
              "            console.log([gd, 'removed!']);\n",
              "            Plotly.purge(gd);\n",
              "            observer.disconnect();\n",
              "        }}\n",
              "}});\n",
              "\n",
              "// Listen for the removal of the full notebook cells\n",
              "var notebookContainer = gd.closest('#notebook-container');\n",
              "if (notebookContainer) {{\n",
              "    x.observe(notebookContainer, {childList: true});\n",
              "}}\n",
              "\n",
              "// Listen for the clearing of the current output cell\n",
              "var outputEl = gd.closest('.output');\n",
              "if (outputEl) {{\n",
              "    x.observe(outputEl, {childList: true});\n",
              "}}\n",
              "\n",
              "                        })\n",
              "                };\n",
              "                \n",
              "            </script>\n",
              "        </div>\n",
              "</body>\n",
              "</html>"
            ]
          },
          "metadata": {
            "tags": []
          }
        }
      ]
    },
    {
      "cell_type": "code",
      "metadata": {
        "id": "Y_zjVnAbbTId",
        "colab_type": "code",
        "colab": {}
      },
      "source": [
        "fig.write_html('/content/drive/My Drive/Colab Notebooks/CIMMYT/191202/demo_jashore.html')"
      ],
      "execution_count": 0,
      "outputs": []
    },
    {
      "cell_type": "markdown",
      "metadata": {
        "id": "jtACmVlWG1-6",
        "colab_type": "text"
      },
      "source": [
        "# Dinajpur"
      ]
    },
    {
      "cell_type": "code",
      "metadata": {
        "id": "0QCLBhxhdzp5",
        "colab_type": "code",
        "colab": {}
      },
      "source": [
        "tmin_din = tmin_df[['Year','Month','Day','Dinajpur']]\n",
        "tmax_din = tmax_df[['Dinajpur']]\n",
        "tmin_din.columns = ['Year','Month','Day','Min']\n",
        "tmax_din.columns = ['Max']\n",
        "history_din = pd.concat([tmin_din,tmax_din], axis=1, sort=False)"
      ],
      "execution_count": 0,
      "outputs": []
    },
    {
      "cell_type": "code",
      "metadata": {
        "id": "ix-w4Hd4tMOl",
        "colab_type": "code",
        "outputId": "aeff136f-9da8-4923-f595-6d89d275656a",
        "colab": {
          "base_uri": "https://localhost:8080/",
          "height": 204
        }
      },
      "source": [
        "history_din.tail()"
      ],
      "execution_count": 0,
      "outputs": [
        {
          "output_type": "execute_result",
          "data": {
            "text/html": [
              "<div>\n",
              "<style scoped>\n",
              "    .dataframe tbody tr th:only-of-type {\n",
              "        vertical-align: middle;\n",
              "    }\n",
              "\n",
              "    .dataframe tbody tr th {\n",
              "        vertical-align: top;\n",
              "    }\n",
              "\n",
              "    .dataframe thead th {\n",
              "        text-align: right;\n",
              "    }\n",
              "</style>\n",
              "<table border=\"1\" class=\"dataframe\">\n",
              "  <thead>\n",
              "    <tr style=\"text-align: right;\">\n",
              "      <th></th>\n",
              "      <th>Year</th>\n",
              "      <th>Month</th>\n",
              "      <th>Day</th>\n",
              "      <th>Min</th>\n",
              "      <th>Max</th>\n",
              "    </tr>\n",
              "  </thead>\n",
              "  <tbody>\n",
              "    <tr>\n",
              "      <th>12779</th>\n",
              "      <td>2018</td>\n",
              "      <td>12</td>\n",
              "      <td>27</td>\n",
              "      <td>8.3</td>\n",
              "      <td>24.2</td>\n",
              "    </tr>\n",
              "    <tr>\n",
              "      <th>12780</th>\n",
              "      <td>2018</td>\n",
              "      <td>12</td>\n",
              "      <td>28</td>\n",
              "      <td>8.0</td>\n",
              "      <td>22.2</td>\n",
              "    </tr>\n",
              "    <tr>\n",
              "      <th>12781</th>\n",
              "      <td>2018</td>\n",
              "      <td>12</td>\n",
              "      <td>29</td>\n",
              "      <td>6.0</td>\n",
              "      <td>23.7</td>\n",
              "    </tr>\n",
              "    <tr>\n",
              "      <th>12782</th>\n",
              "      <td>2018</td>\n",
              "      <td>12</td>\n",
              "      <td>30</td>\n",
              "      <td>7.1</td>\n",
              "      <td>25.2</td>\n",
              "    </tr>\n",
              "    <tr>\n",
              "      <th>12783</th>\n",
              "      <td>2018</td>\n",
              "      <td>12</td>\n",
              "      <td>31</td>\n",
              "      <td>7.5</td>\n",
              "      <td>25.5</td>\n",
              "    </tr>\n",
              "  </tbody>\n",
              "</table>\n",
              "</div>"
            ],
            "text/plain": [
              "       Year  Month  Day  Min   Max\n",
              "12779  2018     12   27  8.3  24.2\n",
              "12780  2018     12   28  8.0  22.2\n",
              "12781  2018     12   29  6.0  23.7\n",
              "12782  2018     12   30  7.1  25.2\n",
              "12783  2018     12   31  7.5  25.5"
            ]
          },
          "metadata": {
            "tags": []
          },
          "execution_count": 10
        }
      ]
    },
    {
      "cell_type": "code",
      "metadata": {
        "id": "7DljSoNztd2P",
        "colab_type": "code",
        "colab": {}
      },
      "source": [
        "history_din['Year'] = history_din['Year'].astype('int64')\n",
        "history_din['Month'] = history_din['Month'].astype('int64')"
      ],
      "execution_count": 0,
      "outputs": []
    },
    {
      "cell_type": "code",
      "metadata": {
        "id": "IE7MpXldthN9",
        "colab_type": "code",
        "colab": {}
      },
      "source": [
        "novd = history_din[history_din['Month']==11].groupby(['Day']).mean()\n",
        "novd['minSE'] = history_din[history_din['Month']==11].groupby(['Day']).std()['Min']\n",
        "novd['maxSE'] = history_din[history_din['Month']==11].groupby(['Day']).std()['Max']\n",
        "novd = novd.reset_index()\n",
        "novd = novd[['Day','Month','Min','Max','minSE','maxSE']]\n",
        "novd['Month'] = novd['Month'].astype('int64')\n",
        "\n",
        "\n",
        "decd = history_din[history_din['Month']==12].groupby(['Day']).mean()\n",
        "decd['minSE'] = history_din[history_din['Month']==12].groupby(['Day']).std()['Min']\n",
        "decd['maxSE'] = history_din[history_din['Month']==12].groupby(['Day']).std()['Max']\n",
        "decd = decd.reset_index()\n",
        "decd = decd[['Day','Month','Min','Max','minSE','maxSE']]\n",
        "decd['Month'] = decd['Month'].astype('int64')\n",
        "\n",
        "\n",
        "jand = history_din[history_din['Month']==1].groupby(['Day']).mean()\n",
        "jand['minSE'] = history_din[history_din['Month']==1].groupby(['Day']).std()['Min']\n",
        "jand['maxSE'] = history_din[history_din['Month']==1].groupby(['Day']).std()['Max']\n",
        "jand = jand.reset_index()\n",
        "jand = jand[['Day','Month','Min','Max','minSE','maxSE']]\n",
        "jand['Month'] = jand['Month'].astype('int64')\n",
        "\n",
        "febd = history_din[history_din['Month']==2].groupby(['Day']).mean()\n",
        "febd['minSE'] = history_din[history_din['Month']==2].groupby(['Day']).std()['Min']\n",
        "febd['maxSE'] = history_din[history_din['Month']==2].groupby(['Day']).std()['Max']\n",
        "febd = febd.reset_index()\n",
        "febd = febd[['Day','Month','Min','Max','minSE','maxSE']]\n",
        "febd['Month'] = febd['Month'].astype('int64')"
      ],
      "execution_count": 0,
      "outputs": []
    },
    {
      "cell_type": "code",
      "metadata": {
        "id": "jU4WCWAOudxx",
        "colab_type": "code",
        "colab": {}
      },
      "source": [
        "tot_histd = novd.append(decd).append(jand).append(febd)\n",
        "tot_histd = tot_histd.reset_index()"
      ],
      "execution_count": 0,
      "outputs": []
    },
    {
      "cell_type": "code",
      "metadata": {
        "id": "h3jrtbZ8vAS8",
        "colab_type": "code",
        "colab": {}
      },
      "source": [
        "tot_histd['Month'] = tot_histd['Month'].apply(lambda x: calendar.month_abbr[x])\n",
        "tot_histd[\"comb\"] = tot_histd[\"Month\"] +\"-\"+tot_histd[\"Day\"].map(str) "
      ],
      "execution_count": 0,
      "outputs": []
    },
    {
      "cell_type": "code",
      "metadata": {
        "id": "p4du9TrjvTWw",
        "colab_type": "code",
        "colab": {}
      },
      "source": [
        "his_obsd = pd.concat([tot_histd,din_df[['obsMax','obsMin']]], axis=1, sort=False)"
      ],
      "execution_count": 0,
      "outputs": []
    },
    {
      "cell_type": "code",
      "metadata": {
        "id": "Kb_13zmFHCMN",
        "colab_type": "code",
        "outputId": "9d3cd0ea-228d-4c15-a530-7b50721ec59d",
        "colab": {
          "base_uri": "https://localhost:8080/",
          "height": 204
        }
      },
      "source": [
        "his_obsd.tail()"
      ],
      "execution_count": 0,
      "outputs": [
        {
          "output_type": "execute_result",
          "data": {
            "text/html": [
              "<div>\n",
              "<style scoped>\n",
              "    .dataframe tbody tr th:only-of-type {\n",
              "        vertical-align: middle;\n",
              "    }\n",
              "\n",
              "    .dataframe tbody tr th {\n",
              "        vertical-align: top;\n",
              "    }\n",
              "\n",
              "    .dataframe thead th {\n",
              "        text-align: right;\n",
              "    }\n",
              "</style>\n",
              "<table border=\"1\" class=\"dataframe\">\n",
              "  <thead>\n",
              "    <tr style=\"text-align: right;\">\n",
              "      <th></th>\n",
              "      <th>index</th>\n",
              "      <th>Day</th>\n",
              "      <th>Month</th>\n",
              "      <th>Min</th>\n",
              "      <th>Max</th>\n",
              "      <th>minSE</th>\n",
              "      <th>maxSE</th>\n",
              "      <th>comb</th>\n",
              "      <th>obsMax</th>\n",
              "      <th>obsMin</th>\n",
              "    </tr>\n",
              "  </thead>\n",
              "  <tbody>\n",
              "    <tr>\n",
              "      <th>116</th>\n",
              "      <td>24</td>\n",
              "      <td>25</td>\n",
              "      <td>Feb</td>\n",
              "      <td>14.914286</td>\n",
              "      <td>28.071429</td>\n",
              "      <td>2.633064</td>\n",
              "      <td>2.213936</td>\n",
              "      <td>Feb-25</td>\n",
              "      <td>NaN</td>\n",
              "      <td>NaN</td>\n",
              "    </tr>\n",
              "    <tr>\n",
              "      <th>117</th>\n",
              "      <td>25</td>\n",
              "      <td>26</td>\n",
              "      <td>Feb</td>\n",
              "      <td>14.780000</td>\n",
              "      <td>28.251429</td>\n",
              "      <td>3.052848</td>\n",
              "      <td>2.068158</td>\n",
              "      <td>Feb-26</td>\n",
              "      <td>NaN</td>\n",
              "      <td>NaN</td>\n",
              "    </tr>\n",
              "    <tr>\n",
              "      <th>118</th>\n",
              "      <td>26</td>\n",
              "      <td>27</td>\n",
              "      <td>Feb</td>\n",
              "      <td>15.042857</td>\n",
              "      <td>28.105714</td>\n",
              "      <td>2.693160</td>\n",
              "      <td>1.914333</td>\n",
              "      <td>Feb-27</td>\n",
              "      <td>NaN</td>\n",
              "      <td>NaN</td>\n",
              "    </tr>\n",
              "    <tr>\n",
              "      <th>119</th>\n",
              "      <td>27</td>\n",
              "      <td>28</td>\n",
              "      <td>Feb</td>\n",
              "      <td>14.948571</td>\n",
              "      <td>28.562857</td>\n",
              "      <td>2.122896</td>\n",
              "      <td>1.761197</td>\n",
              "      <td>Feb-28</td>\n",
              "      <td>NaN</td>\n",
              "      <td>NaN</td>\n",
              "    </tr>\n",
              "    <tr>\n",
              "      <th>120</th>\n",
              "      <td>28</td>\n",
              "      <td>29</td>\n",
              "      <td>Feb</td>\n",
              "      <td>13.944444</td>\n",
              "      <td>28.544444</td>\n",
              "      <td>2.184097</td>\n",
              "      <td>2.231654</td>\n",
              "      <td>Feb-29</td>\n",
              "      <td>NaN</td>\n",
              "      <td>NaN</td>\n",
              "    </tr>\n",
              "  </tbody>\n",
              "</table>\n",
              "</div>"
            ],
            "text/plain": [
              "     index  Day Month        Min  ...     maxSE    comb  obsMax obsMin\n",
              "116     24   25   Feb  14.914286  ...  2.213936  Feb-25     NaN    NaN\n",
              "117     25   26   Feb  14.780000  ...  2.068158  Feb-26     NaN    NaN\n",
              "118     26   27   Feb  15.042857  ...  1.914333  Feb-27     NaN    NaN\n",
              "119     27   28   Feb  14.948571  ...  1.761197  Feb-28     NaN    NaN\n",
              "120     28   29   Feb  13.944444  ...  2.231654  Feb-29     NaN    NaN\n",
              "\n",
              "[5 rows x 10 columns]"
            ]
          },
          "metadata": {
            "tags": []
          },
          "execution_count": 16
        }
      ]
    },
    {
      "cell_type": "code",
      "metadata": {
        "id": "pjV_i1wTvjnW",
        "colab_type": "code",
        "outputId": "fa2838c6-f8e7-42d7-8d0c-9f49fe4396e5",
        "colab": {
          "base_uri": "https://localhost:8080/",
          "height": 542
        }
      },
      "source": [
        "trace1 = go.Scatter(\n",
        "    x = his_obsd.comb,\n",
        "    y = his_obsd.Max,\n",
        "    mode = 'lines + markers',\n",
        "    name='Historical Max Temperature (1984-2018)',\n",
        "    error_y=dict(\n",
        "        type='data',\n",
        "        array=tot_histd.maxSE,\n",
        "        visible = True,\n",
        "        thickness = 0.5 \n",
        "    )\n",
        ")\n",
        "trace2 = go.Scatter(\n",
        "    x = his_obsd.comb,\n",
        "    y = his_obsd.Min,\n",
        "    mode = 'lines + markers',\n",
        "    name='Historical Min Temperature (1984-2018)',\n",
        "    error_y=dict(\n",
        "        type='data',\n",
        "        array=tot_histd.minSE,\n",
        "        visible = True,\n",
        "        thickness = 0.5 \n",
        "    )\n",
        ")\n",
        "\n",
        "trace3 = go.Scatter(\n",
        "    x = his_obsd.comb,\n",
        "    y = his_obsd.obsMax,\n",
        "    mode = 'lines + markers',\n",
        "    marker = dict(size=8),\n",
        "    name='Observed Max Temperature (2019)',\n",
        ")\n",
        "trace4 = go.Scatter(\n",
        "    x = his_obsd.comb,\n",
        "    y = his_obsd.obsMin,\n",
        "    mode = 'lines + markers',\n",
        "    marker = dict(size=8),\n",
        "    name='Observed Min Temperature (2019)',\n",
        ")\n",
        "\n",
        "\n",
        "data = [trace1, trace2, trace3, trace4]\n",
        "\n",
        "layout = go.Layout(\n",
        "    title = 'Dinajpur Station Historic vs Observed Temperature',\n",
        "    xaxis = dict(title='Days'),\n",
        "    yaxis = dict(title='Temperature'),\n",
        "    hovermode = 'closest',\n",
        ")\n",
        "\n",
        "fig = go.Figure(data=data, layout = layout)\n",
        "fig.show()"
      ],
      "execution_count": 0,
      "outputs": [
        {
          "output_type": "display_data",
          "data": {
            "text/html": [
              "<html>\n",
              "<head><meta charset=\"utf-8\" /></head>\n",
              "<body>\n",
              "    <div>\n",
              "            <script src=\"https://cdnjs.cloudflare.com/ajax/libs/mathjax/2.7.5/MathJax.js?config=TeX-AMS-MML_SVG\"></script><script type=\"text/javascript\">if (window.MathJax) {MathJax.Hub.Config({SVG: {font: \"STIX-Web\"}});}</script>\n",
              "                <script type=\"text/javascript\">window.PlotlyConfig = {MathJaxConfig: 'local'};</script>\n",
              "        <script src=\"https://cdn.plot.ly/plotly-latest.min.js\"></script>    \n",
              "            <div id=\"a525c496-244b-4862-848f-ea613f7646f4\" class=\"plotly-graph-div\" style=\"height:525px; width:100%;\"></div>\n",
              "            <script type=\"text/javascript\">\n",
              "                \n",
              "                    window.PLOTLYENV=window.PLOTLYENV || {};\n",
              "                    \n",
              "                if (document.getElementById(\"a525c496-244b-4862-848f-ea613f7646f4\")) {\n",
              "                    Plotly.newPlot(\n",
              "                        'a525c496-244b-4862-848f-ea613f7646f4',\n",
              "                        [{\"error_y\": {\"array\": [1.7957606473361107, 1.5767747104120358, 1.2777014551151444, 1.6213232483469338, 1.3119361533962834, 1.2863406504140205, 1.0943091907875093, 1.1943353694795753, 1.5765881681976572, 2.131153473133838, 2.2071807943219177, 1.7610396089247065, 1.3908041323111537, 1.1625240577613654, 1.5962245371843045, 1.3199694419686738, 1.7262579142627041, 1.224731148683098, 1.1584182202940547, 1.2086383754825412, 1.6233485467396342, 1.336934911647981, 1.0652651857478426, 1.9407093912217948, 1.1881629065229127, 1.11964880448208, 1.075612000895577, 1.524037097852363, 2.0109030539628154, 1.49133632478172, 1.3119361533962832, 1.562157525492799, 1.3480455818540793, 1.5034246619919849, 1.6007718726399756, 1.5855015377004271, 1.4827410456325003, 1.3334922874438644, 2.1808101185360558, 2.5842379368559927, 2.7897079754403142, 2.0180363198503866, 2.1955761480414973, 2.2306610543728502, 1.9212084782258072, 2.1489493231059007, 2.9049421811165623, 2.8863719194072788, 2.8073522918857736, 2.4090689997129915, 2.9703917066199033, 2.9585512011935897, 2.886252549849476, 1.9084156832744974, 3.118925693085938, 3.296119439787421, 2.8710903266643406, 2.6968328763616807, 2.601783486557706, 2.6932907615128405, 2.160539926293715, 2.960760179470153, 3.407929458377522, 3.7554173754544977, 3.641232130552984, 2.9296743157966643, 2.905075245991737, 4.025385831499507, 4.182369960607855, 4.052419134336444, 3.9033276043082283, 3.1713396156802873, 3.698734737104323, 2.899182730391736, 3.1992173412631186, 2.707220348772283, 2.925776489622352, 2.338921679289142, 2.7083686056742127, 2.6443280031484924, 2.7417255193635652, 2.469834819094882, 3.0021700834702942, 3.243009288253346, 2.8929267550499844, 2.321612016022741, 2.4233874479102746, 2.4868291714010233, 2.2370937028417295, 2.59337228949736, 2.669079090862111, 2.256519965110252, 2.3541916845055253, 3.095203662812145, 2.458762413296985, 2.4022993187375135, 2.3184028115577022, 2.1756598535431335, 1.8590455669961585, 1.9689608230457705, 2.0588607439613806, 2.1449256123122176, 2.3057946733458845, 2.156572911517038, 2.006795179074412, 2.541431476467511, 2.528808800518503, 2.359878219333369, 2.410551037111849, 1.9142631379579294, 2.374096909238075, 2.214019501481678, 2.0683814156659475, 2.061593574695772, 2.0369362394776815, 1.9154304867522167, 2.2139359984069125, 2.0681579511546917, 1.9143333745477988, 1.7611970718946874, 2.231653597173579], \"thickness\": 0.5, \"type\": \"data\", \"visible\": true}, \"mode\": \"lines+markers\", \"name\": \"Historical Max Temperature (1984-2018)\", \"type\": \"scatter\", \"x\": [\"Nov-1\", \"Nov-2\", \"Nov-3\", \"Nov-4\", \"Nov-5\", \"Nov-6\", \"Nov-7\", \"Nov-8\", \"Nov-9\", \"Nov-10\", \"Nov-11\", \"Nov-12\", \"Nov-13\", \"Nov-14\", \"Nov-15\", \"Nov-16\", \"Nov-17\", \"Nov-18\", \"Nov-19\", \"Nov-20\", \"Nov-21\", \"Nov-22\", \"Nov-23\", \"Nov-24\", \"Nov-25\", \"Nov-26\", \"Nov-27\", \"Nov-28\", \"Nov-29\", \"Nov-30\", \"Dec-1\", \"Dec-2\", \"Dec-3\", \"Dec-4\", \"Dec-5\", \"Dec-6\", \"Dec-7\", \"Dec-8\", \"Dec-9\", \"Dec-10\", \"Dec-11\", \"Dec-12\", \"Dec-13\", \"Dec-14\", \"Dec-15\", \"Dec-16\", \"Dec-17\", \"Dec-18\", \"Dec-19\", \"Dec-20\", \"Dec-21\", \"Dec-22\", \"Dec-23\", \"Dec-24\", \"Dec-25\", \"Dec-26\", \"Dec-27\", \"Dec-28\", \"Dec-29\", \"Dec-30\", \"Dec-31\", \"Jan-1\", \"Jan-2\", \"Jan-3\", \"Jan-4\", \"Jan-5\", \"Jan-6\", \"Jan-7\", \"Jan-8\", \"Jan-9\", \"Jan-10\", \"Jan-11\", \"Jan-12\", \"Jan-13\", \"Jan-14\", \"Jan-15\", \"Jan-16\", \"Jan-17\", \"Jan-18\", \"Jan-19\", \"Jan-20\", \"Jan-21\", \"Jan-22\", \"Jan-23\", \"Jan-24\", \"Jan-25\", \"Jan-26\", \"Jan-27\", \"Jan-28\", \"Jan-29\", \"Jan-30\", \"Jan-31\", \"Feb-1\", \"Feb-2\", \"Feb-3\", \"Feb-4\", \"Feb-5\", \"Feb-6\", \"Feb-7\", \"Feb-8\", \"Feb-9\", \"Feb-10\", \"Feb-11\", \"Feb-12\", \"Feb-13\", \"Feb-14\", \"Feb-15\", \"Feb-16\", \"Feb-17\", \"Feb-18\", \"Feb-19\", \"Feb-20\", \"Feb-21\", \"Feb-22\", \"Feb-23\", \"Feb-24\", \"Feb-25\", \"Feb-26\", \"Feb-27\", \"Feb-28\", \"Feb-29\"], \"y\": [30.062857142857144, 30.12857142857143, 30.55714285714285, 30.38857142857143, 30.300000000000008, 30.265714285714285, 30.288571428571426, 30.305714285714288, 29.628571428571433, 29.237142857142864, 29.12, 29.285714285714278, 29.10857142857143, 29.40285714285714, 28.902857142857144, 29.005714285714287, 28.805714285714284, 28.934285714285718, 28.84285714285714, 28.691428571428574, 28.465714285714284, 28.428571428571427, 28.514285714285712, 28.02, 28.205714285714283, 28.285714285714285, 28.180000000000003, 27.77142857142858, 27.55428571428572, 27.60571428571429, 27.600000000000005, 27.37142857142857, 27.24285714285715, 26.902857142857144, 26.840000000000003, 26.99714285714286, 26.89714285714286, 26.865714285714287, 26.02285714285714, 25.477142857142862, 25.46, 25.539999999999996, 25.194285714285716, 25.13428571428572, 25.131428571428568, 25.128571428571426, 24.61142857142858, 24.594285714285718, 24.377142857142854, 24.514285714285712, 24.202857142857145, 24.21428571428572, 24.611428571428576, 24.797142857142852, 23.922857142857143, 23.682857142857138, 23.008571428571432, 23.294285714285717, 23.76857142857143, 23.81714285714286, 24.20285714285714, 23.108571428571423, 22.888571428571428, 22.108571428571423, 21.928571428571427, 21.922857142857147, 22.537142857142857, 22.37428571428572, 22.468571428571433, 21.871428571428567, 21.71428571428572, 21.971428571428575, 21.877142857142854, 22.13428571428572, 22.197142857142854, 22.348571428571425, 22.65714285714285, 22.73428571428571, 22.994285714285716, 22.840000000000003, 22.100000000000005, 22.68571428571429, 22.885714285714286, 22.777142857142863, 22.74571428571429, 23.52, 23.711428571428566, 24.154285714285713, 24.38, 24.582857142857144, 24.63142857142858, 24.740000000000006, 24.488571428571433, 24.497142857142858, 25.04857142857143, 25.131428571428568, 24.997142857142858, 25.905714285714286, 26.142857142857146, 26.228571428571435, 26.21428571428572, 26.46, 26.55142857142857, 26.89142857142857, 26.94285714285715, 26.322857142857146, 26.45714285714286, 26.725714285714286, 27.057142857142857, 27.09714285714286, 27.268571428571434, 27.340000000000003, 27.665714285714294, 27.542857142857137, 27.782857142857136, 27.862857142857145, 28.071428571428573, 28.251428571428573, 28.105714285714285, 28.56285714285714, 28.54444444444444]}, {\"error_y\": {\"array\": [1.7069408480739825, 2.009402269081927, 1.8607398907898072, 1.73003618750708, 1.550592188311866, 1.5821589334691706, 1.7427641523615018, 1.6283104611784551, 2.59369954137413, 1.7892771180121918, 1.7525012137518423, 1.798295177722081, 2.1934777267652215, 1.696040866797949, 1.8826139524920262, 1.932308237846752, 2.138769771259586, 1.8021835495360865, 2.0038618178092897, 1.835174527454674, 1.5614419106505806, 1.9094501826442078, 1.6471008398002187, 1.577962732942265, 1.5750576886860606, 1.42733223564956, 1.562292002962637, 1.854642143107828, 1.5371423885538633, 1.412917596483879, 1.5973086608364693, 1.886952102013752, 1.9072528530266122, 1.8036517579248905, 1.9180829014426672, 1.6705556867464812, 1.7625087162309059, 1.818587502486939, 1.9794957341061727, 2.142220633757755, 1.7112087231304212, 1.876627584907825, 1.9555866965519817, 2.147494142585021, 1.3170312936948114, 1.7441474766108704, 1.808207246246445, 1.7811241847059789, 1.8495377573778766, 1.7903241338376916, 1.8248425740781227, 1.8540575535200368, 1.9021571125099705, 1.794168893055145, 1.930459082422511, 1.8737102006357298, 1.960633579640379, 2.1790561521644443, 1.7213781853918266, 1.5130357930083373, 1.5899262706863133, 1.9348506554314546, 2.17757864140329, 1.9754884514592181, 1.917763052634611, 1.945928738536482, 1.6353089292600487, 1.6950397233886723, 2.1383728990665265, 2.4846520477361267, 2.042860081093262, 2.2086917683848726, 2.5261389809866954, 2.20371344352583, 2.445283575519592, 2.398711138518021, 2.100552148300797, 1.572200727022609, 1.7932787679264481, 2.250538684348239, 2.5329990196629466, 2.4709471528004747, 1.9944334297946253, 2.6904343468648175, 2.748833213131245, 2.2597612724363967, 2.1382353519124284, 2.221722399438793, 2.201374666013959, 1.9474525484774792, 2.458153983867439, 2.0594320829300687, 1.8265640241868835, 1.87197374828968, 1.834533348032141, 2.48818384038025, 1.966505239541166, 1.9018699334332723, 1.9248354726154269, 2.3541916845055244, 1.8993718554770027, 1.9667957988275537, 2.357459107890984, 2.254120410166549, 2.3655333223524173, 2.3978036168281065, 2.2142965573060622, 2.205177254256236, 2.3704660393470047, 1.984138786146039, 2.2439910423883886, 2.6871683887653615, 2.6900001561963034, 2.952201855957571, 2.514051268672261, 2.6350513843793126, 2.6330638446653807, 3.052848236146234, 2.6931597137372822, 2.1228963883407617, 2.18409655871204], \"thickness\": 0.5, \"type\": \"data\", \"visible\": true}, \"mode\": \"lines+markers\", \"name\": \"Historical Min Temperature (1984-2018)\", \"type\": \"scatter\", \"x\": [\"Nov-1\", \"Nov-2\", \"Nov-3\", \"Nov-4\", \"Nov-5\", \"Nov-6\", \"Nov-7\", \"Nov-8\", \"Nov-9\", \"Nov-10\", \"Nov-11\", \"Nov-12\", \"Nov-13\", \"Nov-14\", \"Nov-15\", \"Nov-16\", \"Nov-17\", \"Nov-18\", \"Nov-19\", \"Nov-20\", \"Nov-21\", \"Nov-22\", \"Nov-23\", \"Nov-24\", \"Nov-25\", \"Nov-26\", \"Nov-27\", \"Nov-28\", \"Nov-29\", \"Nov-30\", \"Dec-1\", \"Dec-2\", \"Dec-3\", \"Dec-4\", \"Dec-5\", \"Dec-6\", \"Dec-7\", \"Dec-8\", \"Dec-9\", \"Dec-10\", \"Dec-11\", \"Dec-12\", \"Dec-13\", \"Dec-14\", \"Dec-15\", \"Dec-16\", \"Dec-17\", \"Dec-18\", \"Dec-19\", \"Dec-20\", \"Dec-21\", \"Dec-22\", \"Dec-23\", \"Dec-24\", \"Dec-25\", \"Dec-26\", \"Dec-27\", \"Dec-28\", \"Dec-29\", \"Dec-30\", \"Dec-31\", \"Jan-1\", \"Jan-2\", \"Jan-3\", \"Jan-4\", \"Jan-5\", \"Jan-6\", \"Jan-7\", \"Jan-8\", \"Jan-9\", \"Jan-10\", \"Jan-11\", \"Jan-12\", \"Jan-13\", \"Jan-14\", \"Jan-15\", \"Jan-16\", \"Jan-17\", \"Jan-18\", \"Jan-19\", \"Jan-20\", \"Jan-21\", \"Jan-22\", \"Jan-23\", \"Jan-24\", \"Jan-25\", \"Jan-26\", \"Jan-27\", \"Jan-28\", \"Jan-29\", \"Jan-30\", \"Jan-31\", \"Feb-1\", \"Feb-2\", \"Feb-3\", \"Feb-4\", \"Feb-5\", \"Feb-6\", \"Feb-7\", \"Feb-8\", \"Feb-9\", \"Feb-10\", \"Feb-11\", \"Feb-12\", \"Feb-13\", \"Feb-14\", \"Feb-15\", \"Feb-16\", \"Feb-17\", \"Feb-18\", \"Feb-19\", \"Feb-20\", \"Feb-21\", \"Feb-22\", \"Feb-23\", \"Feb-24\", \"Feb-25\", \"Feb-26\", \"Feb-27\", \"Feb-28\", \"Feb-29\"], \"y\": [19.239999999999995, 19.37714285714286, 18.899999999999995, 19.085714285714285, 19.208571428571428, 18.802857142857142, 18.357142857142854, 18.09142857142857, 18.19142857142857, 17.67142857142857, 17.614285714285717, 17.371428571428574, 16.84285714285714, 16.685714285714287, 16.44, 16.60285714285714, 16.64857142857143, 16.09142857142857, 16.357142857142854, 15.951428571428574, 15.588571428571425, 14.939999999999996, 14.9, 15.194285714285712, 15.05142857142857, 14.448571428571428, 14.342857142857143, 14.282857142857143, 14.211428571428572, 14.088571428571425, 13.908571428571431, 13.799999999999999, 13.694285714285714, 13.451428571428567, 13.45142857142857, 13.457142857142857, 13.434285714285718, 13.425714285714283, 13.542857142857141, 13.602857142857143, 13.200000000000001, 12.965714285714284, 12.82571428571429, 12.734285714285717, 12.068571428571428, 12.082857142857144, 12.345714285714287, 12.277142857142858, 12.074285714285715, 11.894285714285713, 11.777142857142858, 11.58, 11.805714285714288, 11.591428571428573, 11.674285714285714, 11.254285714285713, 10.805714285714286, 11.022857142857141, 10.374285714285717, 10.531428571428574, 10.54857142857143, 10.94, 10.914285714285716, 10.745714285714286, 10.842857142857142, 10.35714285714286, 10.040000000000001, 10.391428571428571, 10.217142857142855, 10.534285714285714, 9.971428571428572, 9.985714285714284, 10.045714285714288, 9.72, 9.600000000000001, 9.71714285714286, 10.105714285714287, 10.337142857142858, 10.034285714285712, 10.19142857142857, 10.625714285714286, 10.402857142857142, 10.16, 10.525714285714287, 10.574285714285713, 10.237142857142857, 10.097142857142858, 10.642857142857142, 11.042857142857141, 10.991428571428575, 11.242857142857142, 11.614285714285714, 11.388571428571428, 11.342857142857145, 11.251428571428571, 11.320000000000002, 11.685714285714285, 11.862857142857143, 12.31714285714286, 12.868571428571428, 12.765714285714287, 12.937142857142856, 12.394285714285715, 13.120000000000001, 12.888571428571428, 13.46285714285714, 13.957142857142859, 13.931428571428569, 13.582857142857144, 13.671428571428573, 13.925714285714285, 13.897142857142857, 14.091428571428574, 14.274285714285716, 14.268571428571429, 14.365714285714285, 14.914285714285715, 14.78, 15.042857142857143, 14.94857142857143, 13.944444444444445]}, {\"marker\": {\"size\": 8}, \"mode\": \"lines+markers\", \"name\": \"Observed Max Temperature (2019)\", \"type\": \"scatter\", \"x\": [\"Nov-1\", \"Nov-2\", \"Nov-3\", \"Nov-4\", \"Nov-5\", \"Nov-6\", \"Nov-7\", \"Nov-8\", \"Nov-9\", \"Nov-10\", \"Nov-11\", \"Nov-12\", \"Nov-13\", \"Nov-14\", \"Nov-15\", \"Nov-16\", \"Nov-17\", \"Nov-18\", \"Nov-19\", \"Nov-20\", \"Nov-21\", \"Nov-22\", \"Nov-23\", \"Nov-24\", \"Nov-25\", \"Nov-26\", \"Nov-27\", \"Nov-28\", \"Nov-29\", \"Nov-30\", \"Dec-1\", \"Dec-2\", \"Dec-3\", \"Dec-4\", \"Dec-5\", \"Dec-6\", \"Dec-7\", \"Dec-8\", \"Dec-9\", \"Dec-10\", \"Dec-11\", \"Dec-12\", \"Dec-13\", \"Dec-14\", \"Dec-15\", \"Dec-16\", \"Dec-17\", \"Dec-18\", \"Dec-19\", \"Dec-20\", \"Dec-21\", \"Dec-22\", \"Dec-23\", \"Dec-24\", \"Dec-25\", \"Dec-26\", \"Dec-27\", \"Dec-28\", \"Dec-29\", \"Dec-30\", \"Dec-31\", \"Jan-1\", \"Jan-2\", \"Jan-3\", \"Jan-4\", \"Jan-5\", \"Jan-6\", \"Jan-7\", \"Jan-8\", \"Jan-9\", \"Jan-10\", \"Jan-11\", \"Jan-12\", \"Jan-13\", \"Jan-14\", \"Jan-15\", \"Jan-16\", \"Jan-17\", \"Jan-18\", \"Jan-19\", \"Jan-20\", \"Jan-21\", \"Jan-22\", \"Jan-23\", \"Jan-24\", \"Jan-25\", \"Jan-26\", \"Jan-27\", \"Jan-28\", \"Jan-29\", \"Jan-30\", \"Jan-31\", \"Feb-1\", \"Feb-2\", \"Feb-3\", \"Feb-4\", \"Feb-5\", \"Feb-6\", \"Feb-7\", \"Feb-8\", \"Feb-9\", \"Feb-10\", \"Feb-11\", \"Feb-12\", \"Feb-13\", \"Feb-14\", \"Feb-15\", \"Feb-16\", \"Feb-17\", \"Feb-18\", \"Feb-19\", \"Feb-20\", \"Feb-21\", \"Feb-22\", \"Feb-23\", \"Feb-24\", \"Feb-25\", \"Feb-26\", \"Feb-27\", \"Feb-28\", \"Feb-29\"], \"y\": [31.5, 32.0, 32.2, 32.5, 29.3, 30.0, 31.0, 32.0, 27.9, 27.6, 30.7, 30.4, 30.6, 31.5, 32.2, 30.5, 29.6, 29.8, 29.2, 29.2, 29.5, 29.1, 29.0, 28.3, 26.2, 29.0, 29.4, 30.1, 30.5, 28.5, 27.5, 26.8, 27.2, 27.8, 28.8, 30.0, 27.7, 27.6, 27.6, 26.5, 24.9, 25.5, 24.4, 22.5, 25.0, 25.0, 23.8, null, null, null, null, null, null, null, null, null, null, null, null, null, null, null, null, null, null, null, null, null, null, null, null, null, null, null, null, null, null, null, null, null, null, null, null, null, null, null, null, null, null, null, null, null, null, null, null, null, null, null, null, null, null, null, null, null, null, null, null, null, null, null, null, null, null, null, null, null, null, null, null, null, null]}, {\"marker\": {\"size\": 8}, \"mode\": \"lines+markers\", \"name\": \"Observed Min Temperature (2019)\", \"type\": \"scatter\", \"x\": [\"Nov-1\", \"Nov-2\", \"Nov-3\", \"Nov-4\", \"Nov-5\", \"Nov-6\", \"Nov-7\", \"Nov-8\", \"Nov-9\", \"Nov-10\", \"Nov-11\", \"Nov-12\", \"Nov-13\", \"Nov-14\", \"Nov-15\", \"Nov-16\", \"Nov-17\", \"Nov-18\", \"Nov-19\", \"Nov-20\", \"Nov-21\", \"Nov-22\", \"Nov-23\", \"Nov-24\", \"Nov-25\", \"Nov-26\", \"Nov-27\", \"Nov-28\", \"Nov-29\", \"Nov-30\", \"Dec-1\", \"Dec-2\", \"Dec-3\", \"Dec-4\", \"Dec-5\", \"Dec-6\", \"Dec-7\", \"Dec-8\", \"Dec-9\", \"Dec-10\", \"Dec-11\", \"Dec-12\", \"Dec-13\", \"Dec-14\", \"Dec-15\", \"Dec-16\", \"Dec-17\", \"Dec-18\", \"Dec-19\", \"Dec-20\", \"Dec-21\", \"Dec-22\", \"Dec-23\", \"Dec-24\", \"Dec-25\", \"Dec-26\", \"Dec-27\", \"Dec-28\", \"Dec-29\", \"Dec-30\", \"Dec-31\", \"Jan-1\", \"Jan-2\", \"Jan-3\", \"Jan-4\", \"Jan-5\", \"Jan-6\", \"Jan-7\", \"Jan-8\", \"Jan-9\", \"Jan-10\", \"Jan-11\", \"Jan-12\", \"Jan-13\", \"Jan-14\", \"Jan-15\", \"Jan-16\", \"Jan-17\", \"Jan-18\", \"Jan-19\", \"Jan-20\", \"Jan-21\", \"Jan-22\", \"Jan-23\", \"Jan-24\", \"Jan-25\", \"Jan-26\", \"Jan-27\", \"Jan-28\", \"Jan-29\", \"Jan-30\", \"Jan-31\", \"Feb-1\", \"Feb-2\", \"Feb-3\", \"Feb-4\", \"Feb-5\", \"Feb-6\", \"Feb-7\", \"Feb-8\", \"Feb-9\", \"Feb-10\", \"Feb-11\", \"Feb-12\", \"Feb-13\", \"Feb-14\", \"Feb-15\", \"Feb-16\", \"Feb-17\", \"Feb-18\", \"Feb-19\", \"Feb-20\", \"Feb-21\", \"Feb-22\", \"Feb-23\", \"Feb-24\", \"Feb-25\", \"Feb-26\", \"Feb-27\", \"Feb-28\", \"Feb-29\"], \"y\": [20.5, 20.5, 20.9, 20.0, 20.8, 18.4, 16.7, 20.2, 22.0, 21.8, 18.9, 20.0, 18.0, 18.4, 19.1, 19.1, 19.1, 17.1, 18.5, 14.4, 16.2, 15.5, 15.6, 16.7, 17.4, 16.6, 16.8, 16.0, 15.9, 16.3, 15.1, 13.1, 13.5, 13.4, 12.0, 13.1, 13.5, 11.4, 11.2, 11.9, 11.7, 11.8, 14.1, 14.2, 11.1, 14.3, 14.3, 13.7, null, null, null, null, null, null, null, null, null, null, null, null, null, null, null, null, null, null, null, null, null, null, null, null, null, null, null, null, null, null, null, null, null, null, null, null, null, null, null, null, null, null, null, null, null, null, null, null, null, null, null, null, null, null, null, null, null, null, null, null, null, null, null, null, null, null, null, null, null, null, null, null, null]}],\n",
              "                        {\"hovermode\": \"closest\", \"template\": {\"data\": {\"bar\": [{\"error_x\": {\"color\": \"#2a3f5f\"}, \"error_y\": {\"color\": \"#2a3f5f\"}, \"marker\": {\"line\": {\"color\": \"#E5ECF6\", \"width\": 0.5}}, \"type\": \"bar\"}], \"barpolar\": [{\"marker\": {\"line\": {\"color\": \"#E5ECF6\", \"width\": 0.5}}, \"type\": \"barpolar\"}], \"carpet\": [{\"aaxis\": {\"endlinecolor\": \"#2a3f5f\", \"gridcolor\": \"white\", \"linecolor\": \"white\", \"minorgridcolor\": \"white\", \"startlinecolor\": \"#2a3f5f\"}, \"baxis\": {\"endlinecolor\": \"#2a3f5f\", \"gridcolor\": \"white\", \"linecolor\": \"white\", \"minorgridcolor\": \"white\", \"startlinecolor\": \"#2a3f5f\"}, \"type\": \"carpet\"}], \"choropleth\": [{\"colorbar\": {\"outlinewidth\": 0, \"ticks\": \"\"}, \"type\": \"choropleth\"}], \"contour\": [{\"colorbar\": {\"outlinewidth\": 0, \"ticks\": \"\"}, \"colorscale\": [[0.0, \"#0d0887\"], [0.1111111111111111, \"#46039f\"], [0.2222222222222222, \"#7201a8\"], [0.3333333333333333, \"#9c179e\"], [0.4444444444444444, \"#bd3786\"], [0.5555555555555556, \"#d8576b\"], [0.6666666666666666, \"#ed7953\"], [0.7777777777777778, \"#fb9f3a\"], [0.8888888888888888, \"#fdca26\"], [1.0, \"#f0f921\"]], \"type\": \"contour\"}], \"contourcarpet\": [{\"colorbar\": {\"outlinewidth\": 0, \"ticks\": \"\"}, \"type\": \"contourcarpet\"}], \"heatmap\": [{\"colorbar\": {\"outlinewidth\": 0, \"ticks\": \"\"}, \"colorscale\": [[0.0, \"#0d0887\"], [0.1111111111111111, \"#46039f\"], [0.2222222222222222, \"#7201a8\"], [0.3333333333333333, \"#9c179e\"], [0.4444444444444444, \"#bd3786\"], [0.5555555555555556, \"#d8576b\"], [0.6666666666666666, \"#ed7953\"], [0.7777777777777778, \"#fb9f3a\"], [0.8888888888888888, \"#fdca26\"], [1.0, \"#f0f921\"]], \"type\": \"heatmap\"}], \"heatmapgl\": [{\"colorbar\": {\"outlinewidth\": 0, \"ticks\": \"\"}, \"colorscale\": [[0.0, \"#0d0887\"], [0.1111111111111111, \"#46039f\"], [0.2222222222222222, \"#7201a8\"], [0.3333333333333333, \"#9c179e\"], [0.4444444444444444, \"#bd3786\"], [0.5555555555555556, \"#d8576b\"], [0.6666666666666666, \"#ed7953\"], [0.7777777777777778, \"#fb9f3a\"], [0.8888888888888888, \"#fdca26\"], [1.0, \"#f0f921\"]], \"type\": \"heatmapgl\"}], \"histogram\": [{\"marker\": {\"colorbar\": {\"outlinewidth\": 0, \"ticks\": \"\"}}, \"type\": \"histogram\"}], \"histogram2d\": [{\"colorbar\": {\"outlinewidth\": 0, \"ticks\": \"\"}, \"colorscale\": [[0.0, \"#0d0887\"], [0.1111111111111111, \"#46039f\"], [0.2222222222222222, \"#7201a8\"], [0.3333333333333333, \"#9c179e\"], [0.4444444444444444, \"#bd3786\"], [0.5555555555555556, \"#d8576b\"], [0.6666666666666666, \"#ed7953\"], [0.7777777777777778, \"#fb9f3a\"], [0.8888888888888888, \"#fdca26\"], [1.0, \"#f0f921\"]], \"type\": \"histogram2d\"}], \"histogram2dcontour\": [{\"colorbar\": {\"outlinewidth\": 0, \"ticks\": \"\"}, \"colorscale\": [[0.0, \"#0d0887\"], [0.1111111111111111, \"#46039f\"], [0.2222222222222222, \"#7201a8\"], [0.3333333333333333, \"#9c179e\"], [0.4444444444444444, \"#bd3786\"], [0.5555555555555556, \"#d8576b\"], [0.6666666666666666, \"#ed7953\"], [0.7777777777777778, \"#fb9f3a\"], [0.8888888888888888, \"#fdca26\"], [1.0, \"#f0f921\"]], \"type\": \"histogram2dcontour\"}], \"mesh3d\": [{\"colorbar\": {\"outlinewidth\": 0, \"ticks\": \"\"}, \"type\": \"mesh3d\"}], \"parcoords\": [{\"line\": {\"colorbar\": {\"outlinewidth\": 0, \"ticks\": \"\"}}, \"type\": \"parcoords\"}], \"scatter\": [{\"marker\": {\"colorbar\": {\"outlinewidth\": 0, \"ticks\": \"\"}}, \"type\": \"scatter\"}], \"scatter3d\": [{\"line\": {\"colorbar\": {\"outlinewidth\": 0, \"ticks\": \"\"}}, \"marker\": {\"colorbar\": {\"outlinewidth\": 0, \"ticks\": \"\"}}, \"type\": \"scatter3d\"}], \"scattercarpet\": [{\"marker\": {\"colorbar\": {\"outlinewidth\": 0, \"ticks\": \"\"}}, \"type\": \"scattercarpet\"}], \"scattergeo\": [{\"marker\": {\"colorbar\": {\"outlinewidth\": 0, \"ticks\": \"\"}}, \"type\": \"scattergeo\"}], \"scattergl\": [{\"marker\": {\"colorbar\": {\"outlinewidth\": 0, \"ticks\": \"\"}}, \"type\": \"scattergl\"}], \"scattermapbox\": [{\"marker\": {\"colorbar\": {\"outlinewidth\": 0, \"ticks\": \"\"}}, \"type\": \"scattermapbox\"}], \"scatterpolar\": [{\"marker\": {\"colorbar\": {\"outlinewidth\": 0, \"ticks\": \"\"}}, \"type\": \"scatterpolar\"}], \"scatterpolargl\": [{\"marker\": {\"colorbar\": {\"outlinewidth\": 0, \"ticks\": \"\"}}, \"type\": \"scatterpolargl\"}], \"scatterternary\": [{\"marker\": {\"colorbar\": {\"outlinewidth\": 0, \"ticks\": \"\"}}, \"type\": \"scatterternary\"}], \"surface\": [{\"colorbar\": {\"outlinewidth\": 0, \"ticks\": \"\"}, \"colorscale\": [[0.0, \"#0d0887\"], [0.1111111111111111, \"#46039f\"], [0.2222222222222222, \"#7201a8\"], [0.3333333333333333, \"#9c179e\"], [0.4444444444444444, \"#bd3786\"], [0.5555555555555556, \"#d8576b\"], [0.6666666666666666, \"#ed7953\"], [0.7777777777777778, \"#fb9f3a\"], [0.8888888888888888, \"#fdca26\"], [1.0, \"#f0f921\"]], \"type\": \"surface\"}], \"table\": [{\"cells\": {\"fill\": {\"color\": \"#EBF0F8\"}, \"line\": {\"color\": \"white\"}}, \"header\": {\"fill\": {\"color\": \"#C8D4E3\"}, \"line\": {\"color\": \"white\"}}, \"type\": \"table\"}]}, \"layout\": {\"annotationdefaults\": {\"arrowcolor\": \"#2a3f5f\", \"arrowhead\": 0, \"arrowwidth\": 1}, \"colorscale\": {\"diverging\": [[0, \"#8e0152\"], [0.1, \"#c51b7d\"], [0.2, \"#de77ae\"], [0.3, \"#f1b6da\"], [0.4, \"#fde0ef\"], [0.5, \"#f7f7f7\"], [0.6, \"#e6f5d0\"], [0.7, \"#b8e186\"], [0.8, \"#7fbc41\"], [0.9, \"#4d9221\"], [1, \"#276419\"]], \"sequential\": [[0.0, \"#0d0887\"], [0.1111111111111111, \"#46039f\"], [0.2222222222222222, \"#7201a8\"], [0.3333333333333333, \"#9c179e\"], [0.4444444444444444, \"#bd3786\"], [0.5555555555555556, \"#d8576b\"], [0.6666666666666666, \"#ed7953\"], [0.7777777777777778, \"#fb9f3a\"], [0.8888888888888888, \"#fdca26\"], [1.0, \"#f0f921\"]], \"sequentialminus\": [[0.0, \"#0d0887\"], [0.1111111111111111, \"#46039f\"], [0.2222222222222222, \"#7201a8\"], [0.3333333333333333, \"#9c179e\"], [0.4444444444444444, \"#bd3786\"], [0.5555555555555556, \"#d8576b\"], [0.6666666666666666, \"#ed7953\"], [0.7777777777777778, \"#fb9f3a\"], [0.8888888888888888, \"#fdca26\"], [1.0, \"#f0f921\"]]}, \"colorway\": [\"#636efa\", \"#EF553B\", \"#00cc96\", \"#ab63fa\", \"#FFA15A\", \"#19d3f3\", \"#FF6692\", \"#B6E880\", \"#FF97FF\", \"#FECB52\"], \"font\": {\"color\": \"#2a3f5f\"}, \"geo\": {\"bgcolor\": \"white\", \"lakecolor\": \"white\", \"landcolor\": \"#E5ECF6\", \"showlakes\": true, \"showland\": true, \"subunitcolor\": \"white\"}, \"hoverlabel\": {\"align\": \"left\"}, \"hovermode\": \"closest\", \"mapbox\": {\"style\": \"light\"}, \"paper_bgcolor\": \"white\", \"plot_bgcolor\": \"#E5ECF6\", \"polar\": {\"angularaxis\": {\"gridcolor\": \"white\", \"linecolor\": \"white\", \"ticks\": \"\"}, \"bgcolor\": \"#E5ECF6\", \"radialaxis\": {\"gridcolor\": \"white\", \"linecolor\": \"white\", \"ticks\": \"\"}}, \"scene\": {\"xaxis\": {\"backgroundcolor\": \"#E5ECF6\", \"gridcolor\": \"white\", \"gridwidth\": 2, \"linecolor\": \"white\", \"showbackground\": true, \"ticks\": \"\", \"zerolinecolor\": \"white\"}, \"yaxis\": {\"backgroundcolor\": \"#E5ECF6\", \"gridcolor\": \"white\", \"gridwidth\": 2, \"linecolor\": \"white\", \"showbackground\": true, \"ticks\": \"\", \"zerolinecolor\": \"white\"}, \"zaxis\": {\"backgroundcolor\": \"#E5ECF6\", \"gridcolor\": \"white\", \"gridwidth\": 2, \"linecolor\": \"white\", \"showbackground\": true, \"ticks\": \"\", \"zerolinecolor\": \"white\"}}, \"shapedefaults\": {\"line\": {\"color\": \"#2a3f5f\"}}, \"ternary\": {\"aaxis\": {\"gridcolor\": \"white\", \"linecolor\": \"white\", \"ticks\": \"\"}, \"baxis\": {\"gridcolor\": \"white\", \"linecolor\": \"white\", \"ticks\": \"\"}, \"bgcolor\": \"#E5ECF6\", \"caxis\": {\"gridcolor\": \"white\", \"linecolor\": \"white\", \"ticks\": \"\"}}, \"title\": {\"x\": 0.05}, \"xaxis\": {\"automargin\": true, \"gridcolor\": \"white\", \"linecolor\": \"white\", \"ticks\": \"\", \"zerolinecolor\": \"white\", \"zerolinewidth\": 2}, \"yaxis\": {\"automargin\": true, \"gridcolor\": \"white\", \"linecolor\": \"white\", \"ticks\": \"\", \"zerolinecolor\": \"white\", \"zerolinewidth\": 2}}}, \"title\": {\"text\": \"Dinajpur Station Historic vs Observed Temperature\"}, \"xaxis\": {\"title\": {\"text\": \"Days\"}}, \"yaxis\": {\"title\": {\"text\": \"Temperature\"}}},\n",
              "                        {\"responsive\": true}\n",
              "                    ).then(function(){\n",
              "                            \n",
              "var gd = document.getElementById('a525c496-244b-4862-848f-ea613f7646f4');\n",
              "var x = new MutationObserver(function (mutations, observer) {{\n",
              "        var display = window.getComputedStyle(gd).display;\n",
              "        if (!display || display === 'none') {{\n",
              "            console.log([gd, 'removed!']);\n",
              "            Plotly.purge(gd);\n",
              "            observer.disconnect();\n",
              "        }}\n",
              "}});\n",
              "\n",
              "// Listen for the removal of the full notebook cells\n",
              "var notebookContainer = gd.closest('#notebook-container');\n",
              "if (notebookContainer) {{\n",
              "    x.observe(notebookContainer, {childList: true});\n",
              "}}\n",
              "\n",
              "// Listen for the clearing of the current output cell\n",
              "var outputEl = gd.closest('.output');\n",
              "if (outputEl) {{\n",
              "    x.observe(outputEl, {childList: true});\n",
              "}}\n",
              "\n",
              "                        })\n",
              "                };\n",
              "                \n",
              "            </script>\n",
              "        </div>\n",
              "</body>\n",
              "</html>"
            ]
          },
          "metadata": {
            "tags": []
          }
        }
      ]
    },
    {
      "cell_type": "code",
      "metadata": {
        "id": "A_ttCYFIv9bM",
        "colab_type": "code",
        "colab": {}
      },
      "source": [
        "fig.write_html('/content/drive/My Drive/Colab Notebooks/CIMMYT/191219/191219_dinajpur(BMDvsKOBO).html')"
      ],
      "execution_count": 0,
      "outputs": []
    },
    {
      "cell_type": "markdown",
      "metadata": {
        "id": "mSWizVbqVeS2",
        "colab_type": "text"
      },
      "source": [
        ""
      ]
    },
    {
      "cell_type": "code",
      "metadata": {
        "id": "OlDxiu3eyV0A",
        "colab_type": "code",
        "colab": {}
      },
      "source": [
        "tmin_raj = tmin_df[['Year','Month','Day','Rajshahi']]\n",
        "tmax_raj = tmax_df[['Rajshahi']]\n",
        "tmin_raj.columns = ['Year','Month','Day','Min']\n",
        "tmax_raj.columns = ['Max']\n",
        "history_raj = pd.concat([tmin_raj,tmax_raj], axis=1, sort=False)\n",
        "\n",
        "#history_raj = history_raj[history_jas['Min']!=-9999.0]\n",
        "#history_raj = history_raj[history_jas['Max']!=-9999.0]\n",
        "\n",
        "history_raj['Year'] = history_raj['Year'].astype('int64')\n",
        "history_raj['Month'] = history_raj['Month'].astype('int64')\n",
        "\n",
        "novr = history_raj[history_raj['Month']==11].groupby(['Day']).mean()\n",
        "novr['minSE'] = history_raj[history_raj['Month']==11].groupby(['Day']).std()['Min']\n",
        "novr['maxSE'] = history_raj[history_raj['Month']==11].groupby(['Day']).std()['Max']\n",
        "novr = novr.reset_index()\n",
        "novr = novr[['Day','Month','Min','Max','minSE','maxSE']]\n",
        "novr['Month'] = novr['Month'].astype('int64')\n",
        "\n",
        "\n",
        "decr = history_raj[history_raj['Month']==12].groupby(['Day']).mean()\n",
        "decr['minSE'] = history_raj[history_raj['Month']==12].groupby(['Day']).std()['Min']\n",
        "decr['maxSE'] = history_raj[history_raj['Month']==12].groupby(['Day']).std()['Max']\n",
        "decr = decr.reset_index()\n",
        "decr = decr[['Day','Month','Min','Max','minSE','maxSE']]\n",
        "decr['Month'] = decr['Month'].astype('int64')\n",
        "\n",
        "\n",
        "janr = history_raj[history_raj['Month']==1].groupby(['Day']).mean()\n",
        "janr['minSE'] = history_raj[history_raj['Month']==1].groupby(['Day']).std()['Min']\n",
        "janr['maxSE'] = history_raj[history_raj['Month']==1].groupby(['Day']).std()['Max']\n",
        "janr = janr.reset_index()\n",
        "janr = janr[['Day','Month','Min','Max','minSE','maxSE']]\n",
        "janr['Month'] = janr['Month'].astype('int64')\n",
        "\n",
        "febr = history_raj[history_raj['Month']==2].groupby(['Day']).mean()\n",
        "febr['minSE'] = history_raj[history_raj['Month']==2].groupby(['Day']).std()['Min']\n",
        "febr['maxSE'] = history_raj[history_raj['Month']==2].groupby(['Day']).std()['Max']\n",
        "febr = febr.reset_index()\n",
        "febr = febr[['Day','Month','Min','Max','minSE','maxSE']]\n",
        "febr['Month'] = febr['Month'].astype('int64')\n",
        "\n",
        "tot_histr = novr.append(decr).append(janr).append(febr)\n",
        "tot_histr = tot_histr.reset_index()\n",
        "\n",
        "tot_histr['Month'] = tot_histr['Month'].apply(lambda x: calendar.month_abbr[x])\n",
        "tot_histr[\"comb\"] = tot_histr[\"Month\"] +\"-\"+tot_histr[\"Day\"].map(str) \n",
        "\n",
        "\n",
        "his_obsr = pd.concat([tot_histr,raj_df[['obsMax','obsMin']]], axis=1, sort=False)"
      ],
      "execution_count": 0,
      "outputs": []
    },
    {
      "cell_type": "code",
      "metadata": {
        "id": "5Mzf-wt50vV4",
        "colab_type": "code",
        "outputId": "207b97aa-4688-4afb-98ef-52dc0557a8f0",
        "colab": {
          "base_uri": "https://localhost:8080/",
          "height": 204
        }
      },
      "source": [
        "his_obsr.tail()"
      ],
      "execution_count": 0,
      "outputs": [
        {
          "output_type": "execute_result",
          "data": {
            "text/html": [
              "<div>\n",
              "<style scoped>\n",
              "    .dataframe tbody tr th:only-of-type {\n",
              "        vertical-align: middle;\n",
              "    }\n",
              "\n",
              "    .dataframe tbody tr th {\n",
              "        vertical-align: top;\n",
              "    }\n",
              "\n",
              "    .dataframe thead th {\n",
              "        text-align: right;\n",
              "    }\n",
              "</style>\n",
              "<table border=\"1\" class=\"dataframe\">\n",
              "  <thead>\n",
              "    <tr style=\"text-align: right;\">\n",
              "      <th></th>\n",
              "      <th>index</th>\n",
              "      <th>Day</th>\n",
              "      <th>Month</th>\n",
              "      <th>Min</th>\n",
              "      <th>Max</th>\n",
              "      <th>minSE</th>\n",
              "      <th>maxSE</th>\n",
              "      <th>comb</th>\n",
              "      <th>obsMax</th>\n",
              "      <th>obsMin</th>\n",
              "    </tr>\n",
              "  </thead>\n",
              "  <tbody>\n",
              "    <tr>\n",
              "      <th>116</th>\n",
              "      <td>24</td>\n",
              "      <td>25</td>\n",
              "      <td>Feb</td>\n",
              "      <td>14.782857</td>\n",
              "      <td>29.714286</td>\n",
              "      <td>3.238145</td>\n",
              "      <td>2.700451</td>\n",
              "      <td>Feb-25</td>\n",
              "      <td>NaN</td>\n",
              "      <td>NaN</td>\n",
              "    </tr>\n",
              "    <tr>\n",
              "      <th>117</th>\n",
              "      <td>25</td>\n",
              "      <td>26</td>\n",
              "      <td>Feb</td>\n",
              "      <td>14.962857</td>\n",
              "      <td>29.842857</td>\n",
              "      <td>2.792541</td>\n",
              "      <td>2.604327</td>\n",
              "      <td>Feb-26</td>\n",
              "      <td>NaN</td>\n",
              "      <td>NaN</td>\n",
              "    </tr>\n",
              "    <tr>\n",
              "      <th>118</th>\n",
              "      <td>26</td>\n",
              "      <td>27</td>\n",
              "      <td>Feb</td>\n",
              "      <td>14.988571</td>\n",
              "      <td>29.694286</td>\n",
              "      <td>3.067646</td>\n",
              "      <td>2.321883</td>\n",
              "      <td>Feb-27</td>\n",
              "      <td>NaN</td>\n",
              "      <td>NaN</td>\n",
              "    </tr>\n",
              "    <tr>\n",
              "      <th>119</th>\n",
              "      <td>27</td>\n",
              "      <td>28</td>\n",
              "      <td>Feb</td>\n",
              "      <td>14.688571</td>\n",
              "      <td>30.334286</td>\n",
              "      <td>2.489835</td>\n",
              "      <td>2.110470</td>\n",
              "      <td>Feb-28</td>\n",
              "      <td>NaN</td>\n",
              "      <td>NaN</td>\n",
              "    </tr>\n",
              "    <tr>\n",
              "      <th>120</th>\n",
              "      <td>28</td>\n",
              "      <td>29</td>\n",
              "      <td>Feb</td>\n",
              "      <td>14.111111</td>\n",
              "      <td>30.311111</td>\n",
              "      <td>3.286124</td>\n",
              "      <td>2.304585</td>\n",
              "      <td>Feb-29</td>\n",
              "      <td>NaN</td>\n",
              "      <td>NaN</td>\n",
              "    </tr>\n",
              "  </tbody>\n",
              "</table>\n",
              "</div>"
            ],
            "text/plain": [
              "     index  Day Month        Min  ...     maxSE    comb  obsMax obsMin\n",
              "116     24   25   Feb  14.782857  ...  2.700451  Feb-25     NaN    NaN\n",
              "117     25   26   Feb  14.962857  ...  2.604327  Feb-26     NaN    NaN\n",
              "118     26   27   Feb  14.988571  ...  2.321883  Feb-27     NaN    NaN\n",
              "119     27   28   Feb  14.688571  ...  2.110470  Feb-28     NaN    NaN\n",
              "120     28   29   Feb  14.111111  ...  2.304585  Feb-29     NaN    NaN\n",
              "\n",
              "[5 rows x 10 columns]"
            ]
          },
          "metadata": {
            "tags": []
          },
          "execution_count": 20
        }
      ]
    },
    {
      "cell_type": "code",
      "metadata": {
        "id": "MEpicpyu0xlu",
        "colab_type": "code",
        "outputId": "4c34f604-d51b-495b-8952-0e7bea6beb1b",
        "colab": {
          "base_uri": "https://localhost:8080/",
          "height": 542
        }
      },
      "source": [
        "trace1 = go.Scatter(\n",
        "    x = his_obsr.comb,\n",
        "    y = his_obsr.Max,\n",
        "    mode = 'lines + markers',\n",
        "    name='Historical Max Temperature (1984-2018)',\n",
        "    error_y=dict(\n",
        "        type='data',\n",
        "        array=tot_histr.maxSE,\n",
        "        visible = True,\n",
        "        thickness = 0.5 \n",
        "    )\n",
        ")\n",
        "trace2 = go.Scatter(\n",
        "    x = his_obsr.comb,\n",
        "    y = his_obsr.Min,\n",
        "    mode = 'lines + markers',\n",
        "    name='Historical Min Temperature (1984-2018)',\n",
        "    error_y=dict(\n",
        "        type='data',\n",
        "        array=tot_histr.minSE,\n",
        "        visible = True,\n",
        "        thickness = 0.5 \n",
        "    )\n",
        ")\n",
        "\n",
        "trace3 = go.Scatter(\n",
        "    x = his_obsr.comb,\n",
        "    y = his_obsr.obsMax,\n",
        "    mode = 'lines + markers',\n",
        "    marker = dict(size=8),\n",
        "    name='Observed Max Temperature (2019)',\n",
        ")\n",
        "trace4 = go.Scatter(\n",
        "    x = his_obsr.comb,\n",
        "    y = his_obsr.obsMin,\n",
        "    mode = 'lines + markers',\n",
        "    marker = dict(size=8),\n",
        "    name='Observed Min Temperature (2019)',\n",
        ")\n",
        "\n",
        "\n",
        "data = [trace1, trace2, trace3, trace4]\n",
        "\n",
        "layout = go.Layout(\n",
        "    title = 'Rajshahi Station Historic vs Observed Temperature',\n",
        "    xaxis = dict(title='Days'),\n",
        "    yaxis = dict(title='Temperature'),\n",
        "    hovermode = 'closest',\n",
        ")\n",
        "\n",
        "fig = go.Figure(data=data, layout = layout)\n",
        "fig.show()"
      ],
      "execution_count": 0,
      "outputs": [
        {
          "output_type": "display_data",
          "data": {
            "text/html": [
              "<html>\n",
              "<head><meta charset=\"utf-8\" /></head>\n",
              "<body>\n",
              "    <div>\n",
              "            <script src=\"https://cdnjs.cloudflare.com/ajax/libs/mathjax/2.7.5/MathJax.js?config=TeX-AMS-MML_SVG\"></script><script type=\"text/javascript\">if (window.MathJax) {MathJax.Hub.Config({SVG: {font: \"STIX-Web\"}});}</script>\n",
              "                <script type=\"text/javascript\">window.PlotlyConfig = {MathJaxConfig: 'local'};</script>\n",
              "        <script src=\"https://cdn.plot.ly/plotly-latest.min.js\"></script>    \n",
              "            <div id=\"a0ce94c0-e900-4d04-a38b-f97c2dc5d2b4\" class=\"plotly-graph-div\" style=\"height:525px; width:100%;\"></div>\n",
              "            <script type=\"text/javascript\">\n",
              "                \n",
              "                    window.PLOTLYENV=window.PLOTLYENV || {};\n",
              "                    \n",
              "                if (document.getElementById(\"a0ce94c0-e900-4d04-a38b-f97c2dc5d2b4\")) {\n",
              "                    Plotly.newPlot(\n",
              "                        'a0ce94c0-e900-4d04-a38b-f97c2dc5d2b4',\n",
              "                        [{\"error_y\": {\"array\": [1.6451865108437347, 1.3038598161489858, 1.4532606051753492, 1.8333740764507604, 1.7847062701151235, 1.6106890847494724, 1.1631961184959463, 1.2118254859522313, 1.8754271222194432, 1.318466131979305, 1.8078400687797895, 2.002317984468094, 1.7447640759347005, 1.2939873884024293, 1.7875855741401443, 1.5843669042854178, 1.1450074308958533, 1.17853348551095, 0.9598056525965561, 1.1865634298718477, 1.0119703719049515, 1.2141532305384235, 1.0686282733273633, 1.58213237661798, 1.511674456973308, 1.8889461736796056, 1.085558370051982, 1.6906912712822286, 1.6863415725053041, 1.1847986745264627, 1.0398933364824023, 1.1103637075414574, 1.1730016083148576, 1.1891526536208241, 0.8836326853897365, 1.1362846725811513, 1.5702700083615124, 1.0083100096846467, 2.446183788281335, 2.829564803073065, 2.136784673170369, 2.1461241202446333, 2.1070190819650176, 1.9578456690621833, 1.6457738084473905, 1.965727354852002, 2.0317314717031993, 2.532411744503149, 2.021585200452623, 2.268501893394877, 2.3983257465479166, 2.75843092653606, 2.774972177920942, 2.3184390576130207, 2.286893603327705, 3.0292190523676044, 2.1910244716328746, 2.1392687040751315, 2.019430820883978, 2.0879888598820626, 2.0014070680650753, 2.001965420834858, 2.563194566659858, 2.876178603867384, 2.9285095299873776, 2.4676120529162353, 2.2759724119962588, 2.728859151533394, 3.1437332621469998, 3.4207645712765506, 2.7571389384741596, 2.7468025720367866, 2.7032815414671436, 2.677475293925199, 2.4351349763290693, 2.7592076563311254, 3.1152322977440328, 2.291460214790208, 2.718279238195871, 2.322643379623219, 2.613211424584668, 2.6391779978246412, 2.423335433209513, 2.5679570404008976, 2.7053541683983977, 2.221919073627098, 2.0226573751238397, 1.8112718963073835, 2.4148768606495947, 2.009548634466387, 2.8202211010528107, 2.426419709168638, 2.3619995801876685, 2.1360333928715125, 2.0788126863365903, 1.8656875183069603, 2.335883760202222, 1.9197645163715584, 2.2517294940302475, 2.3321537634707084, 2.1386204616508264, 2.003287214521559, 1.9703602025343212, 2.279104940043589, 2.4720011965948525, 2.5070421823738185, 2.6939802174041123, 2.830277475484567, 2.784313804394996, 2.218664144983484, 2.4843138139233583, 2.2731276347133433, 2.4718516177489436, 2.4516432493021356, 2.652279818438115, 2.5926787678533008, 2.7004512539184833, 2.6043273619887644, 2.321883471913018, 2.110470097777613, 2.304584802325815], \"thickness\": 0.5, \"type\": \"data\", \"visible\": true}, \"mode\": \"lines+markers\", \"name\": \"Historical Max Temperature (1984-2018)\", \"type\": \"scatter\", \"x\": [\"Nov-1\", \"Nov-2\", \"Nov-3\", \"Nov-4\", \"Nov-5\", \"Nov-6\", \"Nov-7\", \"Nov-8\", \"Nov-9\", \"Nov-10\", \"Nov-11\", \"Nov-12\", \"Nov-13\", \"Nov-14\", \"Nov-15\", \"Nov-16\", \"Nov-17\", \"Nov-18\", \"Nov-19\", \"Nov-20\", \"Nov-21\", \"Nov-22\", \"Nov-23\", \"Nov-24\", \"Nov-25\", \"Nov-26\", \"Nov-27\", \"Nov-28\", \"Nov-29\", \"Nov-30\", \"Dec-1\", \"Dec-2\", \"Dec-3\", \"Dec-4\", \"Dec-5\", \"Dec-6\", \"Dec-7\", \"Dec-8\", \"Dec-9\", \"Dec-10\", \"Dec-11\", \"Dec-12\", \"Dec-13\", \"Dec-14\", \"Dec-15\", \"Dec-16\", \"Dec-17\", \"Dec-18\", \"Dec-19\", \"Dec-20\", \"Dec-21\", \"Dec-22\", \"Dec-23\", \"Dec-24\", \"Dec-25\", \"Dec-26\", \"Dec-27\", \"Dec-28\", \"Dec-29\", \"Dec-30\", \"Dec-31\", \"Jan-1\", \"Jan-2\", \"Jan-3\", \"Jan-4\", \"Jan-5\", \"Jan-6\", \"Jan-7\", \"Jan-8\", \"Jan-9\", \"Jan-10\", \"Jan-11\", \"Jan-12\", \"Jan-13\", \"Jan-14\", \"Jan-15\", \"Jan-16\", \"Jan-17\", \"Jan-18\", \"Jan-19\", \"Jan-20\", \"Jan-21\", \"Jan-22\", \"Jan-23\", \"Jan-24\", \"Jan-25\", \"Jan-26\", \"Jan-27\", \"Jan-28\", \"Jan-29\", \"Jan-30\", \"Jan-31\", \"Feb-1\", \"Feb-2\", \"Feb-3\", \"Feb-4\", \"Feb-5\", \"Feb-6\", \"Feb-7\", \"Feb-8\", \"Feb-9\", \"Feb-10\", \"Feb-11\", \"Feb-12\", \"Feb-13\", \"Feb-14\", \"Feb-15\", \"Feb-16\", \"Feb-17\", \"Feb-18\", \"Feb-19\", \"Feb-20\", \"Feb-21\", \"Feb-22\", \"Feb-23\", \"Feb-24\", \"Feb-25\", \"Feb-26\", \"Feb-27\", \"Feb-28\", \"Feb-29\"], \"y\": [30.557142857142857, 30.52285714285714, 30.82571428571428, 30.48571428571429, 30.580000000000005, 30.645714285714284, 30.585714285714285, 30.602857142857147, 30.057142857142857, 29.94, 29.77714285714286, 29.711428571428566, 29.314285714285713, 29.597142857142853, 29.442857142857157, 29.60857142857142, 29.311428571428575, 29.359999999999996, 29.27714285714286, 29.29714285714286, 28.865714285714287, 28.537142857142857, 28.55428571428572, 28.45428571428571, 28.288571428571426, 27.98, 28.374285714285712, 27.95428571428571, 27.691428571428567, 27.791428571428575, 27.74571428571428, 27.60571428571429, 27.422857142857136, 27.134285714285713, 27.24857142857143, 26.965714285714288, 26.868571428571435, 27.048571428571424, 26.217142857142854, 25.86571428571428, 26.205714285714286, 26.094285714285714, 25.759999999999998, 25.791428571428565, 25.77142857142857, 25.534285714285712, 25.38285714285714, 25.25714285714286, 25.37142857142857, 24.791428571428572, 24.754285714285714, 24.339999999999996, 24.58, 24.868571428571432, 24.379999999999992, 24.20285714285715, 24.200000000000003, 23.899999999999995, 24.08857142857143, 24.097142857142853, 24.47142857142857, 24.108571428571423, 23.865714285714283, 23.67714285714286, 23.28285714285714, 23.202857142857145, 23.277142857142863, 23.454285714285714, 23.74, 23.068571428571424, 23.462857142857143, 23.45142857142857, 23.414285714285715, 23.33714285714286, 23.479999999999997, 23.482857142857146, 23.43428571428571, 23.825714285714287, 23.808571428571426, 24.094285714285714, 23.92285714285714, 23.43428571428571, 24.054285714285715, 24.297142857142852, 24.039999999999996, 24.568571428571424, 24.734285714285715, 25.16, 25.18857142857142, 25.337142857142858, 25.160000000000004, 25.56857142857143, 25.608571428571427, 25.997142857142858, 25.897142857142857, 26.225714285714286, 26.42, 27.054285714285715, 27.002857142857142, 27.34, 27.45714285714286, 27.45142857142857, 27.39428571428571, 27.62571428571429, 27.974285714285713, 27.794285714285717, 27.82, 28.279999999999994, 28.462857142857143, 28.639999999999997, 28.92285714285714, 28.622857142857146, 28.87714285714286, 29.065714285714286, 29.32, 29.49142857142857, 29.714285714285715, 29.84285714285715, 29.694285714285712, 30.334285714285716, 30.311111111111114]}, {\"error_y\": {\"array\": [2.464016670248094, 2.1238422451662786, 1.8587426851901527, 1.833406161018475, 1.7022624589033253, 1.5942122208294662, 1.9805355357587902, 1.866655662232469, 1.9958696847037207, 2.04231290864224, 2.0696364313529068, 1.9817528952458041, 1.8889417249709255, 1.9993192118629708, 2.1445925745755, 1.9818801021998775, 2.3131447545413546, 2.155068288414799, 2.4263850761606505, 2.155594636125753, 2.348663127695191, 2.0525982714271067, 2.042242958739485, 1.9510738262890654, 1.8207856832152645, 1.916689197285673, 1.8429424773415786, 2.335952111860935, 2.217546528269929, 1.9116933406201497, 2.207218866820964, 2.105115817488913, 2.197049205203205, 1.8936648031144847, 1.9454752503128463, 2.097265125920747, 2.143303034841239, 2.333587421139572, 2.37911783665128, 2.5108437096828196, 2.536450242353036, 2.314670058343434, 2.1639250053020387, 2.6153618577663056, 2.0712842604034236, 2.0341744139130467, 2.347331758945595, 2.152536123902659, 2.3346926812680047, 2.321431027794434, 2.1871396461892356, 2.362245050936137, 2.5738601948281903, 2.3409399821439254, 2.4321723180880808, 2.2465585258532736, 2.1717127191352406, 2.401267172476533, 2.020183867162308, 1.8223265211206887, 2.106340966915747, 2.153586026400906, 2.683124981037139, 2.9078479726307522, 2.4042609234929757, 1.943820201250598, 2.2005461506963533, 2.4881804630707003, 2.844549557464934, 2.8743373368570397, 2.5722827712874388, 2.6305988710117068, 2.800270095016196, 2.4685245482632237, 2.7203775071692906, 2.3458814257897913, 3.0434859491525628, 2.189136662643768, 2.3583572120219194, 2.6912806610680087, 2.8960767434931136, 3.0009886326191317, 2.399667343892594, 3.094049588669008, 2.6611332646263395, 2.576884967252861, 2.4230684068349535, 2.3470095401409443, 2.4346759658779087, 2.283823272386854, 2.3866223803850124, 2.370274600267291, 2.7291824737070836, 2.2543776275049745, 1.9712556251018785, 2.2901029296892808, 2.1589057296648764, 2.112340690626706, 2.0150901308115516, 2.158605992749203, 2.571194667232865, 2.427098416358322, 2.3791920102944064, 2.7692428355694885, 2.8117759572223116, 2.590048829882648, 2.3329859685415517, 2.467666539721383, 2.7141614301488333, 2.4707634991855376, 2.7312939033642314, 3.094025144797414, 2.8003751249316826, 2.4427495184901855, 2.5319305418805547, 2.628390567398596, 3.238144504485984, 2.792541085514359, 3.0676462934166002, 2.4898347959100358, 3.2861240255217252], \"thickness\": 0.5, \"type\": \"data\", \"visible\": true}, \"mode\": \"lines+markers\", \"name\": \"Historical Min Temperature (1984-2018)\", \"type\": \"scatter\", \"x\": [\"Nov-1\", \"Nov-2\", \"Nov-3\", \"Nov-4\", \"Nov-5\", \"Nov-6\", \"Nov-7\", \"Nov-8\", \"Nov-9\", \"Nov-10\", \"Nov-11\", \"Nov-12\", \"Nov-13\", \"Nov-14\", \"Nov-15\", \"Nov-16\", \"Nov-17\", \"Nov-18\", \"Nov-19\", \"Nov-20\", \"Nov-21\", \"Nov-22\", \"Nov-23\", \"Nov-24\", \"Nov-25\", \"Nov-26\", \"Nov-27\", \"Nov-28\", \"Nov-29\", \"Nov-30\", \"Dec-1\", \"Dec-2\", \"Dec-3\", \"Dec-4\", \"Dec-5\", \"Dec-6\", \"Dec-7\", \"Dec-8\", \"Dec-9\", \"Dec-10\", \"Dec-11\", \"Dec-12\", \"Dec-13\", \"Dec-14\", \"Dec-15\", \"Dec-16\", \"Dec-17\", \"Dec-18\", \"Dec-19\", \"Dec-20\", \"Dec-21\", \"Dec-22\", \"Dec-23\", \"Dec-24\", \"Dec-25\", \"Dec-26\", \"Dec-27\", \"Dec-28\", \"Dec-29\", \"Dec-30\", \"Dec-31\", \"Jan-1\", \"Jan-2\", \"Jan-3\", \"Jan-4\", \"Jan-5\", \"Jan-6\", \"Jan-7\", \"Jan-8\", \"Jan-9\", \"Jan-10\", \"Jan-11\", \"Jan-12\", \"Jan-13\", \"Jan-14\", \"Jan-15\", \"Jan-16\", \"Jan-17\", \"Jan-18\", \"Jan-19\", \"Jan-20\", \"Jan-21\", \"Jan-22\", \"Jan-23\", \"Jan-24\", \"Jan-25\", \"Jan-26\", \"Jan-27\", \"Jan-28\", \"Jan-29\", \"Jan-30\", \"Jan-31\", \"Feb-1\", \"Feb-2\", \"Feb-3\", \"Feb-4\", \"Feb-5\", \"Feb-6\", \"Feb-7\", \"Feb-8\", \"Feb-9\", \"Feb-10\", \"Feb-11\", \"Feb-12\", \"Feb-13\", \"Feb-14\", \"Feb-15\", \"Feb-16\", \"Feb-17\", \"Feb-18\", \"Feb-19\", \"Feb-20\", \"Feb-21\", \"Feb-22\", \"Feb-23\", \"Feb-24\", \"Feb-25\", \"Feb-26\", \"Feb-27\", \"Feb-28\", \"Feb-29\"], \"y\": [20.425714285714285, 20.460000000000004, 20.19142857142857, 20.145714285714284, 20.122857142857146, 19.67142857142857, 19.157142857142862, 18.997142857142858, 18.63428571428571, 18.58857142857143, 18.131428571428575, 17.98285714285714, 17.91142857142857, 17.10857142857143, 17.188571428571425, 17.054285714285715, 17.177142857142854, 17.254285714285714, 17.38285714285714, 16.760000000000005, 16.228571428571428, 15.591428571428573, 15.557142857142857, 15.451428571428574, 15.534285714285712, 14.95714285714286, 14.765714285714287, 14.474285714285715, 14.411428571428573, 14.668571428571427, 14.422857142857143, 14.228571428571428, 14.005714285714284, 13.885714285714284, 13.857142857142856, 14.11714285714286, 14.251428571428571, 13.871428571428572, 13.845714285714287, 13.608571428571427, 13.662857142857145, 13.377142857142857, 13.151428571428573, 13.359999999999998, 12.64857142857143, 12.408571428571427, 12.694285714285714, 12.819999999999995, 12.745714285714286, 12.048571428571428, 12.16285714285714, 11.725714285714288, 12.262857142857143, 11.999999999999998, 12.057142857142857, 11.394285714285715, 10.768571428571429, 11.125714285714285, 10.394285714285713, 10.602857142857141, 10.954285714285716, 11.197142857142856, 11.27142857142857, 11.297142857142859, 10.82, 10.454285714285716, 10.322857142857146, 10.711428571428572, 10.397142857142859, 10.862857142857141, 10.257142857142858, 9.922857142857142, 10.12857142857143, 10.114285714285712, 9.81142857142857, 9.808571428571431, 10.611428571428572, 10.394285714285715, 10.085714285714285, 10.422857142857142, 10.074285714285717, 10.03714285714286, 9.742857142857142, 10.254285714285714, 10.431428571428572, 9.928571428571429, 10.114285714285714, 10.051428571428568, 10.6, 10.765714285714287, 11.414285714285715, 11.094285714285714, 11.674285714285713, 11.46857142857143, 11.494285714285713, 11.51142857142857, 11.897142857142857, 11.808571428571431, 12.0, 12.642857142857142, 12.988571428571431, 13.008571428571427, 12.634285714285715, 13.12, 13.125714285714281, 13.459999999999999, 13.679999999999998, 13.665714285714285, 13.954285714285712, 13.705714285714285, 13.794285714285714, 13.937142857142858, 14.52857142857143, 14.205714285714285, 14.185714285714285, 14.245714285714286, 14.782857142857143, 14.962857142857148, 14.98857142857143, 14.688571428571432, 14.11111111111111]}, {\"marker\": {\"size\": 8}, \"mode\": \"lines+markers\", \"name\": \"Observed Max Temperature (2019)\", \"type\": \"scatter\", \"x\": [\"Nov-1\", \"Nov-2\", \"Nov-3\", \"Nov-4\", \"Nov-5\", \"Nov-6\", \"Nov-7\", \"Nov-8\", \"Nov-9\", \"Nov-10\", \"Nov-11\", \"Nov-12\", \"Nov-13\", \"Nov-14\", \"Nov-15\", \"Nov-16\", \"Nov-17\", \"Nov-18\", \"Nov-19\", \"Nov-20\", \"Nov-21\", \"Nov-22\", \"Nov-23\", \"Nov-24\", \"Nov-25\", \"Nov-26\", \"Nov-27\", \"Nov-28\", \"Nov-29\", \"Nov-30\", \"Dec-1\", \"Dec-2\", \"Dec-3\", \"Dec-4\", \"Dec-5\", \"Dec-6\", \"Dec-7\", \"Dec-8\", \"Dec-9\", \"Dec-10\", \"Dec-11\", \"Dec-12\", \"Dec-13\", \"Dec-14\", \"Dec-15\", \"Dec-16\", \"Dec-17\", \"Dec-18\", \"Dec-19\", \"Dec-20\", \"Dec-21\", \"Dec-22\", \"Dec-23\", \"Dec-24\", \"Dec-25\", \"Dec-26\", \"Dec-27\", \"Dec-28\", \"Dec-29\", \"Dec-30\", \"Dec-31\", \"Jan-1\", \"Jan-2\", \"Jan-3\", \"Jan-4\", \"Jan-5\", \"Jan-6\", \"Jan-7\", \"Jan-8\", \"Jan-9\", \"Jan-10\", \"Jan-11\", \"Jan-12\", \"Jan-13\", \"Jan-14\", \"Jan-15\", \"Jan-16\", \"Jan-17\", \"Jan-18\", \"Jan-19\", \"Jan-20\", \"Jan-21\", \"Jan-22\", \"Jan-23\", \"Jan-24\", \"Jan-25\", \"Jan-26\", \"Jan-27\", \"Jan-28\", \"Jan-29\", \"Jan-30\", \"Jan-31\", \"Feb-1\", \"Feb-2\", \"Feb-3\", \"Feb-4\", \"Feb-5\", \"Feb-6\", \"Feb-7\", \"Feb-8\", \"Feb-9\", \"Feb-10\", \"Feb-11\", \"Feb-12\", \"Feb-13\", \"Feb-14\", \"Feb-15\", \"Feb-16\", \"Feb-17\", \"Feb-18\", \"Feb-19\", \"Feb-20\", \"Feb-21\", \"Feb-22\", \"Feb-23\", \"Feb-24\", \"Feb-25\", \"Feb-26\", \"Feb-27\", \"Feb-28\", \"Feb-29\"], \"y\": [31.3, 31.0, 31.2, 32.0, 31.0, 30.0, 29.5, 28.8, 25.3, 28.9, 31.0, 32.0, 30.8, 32.0, 31.9, 31.2, 30.0, 30.0, 29.8, 28.5, 28.8, 29.0, 28.3, 29.4, 29.0, 29.0, 29.6, 30.7, 30.3, 29.2, 28.6, 27.5, 27.4, 26.6, 28.5, 29.5, 28.5, 28.0, 27.6, 26.0, 25.5, 25.2, 26.9, 25.8, 23.8, 26.4, 24.4, null, null, null, null, null, null, null, null, null, null, null, null, null, null, null, null, null, null, null, null, null, null, null, null, null, null, null, null, null, null, null, null, null, null, null, null, null, null, null, null, null, null, null, null, null, null, null, null, null, null, null, null, null, null, null, null, null, null, null, null, null, null, null, null, null, null, null, null, null, null, null, null, null, null]}, {\"marker\": {\"size\": 8}, \"mode\": \"lines+markers\", \"name\": \"Observed Min Temperature (2019)\", \"type\": \"scatter\", \"x\": [\"Nov-1\", \"Nov-2\", \"Nov-3\", \"Nov-4\", \"Nov-5\", \"Nov-6\", \"Nov-7\", \"Nov-8\", \"Nov-9\", \"Nov-10\", \"Nov-11\", \"Nov-12\", \"Nov-13\", \"Nov-14\", \"Nov-15\", \"Nov-16\", \"Nov-17\", \"Nov-18\", \"Nov-19\", \"Nov-20\", \"Nov-21\", \"Nov-22\", \"Nov-23\", \"Nov-24\", \"Nov-25\", \"Nov-26\", \"Nov-27\", \"Nov-28\", \"Nov-29\", \"Nov-30\", \"Dec-1\", \"Dec-2\", \"Dec-3\", \"Dec-4\", \"Dec-5\", \"Dec-6\", \"Dec-7\", \"Dec-8\", \"Dec-9\", \"Dec-10\", \"Dec-11\", \"Dec-12\", \"Dec-13\", \"Dec-14\", \"Dec-15\", \"Dec-16\", \"Dec-17\", \"Dec-18\", \"Dec-19\", \"Dec-20\", \"Dec-21\", \"Dec-22\", \"Dec-23\", \"Dec-24\", \"Dec-25\", \"Dec-26\", \"Dec-27\", \"Dec-28\", \"Dec-29\", \"Dec-30\", \"Dec-31\", \"Jan-1\", \"Jan-2\", \"Jan-3\", \"Jan-4\", \"Jan-5\", \"Jan-6\", \"Jan-7\", \"Jan-8\", \"Jan-9\", \"Jan-10\", \"Jan-11\", \"Jan-12\", \"Jan-13\", \"Jan-14\", \"Jan-15\", \"Jan-16\", \"Jan-17\", \"Jan-18\", \"Jan-19\", \"Jan-20\", \"Jan-21\", \"Jan-22\", \"Jan-23\", \"Jan-24\", \"Jan-25\", \"Jan-26\", \"Jan-27\", \"Jan-28\", \"Jan-29\", \"Jan-30\", \"Jan-31\", \"Feb-1\", \"Feb-2\", \"Feb-3\", \"Feb-4\", \"Feb-5\", \"Feb-6\", \"Feb-7\", \"Feb-8\", \"Feb-9\", \"Feb-10\", \"Feb-11\", \"Feb-12\", \"Feb-13\", \"Feb-14\", \"Feb-15\", \"Feb-16\", \"Feb-17\", \"Feb-18\", \"Feb-19\", \"Feb-20\", \"Feb-21\", \"Feb-22\", \"Feb-23\", \"Feb-24\", \"Feb-25\", \"Feb-26\", \"Feb-27\", \"Feb-28\", \"Feb-29\"], \"y\": [20.5, 21.3, 22.2, 20.5, 21.8, 17.8, 17.2, 19.8, 22.6, 23.0, 20.4, 19.0, 17.4, 18.6, 20.5, 18.8, 16.9, 16.3, 17.4, 14.4, 16.2, 16.1, 15.8, 15.2, 16.9, 17.5, 16.8, 17.0, 16.0, 15.8, 14.7, 13.9, 13.1, 13.8, 13.8, 14.8, 15.4, 17.4, 14.7, 13.0, 13.5, 14.4, 13.4, 14.0, 14.0, 17.3, 14.3, 11.4, null, null, null, null, null, null, null, null, null, null, null, null, null, null, null, null, null, null, null, null, null, null, null, null, null, null, null, null, null, null, null, null, null, null, null, null, null, null, null, null, null, null, null, null, null, null, null, null, null, null, null, null, null, null, null, null, null, null, null, null, null, null, null, null, null, null, null, null, null, null, null, null, null]}],\n",
              "                        {\"hovermode\": \"closest\", \"template\": {\"data\": {\"bar\": [{\"error_x\": {\"color\": \"#2a3f5f\"}, \"error_y\": {\"color\": \"#2a3f5f\"}, \"marker\": {\"line\": {\"color\": \"#E5ECF6\", \"width\": 0.5}}, \"type\": \"bar\"}], \"barpolar\": [{\"marker\": {\"line\": {\"color\": \"#E5ECF6\", \"width\": 0.5}}, \"type\": \"barpolar\"}], \"carpet\": [{\"aaxis\": {\"endlinecolor\": \"#2a3f5f\", \"gridcolor\": \"white\", \"linecolor\": \"white\", \"minorgridcolor\": \"white\", \"startlinecolor\": \"#2a3f5f\"}, \"baxis\": {\"endlinecolor\": \"#2a3f5f\", \"gridcolor\": \"white\", \"linecolor\": \"white\", \"minorgridcolor\": \"white\", \"startlinecolor\": \"#2a3f5f\"}, \"type\": \"carpet\"}], \"choropleth\": [{\"colorbar\": {\"outlinewidth\": 0, \"ticks\": \"\"}, \"type\": \"choropleth\"}], \"contour\": [{\"colorbar\": {\"outlinewidth\": 0, \"ticks\": \"\"}, \"colorscale\": [[0.0, \"#0d0887\"], [0.1111111111111111, \"#46039f\"], [0.2222222222222222, \"#7201a8\"], [0.3333333333333333, \"#9c179e\"], [0.4444444444444444, \"#bd3786\"], [0.5555555555555556, \"#d8576b\"], [0.6666666666666666, \"#ed7953\"], [0.7777777777777778, \"#fb9f3a\"], [0.8888888888888888, \"#fdca26\"], [1.0, \"#f0f921\"]], \"type\": \"contour\"}], \"contourcarpet\": [{\"colorbar\": {\"outlinewidth\": 0, \"ticks\": \"\"}, \"type\": \"contourcarpet\"}], \"heatmap\": [{\"colorbar\": {\"outlinewidth\": 0, \"ticks\": \"\"}, \"colorscale\": [[0.0, \"#0d0887\"], [0.1111111111111111, \"#46039f\"], [0.2222222222222222, \"#7201a8\"], [0.3333333333333333, \"#9c179e\"], [0.4444444444444444, \"#bd3786\"], [0.5555555555555556, \"#d8576b\"], [0.6666666666666666, \"#ed7953\"], [0.7777777777777778, \"#fb9f3a\"], [0.8888888888888888, \"#fdca26\"], [1.0, \"#f0f921\"]], \"type\": \"heatmap\"}], \"heatmapgl\": [{\"colorbar\": {\"outlinewidth\": 0, \"ticks\": \"\"}, \"colorscale\": [[0.0, \"#0d0887\"], [0.1111111111111111, \"#46039f\"], [0.2222222222222222, \"#7201a8\"], [0.3333333333333333, \"#9c179e\"], [0.4444444444444444, \"#bd3786\"], [0.5555555555555556, \"#d8576b\"], [0.6666666666666666, \"#ed7953\"], [0.7777777777777778, \"#fb9f3a\"], [0.8888888888888888, \"#fdca26\"], [1.0, \"#f0f921\"]], \"type\": \"heatmapgl\"}], \"histogram\": [{\"marker\": {\"colorbar\": {\"outlinewidth\": 0, \"ticks\": \"\"}}, \"type\": \"histogram\"}], \"histogram2d\": [{\"colorbar\": {\"outlinewidth\": 0, \"ticks\": \"\"}, \"colorscale\": [[0.0, \"#0d0887\"], [0.1111111111111111, \"#46039f\"], [0.2222222222222222, \"#7201a8\"], [0.3333333333333333, \"#9c179e\"], [0.4444444444444444, \"#bd3786\"], [0.5555555555555556, \"#d8576b\"], [0.6666666666666666, \"#ed7953\"], [0.7777777777777778, \"#fb9f3a\"], [0.8888888888888888, \"#fdca26\"], [1.0, \"#f0f921\"]], \"type\": \"histogram2d\"}], \"histogram2dcontour\": [{\"colorbar\": {\"outlinewidth\": 0, \"ticks\": \"\"}, \"colorscale\": [[0.0, \"#0d0887\"], [0.1111111111111111, \"#46039f\"], [0.2222222222222222, \"#7201a8\"], [0.3333333333333333, \"#9c179e\"], [0.4444444444444444, \"#bd3786\"], [0.5555555555555556, \"#d8576b\"], [0.6666666666666666, \"#ed7953\"], [0.7777777777777778, \"#fb9f3a\"], [0.8888888888888888, \"#fdca26\"], [1.0, \"#f0f921\"]], \"type\": \"histogram2dcontour\"}], \"mesh3d\": [{\"colorbar\": {\"outlinewidth\": 0, \"ticks\": \"\"}, \"type\": \"mesh3d\"}], \"parcoords\": [{\"line\": {\"colorbar\": {\"outlinewidth\": 0, \"ticks\": \"\"}}, \"type\": \"parcoords\"}], \"scatter\": [{\"marker\": {\"colorbar\": {\"outlinewidth\": 0, \"ticks\": \"\"}}, \"type\": \"scatter\"}], \"scatter3d\": [{\"line\": {\"colorbar\": {\"outlinewidth\": 0, \"ticks\": \"\"}}, \"marker\": {\"colorbar\": {\"outlinewidth\": 0, \"ticks\": \"\"}}, \"type\": \"scatter3d\"}], \"scattercarpet\": [{\"marker\": {\"colorbar\": {\"outlinewidth\": 0, \"ticks\": \"\"}}, \"type\": \"scattercarpet\"}], \"scattergeo\": [{\"marker\": {\"colorbar\": {\"outlinewidth\": 0, \"ticks\": \"\"}}, \"type\": \"scattergeo\"}], \"scattergl\": [{\"marker\": {\"colorbar\": {\"outlinewidth\": 0, \"ticks\": \"\"}}, \"type\": \"scattergl\"}], \"scattermapbox\": [{\"marker\": {\"colorbar\": {\"outlinewidth\": 0, \"ticks\": \"\"}}, \"type\": \"scattermapbox\"}], \"scatterpolar\": [{\"marker\": {\"colorbar\": {\"outlinewidth\": 0, \"ticks\": \"\"}}, \"type\": \"scatterpolar\"}], \"scatterpolargl\": [{\"marker\": {\"colorbar\": {\"outlinewidth\": 0, \"ticks\": \"\"}}, \"type\": \"scatterpolargl\"}], \"scatterternary\": [{\"marker\": {\"colorbar\": {\"outlinewidth\": 0, \"ticks\": \"\"}}, \"type\": \"scatterternary\"}], \"surface\": [{\"colorbar\": {\"outlinewidth\": 0, \"ticks\": \"\"}, \"colorscale\": [[0.0, \"#0d0887\"], [0.1111111111111111, \"#46039f\"], [0.2222222222222222, \"#7201a8\"], [0.3333333333333333, \"#9c179e\"], [0.4444444444444444, \"#bd3786\"], [0.5555555555555556, \"#d8576b\"], [0.6666666666666666, \"#ed7953\"], [0.7777777777777778, \"#fb9f3a\"], [0.8888888888888888, \"#fdca26\"], [1.0, \"#f0f921\"]], \"type\": \"surface\"}], \"table\": [{\"cells\": {\"fill\": {\"color\": \"#EBF0F8\"}, \"line\": {\"color\": \"white\"}}, \"header\": {\"fill\": {\"color\": \"#C8D4E3\"}, \"line\": {\"color\": \"white\"}}, \"type\": \"table\"}]}, \"layout\": {\"annotationdefaults\": {\"arrowcolor\": \"#2a3f5f\", \"arrowhead\": 0, \"arrowwidth\": 1}, \"colorscale\": {\"diverging\": [[0, \"#8e0152\"], [0.1, \"#c51b7d\"], [0.2, \"#de77ae\"], [0.3, \"#f1b6da\"], [0.4, \"#fde0ef\"], [0.5, \"#f7f7f7\"], [0.6, \"#e6f5d0\"], [0.7, \"#b8e186\"], [0.8, \"#7fbc41\"], [0.9, \"#4d9221\"], [1, \"#276419\"]], \"sequential\": [[0.0, \"#0d0887\"], [0.1111111111111111, \"#46039f\"], [0.2222222222222222, \"#7201a8\"], [0.3333333333333333, \"#9c179e\"], [0.4444444444444444, \"#bd3786\"], [0.5555555555555556, \"#d8576b\"], [0.6666666666666666, \"#ed7953\"], [0.7777777777777778, \"#fb9f3a\"], [0.8888888888888888, \"#fdca26\"], [1.0, \"#f0f921\"]], \"sequentialminus\": [[0.0, \"#0d0887\"], [0.1111111111111111, \"#46039f\"], [0.2222222222222222, \"#7201a8\"], [0.3333333333333333, \"#9c179e\"], [0.4444444444444444, \"#bd3786\"], [0.5555555555555556, \"#d8576b\"], [0.6666666666666666, \"#ed7953\"], [0.7777777777777778, \"#fb9f3a\"], [0.8888888888888888, \"#fdca26\"], [1.0, \"#f0f921\"]]}, \"colorway\": [\"#636efa\", \"#EF553B\", \"#00cc96\", \"#ab63fa\", \"#FFA15A\", \"#19d3f3\", \"#FF6692\", \"#B6E880\", \"#FF97FF\", \"#FECB52\"], \"font\": {\"color\": \"#2a3f5f\"}, \"geo\": {\"bgcolor\": \"white\", \"lakecolor\": \"white\", \"landcolor\": \"#E5ECF6\", \"showlakes\": true, \"showland\": true, \"subunitcolor\": \"white\"}, \"hoverlabel\": {\"align\": \"left\"}, \"hovermode\": \"closest\", \"mapbox\": {\"style\": \"light\"}, \"paper_bgcolor\": \"white\", \"plot_bgcolor\": \"#E5ECF6\", \"polar\": {\"angularaxis\": {\"gridcolor\": \"white\", \"linecolor\": \"white\", \"ticks\": \"\"}, \"bgcolor\": \"#E5ECF6\", \"radialaxis\": {\"gridcolor\": \"white\", \"linecolor\": \"white\", \"ticks\": \"\"}}, \"scene\": {\"xaxis\": {\"backgroundcolor\": \"#E5ECF6\", \"gridcolor\": \"white\", \"gridwidth\": 2, \"linecolor\": \"white\", \"showbackground\": true, \"ticks\": \"\", \"zerolinecolor\": \"white\"}, \"yaxis\": {\"backgroundcolor\": \"#E5ECF6\", \"gridcolor\": \"white\", \"gridwidth\": 2, \"linecolor\": \"white\", \"showbackground\": true, \"ticks\": \"\", \"zerolinecolor\": \"white\"}, \"zaxis\": {\"backgroundcolor\": \"#E5ECF6\", \"gridcolor\": \"white\", \"gridwidth\": 2, \"linecolor\": \"white\", \"showbackground\": true, \"ticks\": \"\", \"zerolinecolor\": \"white\"}}, \"shapedefaults\": {\"line\": {\"color\": \"#2a3f5f\"}}, \"ternary\": {\"aaxis\": {\"gridcolor\": \"white\", \"linecolor\": \"white\", \"ticks\": \"\"}, \"baxis\": {\"gridcolor\": \"white\", \"linecolor\": \"white\", \"ticks\": \"\"}, \"bgcolor\": \"#E5ECF6\", \"caxis\": {\"gridcolor\": \"white\", \"linecolor\": \"white\", \"ticks\": \"\"}}, \"title\": {\"x\": 0.05}, \"xaxis\": {\"automargin\": true, \"gridcolor\": \"white\", \"linecolor\": \"white\", \"ticks\": \"\", \"zerolinecolor\": \"white\", \"zerolinewidth\": 2}, \"yaxis\": {\"automargin\": true, \"gridcolor\": \"white\", \"linecolor\": \"white\", \"ticks\": \"\", \"zerolinecolor\": \"white\", \"zerolinewidth\": 2}}}, \"title\": {\"text\": \"Rajshahi Station Historic vs Observed Temperature\"}, \"xaxis\": {\"title\": {\"text\": \"Days\"}}, \"yaxis\": {\"title\": {\"text\": \"Temperature\"}}},\n",
              "                        {\"responsive\": true}\n",
              "                    ).then(function(){\n",
              "                            \n",
              "var gd = document.getElementById('a0ce94c0-e900-4d04-a38b-f97c2dc5d2b4');\n",
              "var x = new MutationObserver(function (mutations, observer) {{\n",
              "        var display = window.getComputedStyle(gd).display;\n",
              "        if (!display || display === 'none') {{\n",
              "            console.log([gd, 'removed!']);\n",
              "            Plotly.purge(gd);\n",
              "            observer.disconnect();\n",
              "        }}\n",
              "}});\n",
              "\n",
              "// Listen for the removal of the full notebook cells\n",
              "var notebookContainer = gd.closest('#notebook-container');\n",
              "if (notebookContainer) {{\n",
              "    x.observe(notebookContainer, {childList: true});\n",
              "}}\n",
              "\n",
              "// Listen for the clearing of the current output cell\n",
              "var outputEl = gd.closest('.output');\n",
              "if (outputEl) {{\n",
              "    x.observe(outputEl, {childList: true});\n",
              "}}\n",
              "\n",
              "                        })\n",
              "                };\n",
              "                \n",
              "            </script>\n",
              "        </div>\n",
              "</body>\n",
              "</html>"
            ]
          },
          "metadata": {
            "tags": []
          }
        }
      ]
    },
    {
      "cell_type": "code",
      "metadata": {
        "id": "FEJRi7XS0-Q3",
        "colab_type": "code",
        "colab": {}
      },
      "source": [
        "fig.write_html('/content/drive/My Drive/Colab Notebooks/CIMMYT/191219/191219_rajshahi(BMDvsKOBO).html')"
      ],
      "execution_count": 0,
      "outputs": []
    },
    {
      "cell_type": "code",
      "metadata": {
        "id": "FUBH3Fps1Gmc",
        "colab_type": "code",
        "colab": {}
      },
      "source": [
        "tmin_bho = tmin_df[['Year','Month','Day','Bhola']]\n",
        "tmax_bho = tmax_df[['Bhola']]\n",
        "tmin_bho.columns = ['Year','Month','Day','Min']\n",
        "tmax_bho.columns = ['Max']\n",
        "history_bho = pd.concat([tmin_bho,tmax_bho], axis=1, sort=False)\n",
        "\n",
        "history_bho = history_bho[history_bho['Min']!=-9999.0]\n",
        "history_bho = history_bho[history_bho['Max']!=-9999.0]\n",
        "\n",
        "history_bho['Year'] = history_bho['Year'].astype('int64')\n",
        "history_bho['Month'] = history_bho['Month'].astype('int64')\n",
        "\n",
        "novb = history_bho[history_bho['Month']==11].groupby(['Day']).mean()\n",
        "novb['minSE'] = history_bho[history_bho['Month']==11].groupby(['Day']).std()['Min']\n",
        "novb['maxSE'] = history_bho[history_bho['Month']==11].groupby(['Day']).std()['Max']\n",
        "novb = novb.reset_index()\n",
        "novb = novb[['Day','Month','Min','Max','minSE','maxSE']]\n",
        "novb['Month'] = novb['Month'].astype('int64')\n",
        "\n",
        "\n",
        "decb = history_bho[history_bho['Month']==12].groupby(['Day']).mean()\n",
        "decb['minSE'] = history_bho[history_bho['Month']==12].groupby(['Day']).std()['Min']\n",
        "decb['maxSE'] = history_bho[history_bho['Month']==12].groupby(['Day']).std()['Max']\n",
        "decb = decb.reset_index()\n",
        "decb = decb[['Day','Month','Min','Max','minSE','maxSE']]\n",
        "decb['Month'] = decb['Month'].astype('int64')\n",
        "\n",
        "\n",
        "janb = history_bho[history_bho['Month']==1].groupby(['Day']).mean()\n",
        "janb['minSE'] = history_bho[history_bho['Month']==1].groupby(['Day']).std()['Min']\n",
        "janb['maxSE'] = history_bho[history_bho['Month']==1].groupby(['Day']).std()['Max']\n",
        "janb = janb.reset_index()\n",
        "janb = janb[['Day','Month','Min','Max','minSE','maxSE']]\n",
        "janb['Month'] = janb['Month'].astype('int64')\n",
        "\n",
        "febb = history_bho[history_bho['Month']==2].groupby(['Day']).mean()\n",
        "febb['minSE'] = history_bho[history_bho['Month']==2].groupby(['Day']).std()['Min']\n",
        "febb['maxSE'] = history_bho[history_bho['Month']==2].groupby(['Day']).std()['Max']\n",
        "febb = febb.reset_index()\n",
        "febb = febb[['Day','Month','Min','Max','minSE','maxSE']]\n",
        "febb['Month'] = febb['Month'].astype('int64')\n",
        "\n",
        "tot_histb = novb.append(decb).append(janb).append(febb)\n",
        "tot_histb = tot_histb.reset_index()\n",
        "\n",
        "tot_histb['Month'] = tot_histb['Month'].apply(lambda x: calendar.month_abbr[x])\n",
        "tot_histb[\"comb\"] = tot_histb[\"Month\"] +\"-\"+tot_histb[\"Day\"].map(str) \n"
      ],
      "execution_count": 0,
      "outputs": []
    },
    {
      "cell_type": "code",
      "metadata": {
        "id": "ejU1CRic2fEW",
        "colab_type": "code",
        "outputId": "88b09ab1-bcf3-4a5b-d9ea-b863b7d42336",
        "colab": {
          "base_uri": "https://localhost:8080/",
          "height": 204
        }
      },
      "source": [
        "his_obsb = pd.concat([tot_histb,bho_df[['obsMax','obsMin']]], axis=1, sort=False)\n",
        "his_obsb.tail()"
      ],
      "execution_count": 0,
      "outputs": [
        {
          "output_type": "execute_result",
          "data": {
            "text/html": [
              "<div>\n",
              "<style scoped>\n",
              "    .dataframe tbody tr th:only-of-type {\n",
              "        vertical-align: middle;\n",
              "    }\n",
              "\n",
              "    .dataframe tbody tr th {\n",
              "        vertical-align: top;\n",
              "    }\n",
              "\n",
              "    .dataframe thead th {\n",
              "        text-align: right;\n",
              "    }\n",
              "</style>\n",
              "<table border=\"1\" class=\"dataframe\">\n",
              "  <thead>\n",
              "    <tr style=\"text-align: right;\">\n",
              "      <th></th>\n",
              "      <th>index</th>\n",
              "      <th>Day</th>\n",
              "      <th>Month</th>\n",
              "      <th>Min</th>\n",
              "      <th>Max</th>\n",
              "      <th>minSE</th>\n",
              "      <th>maxSE</th>\n",
              "      <th>comb</th>\n",
              "      <th>obsMax</th>\n",
              "      <th>obsMin</th>\n",
              "    </tr>\n",
              "  </thead>\n",
              "  <tbody>\n",
              "    <tr>\n",
              "      <th>116</th>\n",
              "      <td>24</td>\n",
              "      <td>25</td>\n",
              "      <td>Feb</td>\n",
              "      <td>17.071429</td>\n",
              "      <td>30.020000</td>\n",
              "      <td>3.245410</td>\n",
              "      <td>2.316158</td>\n",
              "      <td>Feb-25</td>\n",
              "      <td>NaN</td>\n",
              "      <td>NaN</td>\n",
              "    </tr>\n",
              "    <tr>\n",
              "      <th>117</th>\n",
              "      <td>25</td>\n",
              "      <td>26</td>\n",
              "      <td>Feb</td>\n",
              "      <td>18.260000</td>\n",
              "      <td>30.048571</td>\n",
              "      <td>3.421403</td>\n",
              "      <td>2.142891</td>\n",
              "      <td>Feb-26</td>\n",
              "      <td>NaN</td>\n",
              "      <td>NaN</td>\n",
              "    </tr>\n",
              "    <tr>\n",
              "      <th>118</th>\n",
              "      <td>26</td>\n",
              "      <td>27</td>\n",
              "      <td>Feb</td>\n",
              "      <td>18.120000</td>\n",
              "      <td>29.894286</td>\n",
              "      <td>3.204390</td>\n",
              "      <td>1.836067</td>\n",
              "      <td>Feb-27</td>\n",
              "      <td>NaN</td>\n",
              "      <td>NaN</td>\n",
              "    </tr>\n",
              "    <tr>\n",
              "      <th>119</th>\n",
              "      <td>27</td>\n",
              "      <td>28</td>\n",
              "      <td>Feb</td>\n",
              "      <td>17.954286</td>\n",
              "      <td>30.462857</td>\n",
              "      <td>2.811985</td>\n",
              "      <td>1.455635</td>\n",
              "      <td>Feb-28</td>\n",
              "      <td>NaN</td>\n",
              "      <td>NaN</td>\n",
              "    </tr>\n",
              "    <tr>\n",
              "      <th>120</th>\n",
              "      <td>28</td>\n",
              "      <td>29</td>\n",
              "      <td>Feb</td>\n",
              "      <td>17.688889</td>\n",
              "      <td>29.755556</td>\n",
              "      <td>3.349420</td>\n",
              "      <td>1.618727</td>\n",
              "      <td>Feb-29</td>\n",
              "      <td>NaN</td>\n",
              "      <td>NaN</td>\n",
              "    </tr>\n",
              "  </tbody>\n",
              "</table>\n",
              "</div>"
            ],
            "text/plain": [
              "     index  Day Month        Min  ...     maxSE    comb  obsMax obsMin\n",
              "116     24   25   Feb  17.071429  ...  2.316158  Feb-25     NaN    NaN\n",
              "117     25   26   Feb  18.260000  ...  2.142891  Feb-26     NaN    NaN\n",
              "118     26   27   Feb  18.120000  ...  1.836067  Feb-27     NaN    NaN\n",
              "119     27   28   Feb  17.954286  ...  1.455635  Feb-28     NaN    NaN\n",
              "120     28   29   Feb  17.688889  ...  1.618727  Feb-29     NaN    NaN\n",
              "\n",
              "[5 rows x 10 columns]"
            ]
          },
          "metadata": {
            "tags": []
          },
          "execution_count": 24
        }
      ]
    },
    {
      "cell_type": "code",
      "metadata": {
        "id": "NfjQp7Rk2gXu",
        "colab_type": "code",
        "outputId": "f6b31968-1437-4c33-a0d3-edad7311e73f",
        "colab": {
          "base_uri": "https://localhost:8080/",
          "height": 542
        }
      },
      "source": [
        "trace1 = go.Scatter(\n",
        "    x = his_obsb.comb,\n",
        "    y = his_obsb.Max,\n",
        "    mode = 'lines + markers',\n",
        "    name='Historical Max Temperature (1984-2018)',\n",
        "    error_y=dict(\n",
        "        type='data',\n",
        "        array=tot_histb.maxSE,\n",
        "        visible = True,\n",
        "        thickness = 0.5 \n",
        "    )\n",
        ")\n",
        "trace2 = go.Scatter(\n",
        "    x = his_obsb.comb,\n",
        "    y = his_obsb.Min,\n",
        "    mode = 'lines + markers',\n",
        "    name='Historical Min Temperature (1984-2018)',\n",
        "    error_y=dict(\n",
        "        type='data',\n",
        "        array=tot_histb.minSE,\n",
        "        visible = True,\n",
        "        thickness = 0.5 \n",
        "    )\n",
        ")\n",
        "\n",
        "trace3 = go.Scatter(\n",
        "    x = his_obsb.comb,\n",
        "    y = his_obsb.obsMax,\n",
        "    mode = 'lines + markers',\n",
        "    marker = dict(size=8),\n",
        "    name='Observed Max Temperature (2019)',\n",
        ")\n",
        "trace4 = go.Scatter(\n",
        "    x = his_obsb.comb,\n",
        "    y = his_obsb.obsMin,\n",
        "    mode = 'lines + markers',\n",
        "    marker = dict(size=8),\n",
        "    name='Observed Min Temperature (2019)',\n",
        ")\n",
        "\n",
        "\n",
        "data = [trace1, trace2, trace3, trace4]\n",
        "\n",
        "layout = go.Layout(\n",
        "    title = 'Bhola Station Historic vs Observed Temperature',\n",
        "    xaxis = dict(title='Days'),\n",
        "    yaxis = dict(title='Temperature'),\n",
        "    hovermode = 'closest',\n",
        ")\n",
        "\n",
        "fig = go.Figure(data=data, layout = layout)\n",
        "fig.show()"
      ],
      "execution_count": 0,
      "outputs": [
        {
          "output_type": "display_data",
          "data": {
            "text/html": [
              "<html>\n",
              "<head><meta charset=\"utf-8\" /></head>\n",
              "<body>\n",
              "    <div>\n",
              "            <script src=\"https://cdnjs.cloudflare.com/ajax/libs/mathjax/2.7.5/MathJax.js?config=TeX-AMS-MML_SVG\"></script><script type=\"text/javascript\">if (window.MathJax) {MathJax.Hub.Config({SVG: {font: \"STIX-Web\"}});}</script>\n",
              "                <script type=\"text/javascript\">window.PlotlyConfig = {MathJaxConfig: 'local'};</script>\n",
              "        <script src=\"https://cdn.plot.ly/plotly-latest.min.js\"></script>    \n",
              "            <div id=\"750f24f5-c95b-466c-8b82-a6f63306f9a5\" class=\"plotly-graph-div\" style=\"height:525px; width:100%;\"></div>\n",
              "            <script type=\"text/javascript\">\n",
              "                \n",
              "                    window.PLOTLYENV=window.PLOTLYENV || {};\n",
              "                    \n",
              "                if (document.getElementById(\"750f24f5-c95b-466c-8b82-a6f63306f9a5\")) {\n",
              "                    Plotly.newPlot(\n",
              "                        '750f24f5-c95b-466c-8b82-a6f63306f9a5',\n",
              "                        [{\"error_y\": {\"array\": [1.6613854702242554, 1.134167595399279, 1.9149785526587124, 1.7471224841979216, 1.7284957272124204, 1.818887830839624, 1.4361889344588976, 1.7543367632788178, 1.9726576366061361, 1.5817870969786256, 1.8791067071368575, 1.84298351465609, 1.6078483978871378, 1.3316004144883493, 1.8555752918880835, 1.6550762251100017, 1.1272559081029208, 2.0216600217884007, 1.4776315366095816, 1.0920491877985297, 1.052192588691575, 1.420924069077596, 1.1923284190287227, 1.7555769479484706, 1.656071081980308, 2.1089923516921045, 1.0635520002063168, 1.8841354480383359, 1.3597021423703008, 1.4955227297818376, 1.2395648463889897, 1.1165071586398885, 1.1371496135942187, 1.137386064106436, 1.2052755185559239, 1.067566147361182, 1.0005208727491512, 1.1439794909132996, 1.7580212329383804, 1.4742438597407126, 1.411376347143918, 1.487471488322189, 1.6154037921723186, 1.8718166253646737, 1.639722255636683, 1.486278981242766, 2.3087520729722764, 2.6298161101318933, 2.066019596903651, 1.887544311906813, 1.9737904497427785, 1.8769633977887408, 1.9430635085656187, 2.4027889957262576, 1.9989619154690772, 1.9059041393090304, 2.0061795289856303, 2.303077955091162, 1.6588595859958795, 1.619435527760037, 1.6124150684427307, 1.428038556078602, 2.1803361085434716, 2.3947175760217663, 2.36354313149851, 1.8663224972832393, 1.8167983659506648, 1.9907263992419102, 1.9748077238603472, 2.593689821616361, 2.4782346658102274, 2.932352140454869, 2.3125997593744625, 2.517041079982471, 2.4113422462544443, 2.6020773859916373, 2.292156886706779, 1.8258507859178896, 2.592788965930074, 2.5752147662742564, 1.456587470364731, 2.363795552023208, 1.9006102514011372, 2.2358048952025675, 1.6718228364987295, 1.9526108356839182, 2.3112985182221992, 1.9036453309948491, 1.6232657196647295, 1.6523728799680117, 1.3395283253644852, 1.6182000582657983, 1.6663097657080814, 2.435997543843886, 1.948811316217783, 2.012252385727384, 1.6383892479295294, 1.970411380499859, 2.4159727584863, 2.1277991944177215, 1.8165208226606326, 1.9251235909250437, 1.728155377390402, 1.8794465482505984, 1.877607990158191, 2.0065313521664425, 2.093515398245037, 2.2007179882632735, 2.384677981537602, 2.1971601227589246, 1.879155898470455, 2.1372250916637143, 2.1811723006314794, 2.136151412504005, 2.3211305561780726, 2.55802576185607, 2.3161580764909204, 2.1428913162541208, 1.8360672256600128, 1.4556352391927854, 1.6187272091917702], \"thickness\": 0.5, \"type\": \"data\", \"visible\": true}, \"mode\": \"lines+markers\", \"name\": \"Historical Max Temperature (1984-2018)\", \"type\": \"scatter\", \"x\": [\"Nov-1\", \"Nov-2\", \"Nov-3\", \"Nov-4\", \"Nov-5\", \"Nov-6\", \"Nov-7\", \"Nov-8\", \"Nov-9\", \"Nov-10\", \"Nov-11\", \"Nov-12\", \"Nov-13\", \"Nov-14\", \"Nov-15\", \"Nov-16\", \"Nov-17\", \"Nov-18\", \"Nov-19\", \"Nov-20\", \"Nov-21\", \"Nov-22\", \"Nov-23\", \"Nov-24\", \"Nov-25\", \"Nov-26\", \"Nov-27\", \"Nov-28\", \"Nov-29\", \"Nov-30\", \"Dec-1\", \"Dec-2\", \"Dec-3\", \"Dec-4\", \"Dec-5\", \"Dec-6\", \"Dec-7\", \"Dec-8\", \"Dec-9\", \"Dec-10\", \"Dec-11\", \"Dec-12\", \"Dec-13\", \"Dec-14\", \"Dec-15\", \"Dec-16\", \"Dec-17\", \"Dec-18\", \"Dec-19\", \"Dec-20\", \"Dec-21\", \"Dec-22\", \"Dec-23\", \"Dec-24\", \"Dec-25\", \"Dec-26\", \"Dec-27\", \"Dec-28\", \"Dec-29\", \"Dec-30\", \"Dec-31\", \"Jan-1\", \"Jan-2\", \"Jan-3\", \"Jan-4\", \"Jan-5\", \"Jan-6\", \"Jan-7\", \"Jan-8\", \"Jan-9\", \"Jan-10\", \"Jan-11\", \"Jan-12\", \"Jan-13\", \"Jan-14\", \"Jan-15\", \"Jan-16\", \"Jan-17\", \"Jan-18\", \"Jan-19\", \"Jan-20\", \"Jan-21\", \"Jan-22\", \"Jan-23\", \"Jan-24\", \"Jan-25\", \"Jan-26\", \"Jan-27\", \"Jan-28\", \"Jan-29\", \"Jan-30\", \"Jan-31\", \"Feb-1\", \"Feb-2\", \"Feb-3\", \"Feb-4\", \"Feb-5\", \"Feb-6\", \"Feb-7\", \"Feb-8\", \"Feb-9\", \"Feb-10\", \"Feb-11\", \"Feb-12\", \"Feb-13\", \"Feb-14\", \"Feb-15\", \"Feb-16\", \"Feb-17\", \"Feb-18\", \"Feb-19\", \"Feb-20\", \"Feb-21\", \"Feb-22\", \"Feb-23\", \"Feb-24\", \"Feb-25\", \"Feb-26\", \"Feb-27\", \"Feb-28\", \"Feb-29\"], \"y\": [30.954285714285717, 31.26857142857142, 30.88571428571428, 31.085714285714293, 31.07714285714286, 30.860000000000003, 31.01714285714287, 30.662857142857145, 30.554285714285715, 30.397142857142867, 30.231428571428577, 30.060000000000002, 30.279999999999998, 30.208571428571428, 30.091428571428573, 30.06857142857144, 29.659999999999997, 29.362857142857145, 29.511428571428574, 29.691428571428577, 29.637142857142855, 29.325714285714287, 29.32, 28.99714285714285, 28.951428571428572, 28.774285714285707, 28.865714285714287, 28.534285714285716, 28.434285714285714, 28.340000000000003, 28.42285714285714, 28.26, 28.142857142857142, 28.16, 28.071428571428573, 28.11714285714286, 28.31142857142857, 27.96857142857143, 27.52285714285714, 27.531428571428577, 27.65142857142858, 27.29142857142858, 27.24, 27.057142857142864, 26.63142857142857, 26.954285714285714, 26.32857142857143, 25.877142857142854, 26.445714285714285, 26.619999999999997, 26.294285714285714, 26.13714285714286, 26.04571428571429, 26.13142857142857, 26.03428571428571, 25.840000000000003, 25.67714285714285, 25.377142857142854, 25.422857142857143, 25.608571428571434, 25.520000000000003, 25.42, 25.371428571428567, 25.465714285714284, 25.168571428571433, 24.708571428571428, 24.95714285714286, 25.077142857142857, 25.18857142857143, 24.857142857142858, 24.779999999999998, 24.868571428571425, 24.419999999999998, 24.854285714285716, 25.03142857142857, 25.408571428571435, 25.66857142857143, 25.174285714285716, 25.254285714285725, 25.394285714285715, 25.779999999999994, 25.080000000000005, 25.79428571428572, 25.499999999999996, 26.21714285714286, 26.028571428571432, 25.928571428571427, 26.228571428571435, 26.582857142857147, 26.77142857142857, 27.051428571428573, 27.12857142857143, 27.16, 26.80571428571429, 27.14857142857143, 27.57142857142857, 27.87428571428571, 27.842857142857145, 28.011428571428578, 28.28, 28.271428571428572, 28.25142857142857, 28.737142857142857, 28.465714285714284, 28.640000000000004, 28.702857142857148, 28.888571428571428, 28.891428571428566, 28.651428571428575, 29.011428571428578, 29.162857142857142, 28.885714285714283, 29.231428571428573, 29.42571428571429, 29.399999999999995, 29.705714285714294, 30.019999999999996, 30.04857142857143, 29.894285714285726, 30.46285714285714, 29.755555555555556]}, {\"error_y\": {\"array\": [1.9167637291219042, 1.7083187469487278, 1.7244899379870238, 1.6157938964999186, 1.5360923904286397, 1.440605614946411, 1.5734936774392123, 2.0391957551277646, 1.8596873325346694, 2.2358687894636127, 2.162172887777168, 1.7388782243134795, 2.0234632097828076, 1.8019503905724021, 2.462362055173102, 1.8744724748108543, 2.52064417536937, 2.044702110990517, 2.0963233120326237, 1.9639909633706776, 2.0172158198530825, 1.6985015640337844, 1.7768019614138304, 1.8839793393932174, 1.8092061493252503, 1.8050489413509734, 1.6863017065098853, 1.6106786502234747, 1.9938856115466532, 2.6201449700093966, 1.819340539866025, 1.9597118635746666, 2.072833484740679, 1.9174256200445852, 1.6112785257040316, 1.781336482494407, 1.638378989820644, 1.997792899824262, 2.0857459419722675, 2.0357023440605078, 2.1238620284675718, 1.9616833793128465, 2.008155640290427, 2.1786666186670507, 1.8888438507290577, 1.6113202478639903, 2.107142714712999, 2.0171449996417787, 1.9061466255205008, 2.2762456189188063, 2.03518215070657, 2.0735549792809547, 1.8754047182256044, 1.980802825102179, 1.6939685391897648, 1.7849605131804587, 1.6097288252237705, 1.9007870992403795, 1.867420816045939, 1.692559098678982, 1.3901514336227405, 1.720889939791023, 2.283234474132157, 2.3926076629007587, 2.3375452181848426, 1.9669239731027703, 1.5611727976754144, 2.044718550211699, 2.0708176438995576, 2.6140120167148075, 2.574170340357543, 2.3143251371266165, 2.5793230823270688, 2.457446238843634, 1.9878285099258302, 2.002217258336325, 2.3862456007768547, 2.183963708258815, 2.333310123934189, 2.4421646273801625, 2.5901786058270253, 2.6953960124377914, 2.4491878262810634, 2.536788149934294, 2.594175764893286, 2.2500158729598843, 2.389497327680363, 2.266867679338662, 2.4880994062661936, 2.2648316018799166, 2.0539488509583057, 2.2319038863676885, 2.6110366916307433, 2.9961543979692684, 2.744595912459442, 2.4252453744003764, 2.454058548882756, 2.5981150245268725, 2.3339943041414446, 2.4846926326995855, 2.49283005451079, 2.6932689206597247, 1.9322343056070364, 2.319544290218601, 2.792252185764667, 2.5996929359723504, 2.68199724901005, 2.8796008126711135, 3.096332881155443, 3.1443480039187612, 3.187217115474952, 2.6055757924274694, 2.9124479293502357, 2.8502100762911478, 3.015887901088629, 3.128642415065124, 3.2454104633513228, 3.4214032209022074, 3.2043903705789067, 2.8119851536239797, 3.3494195185302056], \"thickness\": 0.5, \"type\": \"data\", \"visible\": true}, \"mode\": \"lines+markers\", \"name\": \"Historical Min Temperature (1984-2018)\", \"type\": \"scatter\", \"x\": [\"Nov-1\", \"Nov-2\", \"Nov-3\", \"Nov-4\", \"Nov-5\", \"Nov-6\", \"Nov-7\", \"Nov-8\", \"Nov-9\", \"Nov-10\", \"Nov-11\", \"Nov-12\", \"Nov-13\", \"Nov-14\", \"Nov-15\", \"Nov-16\", \"Nov-17\", \"Nov-18\", \"Nov-19\", \"Nov-20\", \"Nov-21\", \"Nov-22\", \"Nov-23\", \"Nov-24\", \"Nov-25\", \"Nov-26\", \"Nov-27\", \"Nov-28\", \"Nov-29\", \"Nov-30\", \"Dec-1\", \"Dec-2\", \"Dec-3\", \"Dec-4\", \"Dec-5\", \"Dec-6\", \"Dec-7\", \"Dec-8\", \"Dec-9\", \"Dec-10\", \"Dec-11\", \"Dec-12\", \"Dec-13\", \"Dec-14\", \"Dec-15\", \"Dec-16\", \"Dec-17\", \"Dec-18\", \"Dec-19\", \"Dec-20\", \"Dec-21\", \"Dec-22\", \"Dec-23\", \"Dec-24\", \"Dec-25\", \"Dec-26\", \"Dec-27\", \"Dec-28\", \"Dec-29\", \"Dec-30\", \"Dec-31\", \"Jan-1\", \"Jan-2\", \"Jan-3\", \"Jan-4\", \"Jan-5\", \"Jan-6\", \"Jan-7\", \"Jan-8\", \"Jan-9\", \"Jan-10\", \"Jan-11\", \"Jan-12\", \"Jan-13\", \"Jan-14\", \"Jan-15\", \"Jan-16\", \"Jan-17\", \"Jan-18\", \"Jan-19\", \"Jan-20\", \"Jan-21\", \"Jan-22\", \"Jan-23\", \"Jan-24\", \"Jan-25\", \"Jan-26\", \"Jan-27\", \"Jan-28\", \"Jan-29\", \"Jan-30\", \"Jan-31\", \"Feb-1\", \"Feb-2\", \"Feb-3\", \"Feb-4\", \"Feb-5\", \"Feb-6\", \"Feb-7\", \"Feb-8\", \"Feb-9\", \"Feb-10\", \"Feb-11\", \"Feb-12\", \"Feb-13\", \"Feb-14\", \"Feb-15\", \"Feb-16\", \"Feb-17\", \"Feb-18\", \"Feb-19\", \"Feb-20\", \"Feb-21\", \"Feb-22\", \"Feb-23\", \"Feb-24\", \"Feb-25\", \"Feb-26\", \"Feb-27\", \"Feb-28\", \"Feb-29\"], \"y\": [21.888571428571424, 21.86, 21.928571428571427, 21.545714285714286, 21.55714285714286, 21.27714285714286, 21.300000000000004, 20.985714285714284, 20.674285714285713, 20.417142857142853, 20.197142857142854, 19.757142857142856, 19.617142857142863, 19.405714285714286, 19.517142857142854, 19.06, 19.739999999999995, 19.35142857142857, 18.811428571428568, 18.625714285714288, 18.328571428571426, 17.525714285714287, 17.365714285714287, 17.43428571428571, 17.397142857142857, 17.134285714285717, 16.714285714285715, 16.64285714285714, 16.297142857142855, 16.511428571428567, 16.300000000000004, 16.32, 15.942857142857143, 15.677142857142854, 15.67142857142857, 15.451428571428577, 15.357142857142858, 15.4, 15.571428571428571, 15.365714285714288, 15.445714285714287, 15.29428571428571, 15.071428571428571, 15.04, 14.685714285714285, 14.22, 14.162857142857144, 14.422857142857143, 14.468571428571432, 14.16, 13.954285714285714, 13.808571428571431, 13.714285714285715, 13.637142857142855, 13.459999999999997, 13.145714285714286, 13.062857142857148, 13.177142857142858, 12.645714285714286, 12.222857142857142, 12.257142857142858, 12.497142857142856, 13.04857142857143, 12.83142857142857, 12.7, 12.334285714285715, 12.025714285714285, 12.602857142857145, 12.537142857142854, 12.54, 12.680000000000001, 12.14857142857143, 11.894285714285713, 11.951428571428574, 11.917142857142855, 12.177142857142856, 12.56285714285714, 12.897142857142857, 12.191428571428569, 12.262857142857143, 12.554285714285713, 12.61142857142857, 12.017142857142858, 12.200000000000001, 12.32857142857143, 12.091428571428573, 11.902857142857144, 11.888571428571428, 12.362857142857143, 12.737142857142857, 13.079999999999997, 13.308571428571431, 13.868571428571425, 14.219999999999999, 14.188571428571427, 13.937142857142858, 14.037142857142856, 14.425714285714289, 14.42, 14.557142857142857, 15.285714285714286, 15.34285714285714, 15.199999999999998, 15.397142857142857, 15.425714285714285, 15.957142857142854, 16.642857142857146, 16.17142857142857, 16.648571428571426, 16.931428571428572, 16.64, 16.245714285714282, 17.0, 17.157142857142855, 17.49714285714285, 17.242857142857144, 17.071428571428573, 18.25999999999999, 18.11999999999999, 17.95428571428571, 17.688888888888886]}, {\"marker\": {\"size\": 8}, \"mode\": \"lines+markers\", \"name\": \"Observed Max Temperature (2019)\", \"type\": \"scatter\", \"x\": [\"Nov-1\", \"Nov-2\", \"Nov-3\", \"Nov-4\", \"Nov-5\", \"Nov-6\", \"Nov-7\", \"Nov-8\", \"Nov-9\", \"Nov-10\", \"Nov-11\", \"Nov-12\", \"Nov-13\", \"Nov-14\", \"Nov-15\", \"Nov-16\", \"Nov-17\", \"Nov-18\", \"Nov-19\", \"Nov-20\", \"Nov-21\", \"Nov-22\", \"Nov-23\", \"Nov-24\", \"Nov-25\", \"Nov-26\", \"Nov-27\", \"Nov-28\", \"Nov-29\", \"Nov-30\", \"Dec-1\", \"Dec-2\", \"Dec-3\", \"Dec-4\", \"Dec-5\", \"Dec-6\", \"Dec-7\", \"Dec-8\", \"Dec-9\", \"Dec-10\", \"Dec-11\", \"Dec-12\", \"Dec-13\", \"Dec-14\", \"Dec-15\", \"Dec-16\", \"Dec-17\", \"Dec-18\", \"Dec-19\", \"Dec-20\", \"Dec-21\", \"Dec-22\", \"Dec-23\", \"Dec-24\", \"Dec-25\", \"Dec-26\", \"Dec-27\", \"Dec-28\", \"Dec-29\", \"Dec-30\", \"Dec-31\", \"Jan-1\", \"Jan-2\", \"Jan-3\", \"Jan-4\", \"Jan-5\", \"Jan-6\", \"Jan-7\", \"Jan-8\", \"Jan-9\", \"Jan-10\", \"Jan-11\", \"Jan-12\", \"Jan-13\", \"Jan-14\", \"Jan-15\", \"Jan-16\", \"Jan-17\", \"Jan-18\", \"Jan-19\", \"Jan-20\", \"Jan-21\", \"Jan-22\", \"Jan-23\", \"Jan-24\", \"Jan-25\", \"Jan-26\", \"Jan-27\", \"Jan-28\", \"Jan-29\", \"Jan-30\", \"Jan-31\", \"Feb-1\", \"Feb-2\", \"Feb-3\", \"Feb-4\", \"Feb-5\", \"Feb-6\", \"Feb-7\", \"Feb-8\", \"Feb-9\", \"Feb-10\", \"Feb-11\", \"Feb-12\", \"Feb-13\", \"Feb-14\", \"Feb-15\", \"Feb-16\", \"Feb-17\", \"Feb-18\", \"Feb-19\", \"Feb-20\", \"Feb-21\", \"Feb-22\", \"Feb-23\", \"Feb-24\", \"Feb-25\", \"Feb-26\", \"Feb-27\", \"Feb-28\", \"Feb-29\"], \"y\": [32.0, 32.2, 32.5, 31.5, 31.8, 30.2, 31.2, 27.5, 25.3, 24.4, 28.9, 31.2, 31.0, 32.3, 32.2, 31.0, 30.2, 29.8, 29.9, 30.5, 29.4, 29.5, 28.8, 29.0, 29.4, 30.9, 31.0, 30.9, 31.8, 30.4, 28.5, 28.3, 27.5, 27.2, 29.3, 30.8, 30.0, 28.7, 29.5, 28.0, 26.7, 27.0, 26.7, 27.5, 28.0, 27.2, 27.0, null, null, null, null, null, null, null, null, null, null, null, null, null, null, null, null, null, null, null, null, null, null, null, null, null, null, null, null, null, null, null, null, null, null, null, null, null, null, null, null, null, null, null, null, null, null, null, null, null, null, null, null, null, null, null, null, null, null, null, null, null, null, null, null, null, null, null, null, null, null, null, null, null, null]}, {\"marker\": {\"size\": 8}, \"mode\": \"lines+markers\", \"name\": \"Observed Min Temperature (2019)\", \"type\": \"scatter\", \"x\": [\"Nov-1\", \"Nov-2\", \"Nov-3\", \"Nov-4\", \"Nov-5\", \"Nov-6\", \"Nov-7\", \"Nov-8\", \"Nov-9\", \"Nov-10\", \"Nov-11\", \"Nov-12\", \"Nov-13\", \"Nov-14\", \"Nov-15\", \"Nov-16\", \"Nov-17\", \"Nov-18\", \"Nov-19\", \"Nov-20\", \"Nov-21\", \"Nov-22\", \"Nov-23\", \"Nov-24\", \"Nov-25\", \"Nov-26\", \"Nov-27\", \"Nov-28\", \"Nov-29\", \"Nov-30\", \"Dec-1\", \"Dec-2\", \"Dec-3\", \"Dec-4\", \"Dec-5\", \"Dec-6\", \"Dec-7\", \"Dec-8\", \"Dec-9\", \"Dec-10\", \"Dec-11\", \"Dec-12\", \"Dec-13\", \"Dec-14\", \"Dec-15\", \"Dec-16\", \"Dec-17\", \"Dec-18\", \"Dec-19\", \"Dec-20\", \"Dec-21\", \"Dec-22\", \"Dec-23\", \"Dec-24\", \"Dec-25\", \"Dec-26\", \"Dec-27\", \"Dec-28\", \"Dec-29\", \"Dec-30\", \"Dec-31\", \"Jan-1\", \"Jan-2\", \"Jan-3\", \"Jan-4\", \"Jan-5\", \"Jan-6\", \"Jan-7\", \"Jan-8\", \"Jan-9\", \"Jan-10\", \"Jan-11\", \"Jan-12\", \"Jan-13\", \"Jan-14\", \"Jan-15\", \"Jan-16\", \"Jan-17\", \"Jan-18\", \"Jan-19\", \"Jan-20\", \"Jan-21\", \"Jan-22\", \"Jan-23\", \"Jan-24\", \"Jan-25\", \"Jan-26\", \"Jan-27\", \"Jan-28\", \"Jan-29\", \"Jan-30\", \"Jan-31\", \"Feb-1\", \"Feb-2\", \"Feb-3\", \"Feb-4\", \"Feb-5\", \"Feb-6\", \"Feb-7\", \"Feb-8\", \"Feb-9\", \"Feb-10\", \"Feb-11\", \"Feb-12\", \"Feb-13\", \"Feb-14\", \"Feb-15\", \"Feb-16\", \"Feb-17\", \"Feb-18\", \"Feb-19\", \"Feb-20\", \"Feb-21\", \"Feb-22\", \"Feb-23\", \"Feb-24\", \"Feb-25\", \"Feb-26\", \"Feb-27\", \"Feb-28\", \"Feb-29\"], \"y\": [21.6, 21.5, 20.8, 21.2, 21.3, 21.5, 20.2, 24.4, 22.8, 23.2, 22.2, 20.5, 20.5, 20.0, 19.8, 19.6, 19.6, 19.0, 18.0, 18.3, 16.8, 17.8, 18.4, 18.2, 18.4, 18.0, 17.8, 17.7, 17.7, 17.5, 17.6, 16.7, 14.4, 15.0, 14.7, 15.6, 16.1, 16.2, 16.6, 15.9, 14.4, 15.2, 14.0, 14.3, 15.5, 15.5, 15.1, 14.8, null, null, null, null, null, null, null, null, null, null, null, null, null, null, null, null, null, null, null, null, null, null, null, null, null, null, null, null, null, null, null, null, null, null, null, null, null, null, null, null, null, null, null, null, null, null, null, null, null, null, null, null, null, null, null, null, null, null, null, null, null, null, null, null, null, null, null, null, null, null, null, null, null]}],\n",
              "                        {\"hovermode\": \"closest\", \"template\": {\"data\": {\"bar\": [{\"error_x\": {\"color\": \"#2a3f5f\"}, \"error_y\": {\"color\": \"#2a3f5f\"}, \"marker\": {\"line\": {\"color\": \"#E5ECF6\", \"width\": 0.5}}, \"type\": \"bar\"}], \"barpolar\": [{\"marker\": {\"line\": {\"color\": \"#E5ECF6\", \"width\": 0.5}}, \"type\": \"barpolar\"}], \"carpet\": [{\"aaxis\": {\"endlinecolor\": \"#2a3f5f\", \"gridcolor\": \"white\", \"linecolor\": \"white\", \"minorgridcolor\": \"white\", \"startlinecolor\": \"#2a3f5f\"}, \"baxis\": {\"endlinecolor\": \"#2a3f5f\", \"gridcolor\": \"white\", \"linecolor\": \"white\", \"minorgridcolor\": \"white\", \"startlinecolor\": \"#2a3f5f\"}, \"type\": \"carpet\"}], \"choropleth\": [{\"colorbar\": {\"outlinewidth\": 0, \"ticks\": \"\"}, \"type\": \"choropleth\"}], \"contour\": [{\"colorbar\": {\"outlinewidth\": 0, \"ticks\": \"\"}, \"colorscale\": [[0.0, \"#0d0887\"], [0.1111111111111111, \"#46039f\"], [0.2222222222222222, \"#7201a8\"], [0.3333333333333333, \"#9c179e\"], [0.4444444444444444, \"#bd3786\"], [0.5555555555555556, \"#d8576b\"], [0.6666666666666666, \"#ed7953\"], [0.7777777777777778, \"#fb9f3a\"], [0.8888888888888888, \"#fdca26\"], [1.0, \"#f0f921\"]], \"type\": \"contour\"}], \"contourcarpet\": [{\"colorbar\": {\"outlinewidth\": 0, \"ticks\": \"\"}, \"type\": \"contourcarpet\"}], \"heatmap\": [{\"colorbar\": {\"outlinewidth\": 0, \"ticks\": \"\"}, \"colorscale\": [[0.0, \"#0d0887\"], [0.1111111111111111, \"#46039f\"], [0.2222222222222222, \"#7201a8\"], [0.3333333333333333, \"#9c179e\"], [0.4444444444444444, \"#bd3786\"], [0.5555555555555556, \"#d8576b\"], [0.6666666666666666, \"#ed7953\"], [0.7777777777777778, \"#fb9f3a\"], [0.8888888888888888, \"#fdca26\"], [1.0, \"#f0f921\"]], \"type\": \"heatmap\"}], \"heatmapgl\": [{\"colorbar\": {\"outlinewidth\": 0, \"ticks\": \"\"}, \"colorscale\": [[0.0, \"#0d0887\"], [0.1111111111111111, \"#46039f\"], [0.2222222222222222, \"#7201a8\"], [0.3333333333333333, \"#9c179e\"], [0.4444444444444444, \"#bd3786\"], [0.5555555555555556, \"#d8576b\"], [0.6666666666666666, \"#ed7953\"], [0.7777777777777778, \"#fb9f3a\"], [0.8888888888888888, \"#fdca26\"], [1.0, \"#f0f921\"]], \"type\": \"heatmapgl\"}], \"histogram\": [{\"marker\": {\"colorbar\": {\"outlinewidth\": 0, \"ticks\": \"\"}}, \"type\": \"histogram\"}], \"histogram2d\": [{\"colorbar\": {\"outlinewidth\": 0, \"ticks\": \"\"}, \"colorscale\": [[0.0, \"#0d0887\"], [0.1111111111111111, \"#46039f\"], [0.2222222222222222, \"#7201a8\"], [0.3333333333333333, \"#9c179e\"], [0.4444444444444444, \"#bd3786\"], [0.5555555555555556, \"#d8576b\"], [0.6666666666666666, \"#ed7953\"], [0.7777777777777778, \"#fb9f3a\"], [0.8888888888888888, \"#fdca26\"], [1.0, \"#f0f921\"]], \"type\": \"histogram2d\"}], \"histogram2dcontour\": [{\"colorbar\": {\"outlinewidth\": 0, \"ticks\": \"\"}, \"colorscale\": [[0.0, \"#0d0887\"], [0.1111111111111111, \"#46039f\"], [0.2222222222222222, \"#7201a8\"], [0.3333333333333333, \"#9c179e\"], [0.4444444444444444, \"#bd3786\"], [0.5555555555555556, \"#d8576b\"], [0.6666666666666666, \"#ed7953\"], [0.7777777777777778, \"#fb9f3a\"], [0.8888888888888888, \"#fdca26\"], [1.0, \"#f0f921\"]], \"type\": \"histogram2dcontour\"}], \"mesh3d\": [{\"colorbar\": {\"outlinewidth\": 0, \"ticks\": \"\"}, \"type\": \"mesh3d\"}], \"parcoords\": [{\"line\": {\"colorbar\": {\"outlinewidth\": 0, \"ticks\": \"\"}}, \"type\": \"parcoords\"}], \"scatter\": [{\"marker\": {\"colorbar\": {\"outlinewidth\": 0, \"ticks\": \"\"}}, \"type\": \"scatter\"}], \"scatter3d\": [{\"line\": {\"colorbar\": {\"outlinewidth\": 0, \"ticks\": \"\"}}, \"marker\": {\"colorbar\": {\"outlinewidth\": 0, \"ticks\": \"\"}}, \"type\": \"scatter3d\"}], \"scattercarpet\": [{\"marker\": {\"colorbar\": {\"outlinewidth\": 0, \"ticks\": \"\"}}, \"type\": \"scattercarpet\"}], \"scattergeo\": [{\"marker\": {\"colorbar\": {\"outlinewidth\": 0, \"ticks\": \"\"}}, \"type\": \"scattergeo\"}], \"scattergl\": [{\"marker\": {\"colorbar\": {\"outlinewidth\": 0, \"ticks\": \"\"}}, \"type\": \"scattergl\"}], \"scattermapbox\": [{\"marker\": {\"colorbar\": {\"outlinewidth\": 0, \"ticks\": \"\"}}, \"type\": \"scattermapbox\"}], \"scatterpolar\": [{\"marker\": {\"colorbar\": {\"outlinewidth\": 0, \"ticks\": \"\"}}, \"type\": \"scatterpolar\"}], \"scatterpolargl\": [{\"marker\": {\"colorbar\": {\"outlinewidth\": 0, \"ticks\": \"\"}}, \"type\": \"scatterpolargl\"}], \"scatterternary\": [{\"marker\": {\"colorbar\": {\"outlinewidth\": 0, \"ticks\": \"\"}}, \"type\": \"scatterternary\"}], \"surface\": [{\"colorbar\": {\"outlinewidth\": 0, \"ticks\": \"\"}, \"colorscale\": [[0.0, \"#0d0887\"], [0.1111111111111111, \"#46039f\"], [0.2222222222222222, \"#7201a8\"], [0.3333333333333333, \"#9c179e\"], [0.4444444444444444, \"#bd3786\"], [0.5555555555555556, \"#d8576b\"], [0.6666666666666666, \"#ed7953\"], [0.7777777777777778, \"#fb9f3a\"], [0.8888888888888888, \"#fdca26\"], [1.0, \"#f0f921\"]], \"type\": \"surface\"}], \"table\": [{\"cells\": {\"fill\": {\"color\": \"#EBF0F8\"}, \"line\": {\"color\": \"white\"}}, \"header\": {\"fill\": {\"color\": \"#C8D4E3\"}, \"line\": {\"color\": \"white\"}}, \"type\": \"table\"}]}, \"layout\": {\"annotationdefaults\": {\"arrowcolor\": \"#2a3f5f\", \"arrowhead\": 0, \"arrowwidth\": 1}, \"colorscale\": {\"diverging\": [[0, \"#8e0152\"], [0.1, \"#c51b7d\"], [0.2, \"#de77ae\"], [0.3, \"#f1b6da\"], [0.4, \"#fde0ef\"], [0.5, \"#f7f7f7\"], [0.6, \"#e6f5d0\"], [0.7, \"#b8e186\"], [0.8, \"#7fbc41\"], [0.9, \"#4d9221\"], [1, \"#276419\"]], \"sequential\": [[0.0, \"#0d0887\"], [0.1111111111111111, \"#46039f\"], [0.2222222222222222, \"#7201a8\"], [0.3333333333333333, \"#9c179e\"], [0.4444444444444444, \"#bd3786\"], [0.5555555555555556, \"#d8576b\"], [0.6666666666666666, \"#ed7953\"], [0.7777777777777778, \"#fb9f3a\"], [0.8888888888888888, \"#fdca26\"], [1.0, \"#f0f921\"]], \"sequentialminus\": [[0.0, \"#0d0887\"], [0.1111111111111111, \"#46039f\"], [0.2222222222222222, \"#7201a8\"], [0.3333333333333333, \"#9c179e\"], [0.4444444444444444, \"#bd3786\"], [0.5555555555555556, \"#d8576b\"], [0.6666666666666666, \"#ed7953\"], [0.7777777777777778, \"#fb9f3a\"], [0.8888888888888888, \"#fdca26\"], [1.0, \"#f0f921\"]]}, \"colorway\": [\"#636efa\", \"#EF553B\", \"#00cc96\", \"#ab63fa\", \"#FFA15A\", \"#19d3f3\", \"#FF6692\", \"#B6E880\", \"#FF97FF\", \"#FECB52\"], \"font\": {\"color\": \"#2a3f5f\"}, \"geo\": {\"bgcolor\": \"white\", \"lakecolor\": \"white\", \"landcolor\": \"#E5ECF6\", \"showlakes\": true, \"showland\": true, \"subunitcolor\": \"white\"}, \"hoverlabel\": {\"align\": \"left\"}, \"hovermode\": \"closest\", \"mapbox\": {\"style\": \"light\"}, \"paper_bgcolor\": \"white\", \"plot_bgcolor\": \"#E5ECF6\", \"polar\": {\"angularaxis\": {\"gridcolor\": \"white\", \"linecolor\": \"white\", \"ticks\": \"\"}, \"bgcolor\": \"#E5ECF6\", \"radialaxis\": {\"gridcolor\": \"white\", \"linecolor\": \"white\", \"ticks\": \"\"}}, \"scene\": {\"xaxis\": {\"backgroundcolor\": \"#E5ECF6\", \"gridcolor\": \"white\", \"gridwidth\": 2, \"linecolor\": \"white\", \"showbackground\": true, \"ticks\": \"\", \"zerolinecolor\": \"white\"}, \"yaxis\": {\"backgroundcolor\": \"#E5ECF6\", \"gridcolor\": \"white\", \"gridwidth\": 2, \"linecolor\": \"white\", \"showbackground\": true, \"ticks\": \"\", \"zerolinecolor\": \"white\"}, \"zaxis\": {\"backgroundcolor\": \"#E5ECF6\", \"gridcolor\": \"white\", \"gridwidth\": 2, \"linecolor\": \"white\", \"showbackground\": true, \"ticks\": \"\", \"zerolinecolor\": \"white\"}}, \"shapedefaults\": {\"line\": {\"color\": \"#2a3f5f\"}}, \"ternary\": {\"aaxis\": {\"gridcolor\": \"white\", \"linecolor\": \"white\", \"ticks\": \"\"}, \"baxis\": {\"gridcolor\": \"white\", \"linecolor\": \"white\", \"ticks\": \"\"}, \"bgcolor\": \"#E5ECF6\", \"caxis\": {\"gridcolor\": \"white\", \"linecolor\": \"white\", \"ticks\": \"\"}}, \"title\": {\"x\": 0.05}, \"xaxis\": {\"automargin\": true, \"gridcolor\": \"white\", \"linecolor\": \"white\", \"ticks\": \"\", \"zerolinecolor\": \"white\", \"zerolinewidth\": 2}, \"yaxis\": {\"automargin\": true, \"gridcolor\": \"white\", \"linecolor\": \"white\", \"ticks\": \"\", \"zerolinecolor\": \"white\", \"zerolinewidth\": 2}}}, \"title\": {\"text\": \"Bhola Station Historic vs Observed Temperature\"}, \"xaxis\": {\"title\": {\"text\": \"Days\"}}, \"yaxis\": {\"title\": {\"text\": \"Temperature\"}}},\n",
              "                        {\"responsive\": true}\n",
              "                    ).then(function(){\n",
              "                            \n",
              "var gd = document.getElementById('750f24f5-c95b-466c-8b82-a6f63306f9a5');\n",
              "var x = new MutationObserver(function (mutations, observer) {{\n",
              "        var display = window.getComputedStyle(gd).display;\n",
              "        if (!display || display === 'none') {{\n",
              "            console.log([gd, 'removed!']);\n",
              "            Plotly.purge(gd);\n",
              "            observer.disconnect();\n",
              "        }}\n",
              "}});\n",
              "\n",
              "// Listen for the removal of the full notebook cells\n",
              "var notebookContainer = gd.closest('#notebook-container');\n",
              "if (notebookContainer) {{\n",
              "    x.observe(notebookContainer, {childList: true});\n",
              "}}\n",
              "\n",
              "// Listen for the clearing of the current output cell\n",
              "var outputEl = gd.closest('.output');\n",
              "if (outputEl) {{\n",
              "    x.observe(outputEl, {childList: true});\n",
              "}}\n",
              "\n",
              "                        })\n",
              "                };\n",
              "                \n",
              "            </script>\n",
              "        </div>\n",
              "</body>\n",
              "</html>"
            ]
          },
          "metadata": {
            "tags": []
          }
        }
      ]
    },
    {
      "cell_type": "code",
      "metadata": {
        "id": "hiB8z4cg3yFK",
        "colab_type": "code",
        "colab": {}
      },
      "source": [
        "fig.write_html('/content/drive/My Drive/Colab Notebooks/CIMMYT/191219/191219_bhola(BMDvsKOBO).html')"
      ],
      "execution_count": 0,
      "outputs": []
    },
    {
      "cell_type": "code",
      "metadata": {
        "id": "NKy16jOrIeeD",
        "colab_type": "code",
        "colab": {}
      },
      "source": [
        ""
      ],
      "execution_count": 0,
      "outputs": []
    }
  ]
}